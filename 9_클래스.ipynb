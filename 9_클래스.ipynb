{
  "nbformat": 4,
  "nbformat_minor": 0,
  "metadata": {
    "colab": {
      "name": "9. 클래스.ipynb",
      "provenance": [],
      "collapsed_sections": [],
      "toc_visible": true,
      "authorship_tag": "ABX9TyOwKLmhtmBpqkjstap+UAkY",
      "include_colab_link": true
    },
    "kernelspec": {
      "name": "python3",
      "display_name": "Python 3"
    }
  },
  "cells": [
    {
      "cell_type": "markdown",
      "metadata": {
        "id": "view-in-github",
        "colab_type": "text"
      },
      "source": [
        "<a href=\"https://colab.research.google.com/github/spaceofsilver/python_basic/blob/main/9_%ED%81%B4%EB%9E%98%EC%8A%A4.ipynb\" target=\"_parent\"><img src=\"https://colab.research.google.com/assets/colab-badge.svg\" alt=\"Open In Colab\"/></a>"
      ]
    },
    {
      "cell_type": "markdown",
      "metadata": {
        "id": "ao1a9_mD07LL"
      },
      "source": [
        "\n",
        "# Class"
      ]
    },
    {
      "cell_type": "markdown",
      "metadata": {
        "id": "Sf1nbZAM07Nt"
      },
      "source": [
        "- 개체(entity)\n",
        "  - 이 세상에 존재하는 모든 무형(사고,생각)/유형을 대변\n",
        "  - entity를 프로그램 언어로 표현하기 위해 제공되는 방식 -> 'class'"
      ]
    },
    {
      "cell_type": "markdown",
      "metadata": {
        "id": "IjHEzymx07P6"
      },
      "source": [
        "- 객체(Object)\n",
        "  - 클래스를 메모리에 생성하면, 클래스의 인스턴스가 생성\n",
        "  - 클래스의 인스턴스를 객체라고 부름\n",
        "  - 클래스의 인스턴스는 여러개 존재 가능 = 객체도 여러개 존재 가능\n",
        "  - 객체의 청사진은 클래스 -> 클래스틑 틀, 객체는 붕어빵\n",
        "  - **객체는 메모리 상에 주소를 가진다**\n",
        "  - **변수는 그 주소값을 가짐으로써 해당 객체를 가리키게 된다.**"
      ]
    },
    {
      "cell_type": "markdown",
      "metadata": {
        "id": "xJjV8G1-07Rz"
      },
      "source": [
        "- OOP\n",
        "  - 객체를 이용하여 프로그램을 작성하면 객체 지향 프로그램이라고 한다\n",
        "  - Object Oriented Programming\n",
        "  - OOP는 C++에서 시작 JAVA에서 발전. 대부분의 언어는 객체 지향적 프로그램이다."
      ]
    },
    {
      "cell_type": "markdown",
      "metadata": {
        "id": "t8kOtCoI2VL0"
      },
      "source": [
        "- 클래스(class)\n",
        "  - 객체를 표현하는 문법적인 도구\n",
        "  - class는 멤버로 변수, 함수를 가진다 -> 멤버변수, 멤버함수\n",
        "\n",
        "  - 특징\n",
        "    - 멤버라고 부르는 요소는 무조건 **객체명.멤버변수**, **객체명.멤버함수**라는 형식으로 사용된다.\n",
        "    - 클래스 내부에서 사용될 때는 자기자신 객체 self( python, objective-c ) or this( java, C# )"
      ]
    },
    {
      "cell_type": "code",
      "metadata": {
        "id": "Q2PS7Wwx3juE"
      },
      "source": [
        ""
      ],
      "execution_count": null,
      "outputs": []
    },
    {
      "cell_type": "code",
      "metadata": {
        "id": "DkNWBB-U3jyW"
      },
      "source": [
        "'''\n",
        "class 클래스명[([부모클래스])]:\n",
        "  생성자 -> 객체를 생성될 때 호출되는 함수\n",
        "  \n",
        "  멤버변수\n",
        "\n",
        "  멤버함수\n",
        "\n",
        "  기타(소멸자, 객체설명, ...)\n",
        "'''"
      ],
      "execution_count": null,
      "outputs": []
    },
    {
      "cell_type": "code",
      "metadata": {
        "id": "AptwsXAY33eR"
      },
      "source": [
        "'''\n",
        "class A():  pass    # A 클래스의 부모는 object\n",
        "class A(B): pass    # A 클래스의 부모는 B\n",
        "class A:    pass    # A 클래스의 부모는 object\n",
        "\n",
        "*object는 모든 클래스의 수퍼클래스(근본, 시초, 기원)이다.\n",
        "'''"
      ],
      "execution_count": null,
      "outputs": []
    },
    {
      "cell_type": "code",
      "metadata": {
        "id": "q0J30FWK48fy"
      },
      "source": [
        "# 클래스 기본 구성\n",
        "\n",
        "# 사람이라는 엔티티를 파이썬으로 묘사해보기\n",
        "# 속성: 나이,이름, 키, 몸무게   -> 멤버 변수\n",
        "# 행동: 밥먹기, 잠자기, 걷기    -> 멤버 함수\n",
        "\n",
        "# 클래스명은 보편적으로 첫글자를 \"대문자\"로 기술한다. 암묵적인 rule\n",
        "# 클래스 정의\n",
        "class Person:\n",
        "  pass #부모가 object"
      ],
      "execution_count": null,
      "outputs": []
    },
    {
      "cell_type": "code",
      "metadata": {
        "colab": {
          "base_uri": "https://localhost:8080/"
        },
        "id": "nbN2lZkI48jv",
        "outputId": "2ac3614c-7388-4031-c9f9-5f4ae8e24e26"
      },
      "source": [
        "# 클래스를 사용하고 싶다면, 클래스의 인스턴스를 생성해야함 => 객체\n",
        "# \"이것이 객체\"\n",
        "\n",
        "# 생성법: 클래스명()\n",
        "p = Person() # 객체의 주소 \n",
        "\n",
        "# 객체가 만들어지면 주소가 리턴에 되고 이 주소를 변수가 받아, 이 후로는 그 변수를 객체라고 부름\n",
        "# -> Person 객체 p라고 부른다.\n",
        "p # <__main__.Person at 0x7f41a1c92630>\n",
        "  # <__main__.Person at 0x7f41a1c92ba8>"
      ],
      "execution_count": null,
      "outputs": [
        {
          "output_type": "execute_result",
          "data": {
            "text/plain": [
              "<__main__.Person at 0x7f41a1c3f2e8>"
            ]
          },
          "metadata": {
            "tags": []
          },
          "execution_count": 11
        }
      ]
    },
    {
      "cell_type": "code",
      "metadata": {
        "id": "LAy2WQMy48nv"
      },
      "source": [
        "# 소멸 : 참조 끊기\n",
        "del p"
      ],
      "execution_count": null,
      "outputs": []
    },
    {
      "cell_type": "code",
      "metadata": {
        "id": "mYEl-WIt6zAd"
      },
      "source": [
        "# 클래스의 구성요소를 더 추가\n",
        "# 클래스 내에서 존재하는 모든 함수들은 1번 인자가 무조건 self이다( ! 중요 )\n",
        "# 단 아닌 함수도 존재(정적함수 -> 다음주)\n",
        "class Person:\n",
        "  '''\n",
        "    멤버변수\n",
        "  '''\n",
        "  age = None\n",
        "  name = None\n",
        "  '''\n",
        "    생성자  -> 객체 생성, 멤버 변수 초기화, 객체 생성시 전달되는 값 처리.\n",
        "            -> 부모 생성자 호출 및 데이터 전달도 간혹 한다.\n",
        "  '''\n",
        "  def __init__(self):\n",
        "    print('생성자 호출')\n",
        "  '''\n",
        "    멤버함수\n",
        "  '''\n",
        "  def eat(self):\n",
        "    print('밥먹기')\n",
        "\n",
        "  def walk(self):\n",
        "    print('걷기')"
      ],
      "execution_count": null,
      "outputs": []
    },
    {
      "cell_type": "code",
      "metadata": {
        "colab": {
          "base_uri": "https://localhost:8080/"
        },
        "id": "-OiW3Q0k6zDo",
        "outputId": "b416bd96-560c-48a8-80fd-55a53597d840"
      },
      "source": [
        "# 객체명.멤버변수, 객체명.멤버함수로 클래스는 사용된다. \n",
        "p = Person()\n",
        "p.walk()\n",
        "p.eat()"
      ],
      "execution_count": null,
      "outputs": [
        {
          "output_type": "stream",
          "text": [
            "생성자 호출\n",
            "걷기\n",
            "밥먹기\n"
          ],
          "name": "stdout"
        }
      ]
    },
    {
      "cell_type": "code",
      "metadata": {
        "colab": {
          "base_uri": "https://localhost:8080/"
        },
        "id": "w8yA-9i_87Cu",
        "outputId": "967ebf08-0a82-46c2-f654-b92567fb7a1e"
      },
      "source": [
        "p.age , p.name"
      ],
      "execution_count": null,
      "outputs": [
        {
          "output_type": "execute_result",
          "data": {
            "text/plain": [
              "(None, None)"
            ]
          },
          "metadata": {
            "tags": []
          },
          "execution_count": 22
        }
      ]
    },
    {
      "cell_type": "code",
      "metadata": {
        "id": "7-UTh2Wn9E7Q"
      },
      "source": [
        "class Person:\n",
        "  age = None\n",
        "  name = None\n",
        "  def __init__(self, age, name):\n",
        "    print('생성자 호출')\n",
        "    self.age = age    # 멤버변수 = 지역변수\n",
        "    self.name = name  # 멤버변수 = 지역변수\n",
        "  def eat(self):\n",
        "    print('밥먹기')\n",
        "  def walk(self):\n",
        "    print('걷기')"
      ],
      "execution_count": null,
      "outputs": []
    },
    {
      "cell_type": "code",
      "metadata": {
        "colab": {
          "base_uri": "https://localhost:8080/"
        },
        "id": "Fg4a9f3q9E-i",
        "outputId": "bff73fb1-062b-4c26-eab5-8fcc234a7859"
      },
      "source": [
        "p = Person(23, 'eunseo')\n",
        "p.age, p.name"
      ],
      "execution_count": null,
      "outputs": [
        {
          "output_type": "stream",
          "text": [
            "생성자 호출\n"
          ],
          "name": "stdout"
        },
        {
          "output_type": "execute_result",
          "data": {
            "text/plain": [
              "(23, 'eunseo')"
            ]
          },
          "metadata": {
            "tags": []
          },
          "execution_count": 27
        }
      ]
    },
    {
      "cell_type": "markdown",
      "metadata": {
        "id": "FTKem5I-2VHV"
      },
      "source": [
        "# 상속"
      ]
    },
    {
      "cell_type": "markdown",
      "metadata": {
        "id": "mGJL79rJ2VJ8"
      },
      "source": [
        "- 부모 클래스와 자식 클래스\n",
        "- OOP의 특징 중 하나\n",
        "- 자식은 부모의 자원을 그대로 사용 가능\n",
        "- 부모의 유산을 재정의 할 수 있다\n",
        "- 자식은 요소들을 별도로 추가할 수 있다\n",
        "- 자식 is a 부모\n",
        "- 부모 has a 자식"
      ]
    },
    {
      "cell_type": "code",
      "metadata": {
        "id": "yDSsj3-72UkF"
      },
      "source": [
        "# 상속 <-> 추상화( Xman3 -> Xman2 -> Person -> Object )\n",
        "class Xman(Person): # 부모 지정\n",
        "  pass"
      ],
      "execution_count": null,
      "outputs": []
    },
    {
      "cell_type": "code",
      "metadata": {
        "colab": {
          "base_uri": "https://localhost:8080/"
        },
        "id": "NODFrhczCvmV",
        "outputId": "acb95781-a55a-40fa-e071-71c9c94c2a14"
      },
      "source": [
        "# (1) 자식은 부모의 자원을 그대로 사용 가능하다.\n",
        "\n",
        "# 생성\n",
        "xm = Xman(100, 'aquaman')\n",
        "# 실행\n",
        "xm.name, xm.age"
      ],
      "execution_count": null,
      "outputs": [
        {
          "output_type": "stream",
          "text": [
            "생성자 호출\n"
          ],
          "name": "stdout"
        },
        {
          "output_type": "execute_result",
          "data": {
            "text/plain": [
              "('aquaman', 100)"
            ]
          },
          "metadata": {
            "tags": []
          },
          "execution_count": 30
        }
      ]
    },
    {
      "cell_type": "code",
      "metadata": {
        "colab": {
          "base_uri": "https://localhost:8080/"
        },
        "id": "tc8-Jp0tDM2F",
        "outputId": "c46d4b06-761c-4ca7-8412-c73bf4780242"
      },
      "source": [
        "# (2) 부모의 유산을 재정의 할 수 있다: 함수의 내부를 새로 구성(overwrite)\n",
        "\n",
        "# 생성\n",
        "class Xman2(Person):\n",
        "  # 함수 재정의\n",
        "  def walk(self):     \n",
        "    print(f'{self.name}은/는 시속 100k/m로 걷는다')\n",
        "# 실행\n",
        "xm2 = Xman2( 99, 'Ironman')\n",
        "xm2.walk()"
      ],
      "execution_count": null,
      "outputs": [
        {
          "output_type": "stream",
          "text": [
            "생성자 호출\n",
            "Ironman은/는 시속 100k/m로 걷는다\n"
          ],
          "name": "stdout"
        }
      ]
    },
    {
      "cell_type": "code",
      "metadata": {
        "colab": {
          "base_uri": "https://localhost:8080/"
        },
        "id": "CeAieiM1DM5v",
        "outputId": "0273c0fe-a1eb-4385-aad2-d2ed67aad61f"
      },
      "source": [
        "# (3) 자식은 요소들을 별도로 추가할 수 있다\n",
        "\n",
        "class Xman3(Xman2):\n",
        "  # <멤버와 함수를 하나식 추가하기>\n",
        "  weapon = '갈고리' # 멤버변수 추가\n",
        "  \n",
        "  def attack(self): # 멤버함수 추가\n",
        "    print('할퀴기')\n",
        "  \n",
        "# 실행\n",
        "xm3 = Xman3(80, 'Hella')\n",
        "xm3.weapon\n",
        "xm3.attack()"
      ],
      "execution_count": null,
      "outputs": [
        {
          "output_type": "stream",
          "text": [
            "생성자 호출\n",
            "할퀴기\n"
          ],
          "name": "stdout"
        }
      ]
    },
    {
      "cell_type": "code",
      "metadata": {
        "colab": {
          "base_uri": "https://localhost:8080/",
          "height": 35
        },
        "id": "w1M6zagNF6bf",
        "outputId": "e9ed83d5-bc00-4027-c17a-066d96257e1b"
      },
      "source": [
        "# 멤버변수 수정\n",
        "xm3.weapon = '철 갈고리'\n",
        "xm3.weapon"
      ],
      "execution_count": null,
      "outputs": [
        {
          "output_type": "execute_result",
          "data": {
            "application/vnd.google.colaboratory.intrinsic+json": {
              "type": "string"
            },
            "text/plain": [
              "'철 갈고리'"
            ]
          },
          "metadata": {
            "tags": []
          },
          "execution_count": 40
        }
      ]
    },
    {
      "cell_type": "markdown",
      "metadata": {
        "id": "8JcdxFFIFaq5"
      },
      "source": [
        "# 객체 지향 프로그램\n",
        "\n",
        "- Q. OOP를 통해 얻는 이익?\n",
        "\n",
        "- A.\n",
        "- 1. 버전 **업그레이드**시 상속받고 추가, 재정의하면 된다.\n",
        "- 2. 각 기능별 클래스로 설계하여 **모듈화** 할 수 있다(부속화 할 수 있다) -> **효율성** 증대"
      ]
    },
    {
      "cell_type": "code",
      "metadata": {
        "id": "sddyXefmDM9q"
      },
      "source": [
        "# 객체지향 프로그램을 통해 얻는 이익?"
      ],
      "execution_count": null,
      "outputs": []
    },
    {
      "cell_type": "code",
      "metadata": {
        "colab": {
          "base_uri": "https://localhost:8080/"
        },
        "id": "kwtt6kBIDNAm",
        "outputId": "2a0afdfe-0217-46c8-bd5a-626f8197705b"
      },
      "source": [
        "game_name =  False\n",
        "\n",
        "if not game_name:\n",
        "  print('nothing')\n",
        "else:\n",
        "  print(\"it's normal value\")"
      ],
      "execution_count": null,
      "outputs": [
        {
          "output_type": "stream",
          "text": [
            "nothing\n"
          ],
          "name": "stdout"
        }
      ]
    },
    {
      "cell_type": "code",
      "metadata": {
        "id": "mFin-wbDDND2"
      },
      "source": [
        ""
      ],
      "execution_count": null,
      "outputs": []
    }
  ]
}