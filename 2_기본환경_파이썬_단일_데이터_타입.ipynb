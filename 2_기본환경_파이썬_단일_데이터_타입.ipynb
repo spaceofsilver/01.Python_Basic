{
  "nbformat": 4,
  "nbformat_minor": 0,
  "metadata": {
    "colab": {
      "name": "2. 기본환경_파이썬 단일 데이터 타입.ipynb",
      "provenance": [],
      "collapsed_sections": [],
      "authorship_tag": "ABX9TyPWqnpRpWi86heG5PmRSKv3",
      "include_colab_link": true
    },
    "kernelspec": {
      "name": "python3",
      "display_name": "Python 3"
    }
  },
  "cells": [
    {
      "cell_type": "markdown",
      "metadata": {
        "id": "view-in-github",
        "colab_type": "text"
      },
      "source": [
        "<a href=\"https://colab.research.google.com/github/spaceofsilver/python_basic/blob/main/2_%EA%B8%B0%EB%B3%B8%ED%99%98%EA%B2%BD_%ED%8C%8C%EC%9D%B4%EC%8D%AC_%EB%8B%A8%EC%9D%BC_%EB%8D%B0%EC%9D%B4%ED%84%B0_%ED%83%80%EC%9E%85.ipynb\" target=\"_parent\"><img src=\"https://colab.research.google.com/assets/colab-badge.svg\" alt=\"Open In Colab\"/></a>"
      ]
    },
    {
      "cell_type": "markdown",
      "metadata": {
        "id": "QKAu_9VS4lc4"
      },
      "source": [
        "# 코랩 환경 이해\n"
      ]
    },
    {
      "cell_type": "markdown",
      "metadata": {
        "id": "EExg1SQn6VF2"
      },
      "source": [
        "## 주석\n"
      ]
    },
    {
      "cell_type": "code",
      "metadata": {
        "id": "p5kr09xW356w"
      },
      "source": [
        "# 파이썬의 주석\n",
        "# 주석(한줄)\n",
        "# 실행은 shift + enter"
      ],
      "execution_count": null,
      "outputs": []
    },
    {
      "cell_type": "code",
      "metadata": {
        "colab": {
          "base_uri": "https://localhost:8080/",
          "height": 35
        },
        "id": "wL-nIT9b46hK",
        "outputId": "1c134e8a-33a3-4796-8c60-c266b1d8483d"
      },
      "source": [
        "# 여러줄 주석( 코드를 설명, 출처, 문의 등의 부가적인 내용을 기술하는 것. )\n",
        "# 실제로 이 표현은 \"문자열\"을 표현한 것. \n",
        "'''\n",
        "여러줄 주석이다.\n",
        "'''\n",
        "\"\"\"\n",
        "이것도 여러줄 주석이다.\n",
        "구조를 유지할 때. 실체는 문자열이나\n",
        "그냥 여기에 존재할뿐 아무도 사용 안 함. 그래서 주석으로 인식됨. -> 클래스에서 많이 만나게 된당\n",
        "\"\"\""
      ],
      "execution_count": null,
      "outputs": [
        {
          "output_type": "execute_result",
          "data": {
            "application/vnd.google.colaboratory.intrinsic+json": {
              "type": "string"
            },
            "text/plain": [
              "'\\n이것도 여러줄 주석이다.\\n구조를 유지할 때. 실체는 문자열이나\\n그냥 여기에 존재할뿐 아무도 사용 안 함. 그래서 주석으로 인식됨.\\n'"
            ]
          },
          "metadata": {
            "tags": []
          },
          "execution_count": 5
        }
      ]
    },
    {
      "cell_type": "markdown",
      "metadata": {
        "id": "Nazv9qGe6cJH"
      },
      "source": [
        "## 매직코드 ( 주피터에서만 사용 가능)\n",
        "\n"
      ]
    },
    {
      "cell_type": "markdown",
      "metadata": {
        "id": "eG1C0E1w9j6l"
      },
      "source": [
        "리눅스 운영체계에서 할 수 있는 것들을 확인할 수 있다"
      ]
    },
    {
      "cell_type": "code",
      "metadata": {
        "colab": {
          "base_uri": "https://localhost:8080/"
        },
        "id": "Ral1JJYf5WHL",
        "outputId": "e996bd7c-b940-4a5c-a517-8d4177fb89eb"
      },
      "source": [
        "# [느낌표] + 명령어\n",
        "# 현재 작업 환경 확인(디렉토리)\n",
        "! ls # 애는 리눅스 환경\n",
        "     # 왼쪽 네번째 파일 -> storage. content -> sample_data"
      ],
      "execution_count": null,
      "outputs": [
        {
          "output_type": "stream",
          "text": [
            "sample_data\n"
          ],
          "name": "stdout"
        }
      ]
    },
    {
      "cell_type": "code",
      "metadata": {
        "colab": {
          "base_uri": "https://localhost:8080/"
        },
        "id": "mOTXbXtY6zlM",
        "outputId": "ab873d92-af9a-4caf-a923-e7d063c70060"
      },
      "source": [
        "# 현재 개발 환경에서 파이썬의 버전 확인 -> 개발 전 버전 확인\n",
        "! python -V"
      ],
      "execution_count": null,
      "outputs": [
        {
          "output_type": "stream",
          "text": [
            "Python 3.6.9\n"
          ],
          "name": "stdout"
        }
      ]
    },
    {
      "cell_type": "code",
      "metadata": {
        "colab": {
          "base_uri": "https://localhost:8080/"
        },
        "id": "ElrBqc1Q8WHH",
        "outputId": "9e042302-57a3-435c-b727-d47c8f938251"
      },
      "source": [
        "# 현재 개발 환경에서 설치된 파이썬 패키지 확인\n",
        "# 내가 뭔가를 개발하려고 하는 데 별도의 패키지(남이 만든것)을 사용해야함\n",
        "# 그것이 현재 환경에 존재하는지 check\n",
        "# if-then, 내가 쓰고 싶은 버전과 일치하는지 확인하는 것.\n",
        "\n",
        "! pip list # 웬만한 패키지는 다 존재."
      ],
      "execution_count": null,
      "outputs": [
        {
          "output_type": "stream",
          "text": [
            "Package                       Version        \n",
            "----------------------------- ---------------\n",
            "absl-py                       0.10.0         \n",
            "alabaster                     0.7.12         \n",
            "albumentations                0.1.12         \n",
            "altair                        4.1.0          \n",
            "argon2-cffi                   20.1.0         \n",
            "asgiref                       3.3.0          \n",
            "astor                         0.8.1          \n",
            "astropy                       4.1            \n",
            "astunparse                    1.6.3          \n",
            "async-generator               1.10           \n",
            "atari-py                      0.2.6          \n",
            "atomicwrites                  1.4.0          \n",
            "attrs                         20.2.0         \n",
            "audioread                     2.1.9          \n",
            "autograd                      1.3            \n",
            "Babel                         2.8.0          \n",
            "backcall                      0.2.0          \n",
            "beautifulsoup4                4.6.3          \n",
            "bleach                        3.2.1          \n",
            "blis                          0.4.1          \n",
            "bokeh                         2.1.1          \n",
            "Bottleneck                    1.3.2          \n",
            "branca                        0.4.1          \n",
            "bs4                           0.0.1          \n",
            "CacheControl                  0.12.6         \n",
            "cachetools                    4.1.1          \n",
            "catalogue                     1.0.0          \n",
            "certifi                       2020.6.20      \n",
            "cffi                          1.14.3         \n",
            "chainer                       7.4.0          \n",
            "chardet                       3.0.4          \n",
            "click                         7.1.2          \n",
            "cloudpickle                   1.3.0          \n",
            "cmake                         3.12.0         \n",
            "cmdstanpy                     0.9.5          \n",
            "colorlover                    0.3.0          \n",
            "community                     1.0.0b1        \n",
            "contextlib2                   0.5.5          \n",
            "convertdate                   2.2.2          \n",
            "coverage                      3.7.1          \n",
            "coveralls                     0.5            \n",
            "crcmod                        1.7            \n",
            "cufflinks                     0.17.3         \n",
            "cvxopt                        1.2.5          \n",
            "cvxpy                         1.0.31         \n",
            "cycler                        0.10.0         \n",
            "cymem                         2.0.4          \n",
            "Cython                        0.29.21        \n",
            "daft                          0.0.4          \n",
            "dask                          2.12.0         \n",
            "dataclasses                   0.7            \n",
            "datascience                   0.10.6         \n",
            "debugpy                       1.0.0          \n",
            "decorator                     4.4.2          \n",
            "defusedxml                    0.6.0          \n",
            "descartes                     1.1.0          \n",
            "dill                          0.3.3          \n",
            "distributed                   1.25.3         \n",
            "Django                        3.1.3          \n",
            "dlib                          19.18.0        \n",
            "dm-tree                       0.1.5          \n",
            "docopt                        0.6.2          \n",
            "docutils                      0.16           \n",
            "dopamine-rl                   1.0.5          \n",
            "earthengine-api               0.1.238        \n",
            "easydict                      1.9            \n",
            "ecos                          2.0.7.post1    \n",
            "editdistance                  0.5.3          \n",
            "en-core-web-sm                2.2.5          \n",
            "entrypoints                   0.3            \n",
            "ephem                         3.7.7.1        \n",
            "et-xmlfile                    1.0.1          \n",
            "fa2                           0.3.5          \n",
            "fancyimpute                   0.4.3          \n",
            "fastai                        1.0.61         \n",
            "fastdtw                       0.3.4          \n",
            "fastprogress                  1.0.0          \n",
            "fastrlock                     0.5            \n",
            "fbprophet                     0.7.1          \n",
            "feather-format                0.4.1          \n",
            "filelock                      3.0.12         \n",
            "firebase-admin                4.4.0          \n",
            "fix-yahoo-finance             0.0.22         \n",
            "Flask                         1.1.2          \n",
            "folium                        0.8.3          \n",
            "future                        0.16.0         \n",
            "gast                          0.3.3          \n",
            "GDAL                          2.2.2          \n",
            "gdown                         3.6.4          \n",
            "gensim                        3.6.0          \n",
            "geographiclib                 1.50           \n",
            "geopy                         1.17.0         \n",
            "gin-config                    0.3.0          \n",
            "glob2                         0.7            \n",
            "google                        2.0.3          \n",
            "google-api-core               1.16.0         \n",
            "google-api-python-client      1.7.12         \n",
            "google-auth                   1.17.2         \n",
            "google-auth-httplib2          0.0.4          \n",
            "google-auth-oauthlib          0.4.2          \n",
            "google-cloud-bigquery         1.21.0         \n",
            "google-cloud-bigquery-storage 1.1.0          \n",
            "google-cloud-core             1.0.3          \n",
            "google-cloud-datastore        1.8.0          \n",
            "google-cloud-firestore        1.7.0          \n",
            "google-cloud-language         1.2.0          \n",
            "google-cloud-storage          1.18.1         \n",
            "google-cloud-translate        1.5.0          \n",
            "google-colab                  1.0.0          \n",
            "google-pasta                  0.2.0          \n",
            "google-resumable-media        0.4.1          \n",
            "googleapis-common-protos      1.52.0         \n",
            "googledrivedownloader         0.4            \n",
            "graphviz                      0.10.1         \n",
            "grpcio                        1.33.2         \n",
            "gspread                       3.0.1          \n",
            "gspread-dataframe             3.0.8          \n",
            "gym                           0.17.3         \n",
            "h5py                          2.10.0         \n",
            "HeapDict                      1.0.1          \n",
            "holidays                      0.10.3         \n",
            "holoviews                     1.13.5         \n",
            "html5lib                      1.0.1          \n",
            "httpimport                    0.5.18         \n",
            "httplib2                      0.17.4         \n",
            "httplib2shim                  0.0.3          \n",
            "humanize                      0.5.1          \n",
            "hyperopt                      0.1.2          \n",
            "ideep4py                      2.0.0.post3    \n",
            "idna                          2.10           \n",
            "image                         1.5.33         \n",
            "imageio                       2.4.1          \n",
            "imagesize                     1.2.0          \n",
            "imbalanced-learn              0.4.3          \n",
            "imblearn                      0.0            \n",
            "imgaug                        0.2.9          \n",
            "importlib-metadata            2.0.0          \n",
            "importlib-resources           3.3.0          \n",
            "imutils                       0.5.3          \n",
            "inflect                       2.1.0          \n",
            "iniconfig                     1.1.1          \n",
            "intel-openmp                  2020.0.133     \n",
            "intervaltree                  2.1.0          \n",
            "ipykernel                     4.10.1         \n",
            "ipython                       5.5.0          \n",
            "ipython-genutils              0.2.0          \n",
            "ipython-sql                   0.3.9          \n",
            "ipywidgets                    7.5.1          \n",
            "itsdangerous                  1.1.0          \n",
            "jax                           0.2.4          \n",
            "jaxlib                        0.1.56+cuda101 \n",
            "jdcal                         1.4.1          \n",
            "jedi                          0.17.2         \n",
            "jieba                         0.42.1         \n",
            "Jinja2                        2.11.2         \n",
            "joblib                        0.17.0         \n",
            "jpeg4py                       0.1.4          \n",
            "jsonschema                    2.6.0          \n",
            "jupyter                       1.0.0          \n",
            "jupyter-client                5.3.5          \n",
            "jupyter-console               5.2.0          \n",
            "jupyter-core                  4.6.3          \n",
            "jupyterlab-pygments           0.1.2          \n",
            "kaggle                        1.5.9          \n",
            "kapre                         0.1.3.1        \n",
            "Keras                         2.4.3          \n",
            "Keras-Preprocessing           1.1.2          \n",
            "keras-vis                     0.4.1          \n",
            "kiwisolver                    1.3.1          \n",
            "knnimpute                     0.1.0          \n",
            "korean-lunar-calendar         0.2.1          \n",
            "librosa                       0.6.3          \n",
            "lightgbm                      2.2.3          \n",
            "llvmlite                      0.31.0         \n",
            "lmdb                          0.99           \n",
            "lucid                         0.3.8          \n",
            "LunarCalendar                 0.0.9          \n",
            "lxml                          4.2.6          \n",
            "Markdown                      3.3.3          \n",
            "MarkupSafe                    1.1.1          \n",
            "matplotlib                    3.2.2          \n",
            "matplotlib-venn               0.11.6         \n",
            "missingno                     0.4.2          \n",
            "mistune                       0.8.4          \n",
            "mizani                        0.6.0          \n",
            "mkl                           2019.0         \n",
            "mlxtend                       0.14.0         \n",
            "more-itertools                8.6.0          \n",
            "moviepy                       0.2.3.5        \n",
            "mpmath                        1.1.0          \n",
            "msgpack                       1.0.0          \n",
            "multiprocess                  0.70.10        \n",
            "multitasking                  0.0.9          \n",
            "murmurhash                    1.0.3          \n",
            "music21                       5.5.0          \n",
            "natsort                       5.5.0          \n",
            "nbclient                      0.5.1          \n",
            "nbconvert                     5.6.1          \n",
            "nbformat                      5.0.8          \n",
            "nest-asyncio                  1.4.3          \n",
            "networkx                      2.5            \n",
            "nibabel                       3.0.2          \n",
            "nltk                          3.2.5          \n",
            "notebook                      5.3.1          \n",
            "np-utils                      0.5.12.1       \n",
            "numba                         0.48.0         \n",
            "numexpr                       2.7.1          \n",
            "numpy                         1.18.5         \n",
            "nvidia-ml-py3                 7.352.0        \n",
            "oauth2client                  4.1.3          \n",
            "oauthlib                      3.1.0          \n",
            "okgrade                       0.4.3          \n",
            "opencv-contrib-python         4.1.2.30       \n",
            "opencv-python                 4.1.2.30       \n",
            "openpyxl                      2.5.9          \n",
            "opt-einsum                    3.3.0          \n",
            "osqp                          0.6.1          \n",
            "packaging                     20.4           \n",
            "palettable                    3.3.0          \n",
            "pandas                        1.1.4          \n",
            "pandas-datareader             0.9.0          \n",
            "pandas-gbq                    0.13.3         \n",
            "pandas-profiling              1.4.1          \n",
            "pandocfilters                 1.4.3          \n",
            "panel                         0.9.7          \n",
            "param                         1.10.0         \n",
            "parso                         0.7.1          \n",
            "pathlib                       1.0.1          \n",
            "patsy                         0.5.1          \n",
            "pexpect                       4.8.0          \n",
            "pickleshare                   0.7.5          \n",
            "Pillow                        7.0.0          \n",
            "pip                           19.3.1         \n",
            "pip-tools                     4.5.1          \n",
            "plac                          1.1.3          \n",
            "plotly                        4.4.1          \n",
            "plotnine                      0.6.0          \n",
            "pluggy                        0.7.1          \n",
            "portpicker                    1.3.1          \n",
            "prefetch-generator            1.0.1          \n",
            "preshed                       3.0.2          \n",
            "prettytable                   1.0.1          \n",
            "progressbar2                  3.38.0         \n",
            "prometheus-client             0.8.0          \n",
            "promise                       2.3            \n",
            "prompt-toolkit                1.0.18         \n",
            "protobuf                      3.12.4         \n",
            "psutil                        5.4.8          \n",
            "psycopg2                      2.7.6.1        \n",
            "ptyprocess                    0.6.0          \n",
            "py                            1.9.0          \n",
            "pyarrow                       0.14.1         \n",
            "pyasn1                        0.4.8          \n",
            "pyasn1-modules                0.2.8          \n",
            "pycocotools                   2.0.2          \n",
            "pycparser                     2.20           \n",
            "pyct                          0.4.8          \n",
            "pydata-google-auth            1.1.0          \n",
            "pydot                         1.3.0          \n",
            "pydot-ng                      2.0.0          \n",
            "pydotplus                     2.0.2          \n",
            "PyDrive                       1.3.1          \n",
            "pyemd                         0.5.1          \n",
            "pyglet                        1.5.0          \n",
            "Pygments                      2.6.1          \n",
            "pygobject                     3.26.1         \n",
            "pymc3                         3.7            \n",
            "PyMeeus                       0.3.7          \n",
            "pymongo                       3.11.0         \n",
            "pymystem3                     0.2.0          \n",
            "PyOpenGL                      3.1.5          \n",
            "pyparsing                     2.4.7          \n",
            "pyrsistent                    0.17.3         \n",
            "pysndfile                     1.3.8          \n",
            "PySocks                       1.7.1          \n",
            "pystan                        2.19.1.1       \n",
            "pytest                        3.6.4          \n",
            "python-apt                    1.6.5+ubuntu0.3\n",
            "python-chess                  0.23.11        \n",
            "python-dateutil               2.8.1          \n",
            "python-louvain                0.14           \n",
            "python-slugify                4.0.1          \n",
            "python-utils                  2.4.0          \n",
            "pytz                          2018.9         \n",
            "pyviz-comms                   0.7.6          \n",
            "PyWavelets                    1.1.1          \n",
            "PyYAML                        3.13           \n",
            "pyzmq                         19.0.2         \n",
            "qtconsole                     4.7.7          \n",
            "QtPy                          1.9.0          \n",
            "regex                         2019.12.20     \n",
            "requests                      2.23.0         \n",
            "requests-oauthlib             1.3.0          \n",
            "resampy                       0.2.2          \n",
            "retrying                      1.3.3          \n",
            "rpy2                          3.2.7          \n",
            "rsa                           4.6            \n",
            "scikit-image                  0.16.2         \n",
            "scikit-learn                  0.22.2.post1   \n",
            "scipy                         1.4.1          \n",
            "screen-resolution-extra       0.0.0          \n",
            "scs                           2.1.2          \n",
            "seaborn                       0.11.0         \n",
            "Send2Trash                    1.5.0          \n",
            "setuptools                    50.3.2         \n",
            "setuptools-git                1.2            \n",
            "Shapely                       1.7.1          \n",
            "simplegeneric                 0.8.1          \n",
            "six                           1.15.0         \n",
            "sklearn                       0.0            \n",
            "sklearn-pandas                1.8.0          \n",
            "slugify                       0.0.1          \n",
            "smart-open                    3.0.0          \n",
            "snowballstemmer               2.0.0          \n",
            "sortedcontainers              2.2.2          \n",
            "spacy                         2.2.4          \n",
            "Sphinx                        1.8.5          \n",
            "sphinxcontrib-serializinghtml 1.1.4          \n",
            "sphinxcontrib-websupport      1.2.4          \n",
            "SQLAlchemy                    1.3.20         \n",
            "sqlparse                      0.4.1          \n",
            "srsly                         1.0.2          \n",
            "statsmodels                   0.10.2         \n",
            "sympy                         1.1.1          \n",
            "tables                        3.4.4          \n",
            "tabulate                      0.8.7          \n",
            "tblib                         1.7.0          \n",
            "tensorboard                   2.3.0          \n",
            "tensorboard-plugin-wit        1.7.0          \n",
            "tensorboardcolab              0.0.22         \n",
            "tensorflow                    2.3.0          \n",
            "tensorflow-addons             0.8.3          \n",
            "tensorflow-datasets           4.0.1          \n",
            "tensorflow-estimator          2.3.0          \n",
            "tensorflow-gcs-config         2.3.0          \n",
            "tensorflow-hub                0.10.0         \n",
            "tensorflow-metadata           0.24.0         \n",
            "tensorflow-privacy            0.2.2          \n",
            "tensorflow-probability        0.11.0         \n",
            "termcolor                     1.1.0          \n",
            "terminado                     0.9.1          \n",
            "testpath                      0.4.4          \n",
            "text-unidecode                1.3            \n",
            "textblob                      0.15.3         \n",
            "textgenrnn                    1.4.1          \n",
            "Theano                        1.0.5          \n",
            "thinc                         7.4.0          \n",
            "tifffile                      2020.9.3       \n",
            "toml                          0.10.2         \n",
            "toolz                         0.11.1         \n",
            "torch                         1.7.0+cu101    \n",
            "torchsummary                  1.5.1          \n",
            "torchtext                     0.3.1          \n",
            "torchvision                   0.8.1+cu101    \n",
            "tornado                       5.1.1          \n",
            "tqdm                          4.41.1         \n",
            "traitlets                     4.3.3          \n",
            "tweepy                        3.6.0          \n",
            "typeguard                     2.7.1          \n",
            "typing-extensions             3.7.4.3        \n",
            "tzlocal                       1.5.1          \n",
            "umap-learn                    0.4.6          \n",
            "uritemplate                   3.0.1          \n",
            "urllib3                       1.24.3         \n",
            "vega-datasets                 0.8.0          \n",
            "wasabi                        0.8.0          \n",
            "wcwidth                       0.2.5          \n",
            "webencodings                  0.5.1          \n",
            "Werkzeug                      1.0.1          \n",
            "wheel                         0.35.1         \n",
            "widgetsnbextension            3.5.1          \n",
            "wordcloud                     1.5.0          \n",
            "wrapt                         1.12.1         \n",
            "xarray                        0.15.1         \n",
            "xgboost                       0.90           \n",
            "xkit                          0.0.0          \n",
            "xlrd                          1.1.0          \n",
            "xlwt                          1.3.0          \n",
            "yellowbrick                   0.9.1          \n",
            "zict                          2.0.0          \n",
            "zipp                          3.4.0          \n"
          ],
          "name": "stdout"
        }
      ]
    },
    {
      "cell_type": "markdown",
      "metadata": {
        "id": "NlDCiR5h9wEc"
      },
      "source": [
        "# 파이썬-단일 데이터 타입"
      ]
    },
    {
      "cell_type": "markdown",
      "metadata": {
        "id": "5cDWUwNeb4Yd"
      },
      "source": [
        "- 수치형, 불린형, 문자형\n",
        "- 변수\n",
        "  - 값을 담는 그릇을 변수라고 한다.\n",
        "  - 단, 파이썬에선 데이터의 실체를 가리키는 주소를 가진 그릇이다.\n",
        "\n",
        "\n",
        "    --> 파이썬은 모든것이 객체이다. 객체를 표현하는 변수는 주소만 가진다."
      ]
    },
    {
      "cell_type": "code",
      "metadata": {
        "colab": {
          "base_uri": "https://localhost:8080/"
        },
        "id": "7gK4B1uQ93Nd",
        "outputId": "8a35b310-09f7-43c5-884e-131371d47c9f"
      },
      "source": [
        "a = 1\n",
        "# a는 1을 가지고 있다 (X)\n",
        "# a는 1을 가리키고 있다. 즉 주소값을 가지고 있다. (O)\n",
        "a"
      ],
      "execution_count": null,
      "outputs": [
        {
          "output_type": "execute_result",
          "data": {
            "text/plain": [
              "1"
            ]
          },
          "metadata": {
            "tags": []
          },
          "execution_count": 10
        }
      ]
    },
    {
      "cell_type": "code",
      "metadata": {
        "id": "AdVdXH58cdfP"
      },
      "source": [
        "# 객체를 확인하는 방법\n",
        "# 도튼 연산자 활용 -> a.를 입력하고 잠시 기다리면 인텔리전스가 작동하여 후보들이 자동으로 나타남\n",
        "# 아나콘다의 경우 -> .입력후 tab키"
      ],
      "execution_count": null,
      "outputs": []
    },
    {
      "cell_type": "code",
      "metadata": {
        "colab": {
          "base_uri": "https://localhost:8080/"
        },
        "id": "HKLbRCHldIDd",
        "outputId": "84bed355-aa82-4ca4-9091-9848589e8272"
      },
      "source": [
        "# a는 1을 참조하고 있다가 1.1을 참조하도록 변경됨.\n",
        "a = 1.1\n",
        "a"
      ],
      "execution_count": null,
      "outputs": [
        {
          "output_type": "execute_result",
          "data": {
            "text/plain": [
              "1.1"
            ]
          },
          "metadata": {
            "tags": []
          },
          "execution_count": 13
        }
      ]
    },
    {
      "cell_type": "markdown",
      "metadata": {
        "id": "Az_1HGGDeSli"
      },
      "source": [
        "Q. 가능한 이유?\n",
        "- 1.  파이썬은 타입 추론형 언어 -> 값이 변수에 세팅될 때 타입이 결정됨. <-> 자바, C++\n",
        "- 2.  파이썬은 모든것이 객체이다. -> 1에서 1.1로 바뀐 것은 참조값만 변경된 것(주소만 변경된 것)\n",
        "  - a는 정수, 실수, 부동소수, 문자열, 함수, 객체, ... 다 ok, ...\n",
        "\n",
        "\n",
        "    --> 따라서 사전에 정의된 클래스, 내/외장함수 등의 이름을 변수로 사용하면 안됨."
      ]
    },
    {
      "cell_type": "code",
      "metadata": {
        "id": "BrDzogdRdXSV"
      },
      "source": [
        "a = 1 # 값이 들어갈 때 결정( python, js, 코틀린, 스위프트, ...)\n",
        "# str = '2'  --> str() 내장함수를 일반함수로 바꿔버렸기 때문에 문자열 생성함수(내장함수)를 사용할 수 없음. "
      ],
      "execution_count": null,
      "outputs": []
    },
    {
      "cell_type": "code",
      "metadata": {
        "id": "-1kHCm5DfPK4"
      },
      "source": [
        "#  변수 정의\n",
        "# 사전에 정의된 용어를 사용하지 않도록 주의\n",
        "# 기본 파이썬 구문 주의사항: \"세로줄을 맞춰라\"\n",
        "a = 1 # 맨 앞에 바짝 붙여라"
      ],
      "execution_count": null,
      "outputs": []
    },
    {
      "cell_type": "code",
      "metadata": {
        "colab": {
          "base_uri": "https://localhost:8080/"
        },
        "id": "Rq9Q7AGrfPUR",
        "outputId": "49f8c98f-bbe7-4939-d509-997c38a546f6"
      },
      "source": [
        "# 수행문의 끝에는 :를 붙이지 않는다. 사용 가능하나 생략, 굳이 쓴다면 한줄에 여러 수행문. 작성시 구분자로 사용\n",
        "a = 2; print(a);print('this is a')"
      ],
      "execution_count": null,
      "outputs": [
        {
          "output_type": "stream",
          "text": [
            "2\n",
            "this is a\n"
          ],
          "name": "stdout"
        }
      ]
    },
    {
      "cell_type": "code",
      "metadata": {
        "colab": {
          "base_uri": "https://localhost:8080/"
        },
        "id": "oCsuCla8f2GD",
        "outputId": "f3b5b57c-194b-40cf-c2dc-9dac1bde86c3"
      },
      "source": [
        "a = 1\n",
        "# 변수의 정체성 확인\n",
        "a, type(a) # -> 결과물 튜플.\n",
        "a = 3.14\n",
        "a, type(a)"
      ],
      "execution_count": null,
      "outputs": [
        {
          "output_type": "execute_result",
          "data": {
            "text/plain": [
              "(3.14, float)"
            ]
          },
          "metadata": {
            "tags": []
          },
          "execution_count": 21
        }
      ]
    },
    {
      "cell_type": "code",
      "metadata": {
        "id": "v77GECGrgFh3"
      },
      "source": [
        "# 변수명의 사용가능한 문자열\n",
        "a = 1\n",
        "_b = 1 # _로 시작가능\n",
        "a13 = 1 # 숫자는 두 번째 자리부터 가능\n",
        "_ = 1  # 이것도 가능\n",
        "\n",
        "# _ 만 변수명으로 사용하는 경우, 통상적으로 개발자들은 더미변수를 지칭할 때 사용\n",
        "# 즉, 받아만 주되, 사용하지 않는다."
      ],
      "execution_count": null,
      "outputs": []
    },
    {
      "cell_type": "code",
      "metadata": {
        "colab": {
          "base_uri": "https://localhost:8080/"
        },
        "id": "b51GnQzLgU4l",
        "outputId": "97139141-d3db-4a88-975e-2c97018a7493"
      },
      "source": [
        "## 상수: 변하지 않는 읽기 전용 변수\n",
        "# 파이썬은 상수 미지원\n",
        "# 그냥 관습적으로 대문자로 표현\n",
        "PI = 3.14\n",
        "PI"
      ],
      "execution_count": null,
      "outputs": [
        {
          "output_type": "execute_result",
          "data": {
            "text/plain": [
              "3.14"
            ]
          },
          "metadata": {
            "tags": []
          },
          "execution_count": 30
        }
      ]
    },
    {
      "cell_type": "code",
      "metadata": {
        "id": "NLTrl0n4hTlE"
      },
      "source": [
        "# 통상적으로, 환경변수로 가장 많이 사용\n",
        "# 학습시 환경 통제값, 임계값 등으로 사용함."
      ],
      "execution_count": null,
      "outputs": []
    },
    {
      "cell_type": "code",
      "metadata": {
        "colab": {
          "base_uri": "https://localhost:8080/"
        },
        "id": "C-ujTYCFhvRd",
        "outputId": "d93af4da-3601-4369-bb90-3fd2d3aa1130"
      },
      "source": [
        "# 진법 : 2,8,10, 16 -> 필요할 때 보면 됨.\n",
        "a = 0xFF\n",
        "a"
      ],
      "execution_count": null,
      "outputs": [
        {
          "output_type": "execute_result",
          "data": {
            "text/plain": [
              "255"
            ]
          },
          "metadata": {
            "tags": []
          },
          "execution_count": 32
        }
      ]
    },
    {
      "cell_type": "code",
      "metadata": {
        "colab": {
          "base_uri": "https://localhost:8080/"
        },
        "id": "zXNEfU2IhvT3",
        "outputId": "8cdc3c37-f0e8-4dda-c1f9-a5d684cec7fa"
      },
      "source": [
        "# 간단한 사칙연산은 기존언어 대비 다른점이 있는가?\n",
        "a = 1\n",
        "b = 2\n",
        "a+b, a-b, a*b , a/b # 나눗셈의 결과는 부동소수다. "
      ],
      "execution_count": null,
      "outputs": [
        {
          "output_type": "execute_result",
          "data": {
            "text/plain": [
              "(3, -1, 2, 0.5)"
            ]
          },
          "metadata": {
            "tags": []
          },
          "execution_count": 34
        }
      ]
    },
    {
      "cell_type": "code",
      "metadata": {
        "colab": {
          "base_uri": "https://localhost:8080/"
        },
        "id": "0KkYjDgiiNE0",
        "outputId": "4bb44c27-cb0e-40a9-9b2c-1fb893d6daaa"
      },
      "source": [
        "7%4 , 7//4"
      ],
      "execution_count": null,
      "outputs": [
        {
          "output_type": "stream",
          "text": [
            "나머지 몫\n"
          ],
          "name": "stdout"
        }
      ]
    },
    {
      "cell_type": "code",
      "metadata": {
        "colab": {
          "base_uri": "https://localhost:8080/"
        },
        "id": "FgxfM8T6ihN_",
        "outputId": "f76abda4-6d25-4a6c-a5a0-ef97bcb94e73"
      },
      "source": [
        "# 일반 연산자는 우선순위가 존재한다.\n",
        "# 만약 서열을 잘 모르면 그룹화로 처리 -> ()\n",
        "(1+2+3+4)*2 , 1+2+3+4*2"
      ],
      "execution_count": null,
      "outputs": [
        {
          "output_type": "execute_result",
          "data": {
            "text/plain": [
              "(20, 14)"
            ]
          },
          "metadata": {
            "tags": []
          },
          "execution_count": 42
        }
      ]
    },
    {
      "cell_type": "code",
      "metadata": {
        "id": "2rx2GgPxi9x0"
      },
      "source": [
        ""
      ],
      "execution_count": null,
      "outputs": []
    }
  ]
}