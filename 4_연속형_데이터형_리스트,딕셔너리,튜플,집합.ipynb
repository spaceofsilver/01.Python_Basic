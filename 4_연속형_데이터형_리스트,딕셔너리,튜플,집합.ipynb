{
  "nbformat": 4,
  "nbformat_minor": 0,
  "metadata": {
    "colab": {
      "name": "4. 연속형 데이터형_리스트,딕셔너리,튜플,집합.ipynb",
      "provenance": [],
      "collapsed_sections": [],
      "authorship_tag": "ABX9TyPIyx9eYJsOWUBkyGxjZFqy",
      "include_colab_link": true
    },
    "kernelspec": {
      "name": "python3",
      "display_name": "Python 3"
    }
  },
  "cells": [
    {
      "cell_type": "markdown",
      "metadata": {
        "id": "view-in-github",
        "colab_type": "text"
      },
      "source": [
        "<a href=\"https://colab.research.google.com/github/spaceofsilver/python_basic/blob/main/4_%EC%97%B0%EC%86%8D%ED%98%95_%EB%8D%B0%EC%9D%B4%ED%84%B0%ED%98%95_%EB%A6%AC%EC%8A%A4%ED%8A%B8%2C%EB%94%95%EC%85%94%EB%84%88%EB%A6%AC%2C%ED%8A%9C%ED%94%8C%2C%EC%A7%91%ED%95%A9.ipynb\" target=\"_parent\"><img src=\"https://colab.research.google.com/assets/colab-badge.svg\" alt=\"Open In Colab\"/></a>"
      ]
    },
    {
      "cell_type": "markdown",
      "metadata": {
        "id": "EGuoAnPyzlH3"
      },
      "source": [
        "# 연속 데이터 타입"
      ]
    },
    {
      "cell_type": "markdown",
      "metadata": {
        "id": "HPYDuFv0z2FB"
      },
      "source": [
        "- 단일 데이터 n개를 가지고 있는 자료구조\n",
        "- 연속형, 시퀀스형이라고도 불림\n",
        "- 튜플만 수정 불가능"
      ]
    },
    {
      "cell_type": "markdown",
      "metadata": {
        "id": "3JHMgOKs0DZG"
      },
      "source": [
        "|타입명|기호|특징|크기확인|\n",
        "|--|--|--|--|\n",
        "|리스트|[ ]|list()<br>- [ ]<br>- 순서(인덱스) o<br>- 값 중복 o |len()|\n",
        "|딕셔너리|{ }|dict()<br>- { }<br>- 순서(인덱스) x<br>- 값 중복 o, 키 중복x<br>- 키와 값의 세트로 구성<br>- 타언어와 통신시 json으로 대응됨.|len()|\n",
        "|튜플|( )|tuple()<br>- ( )<br>- 순서(인덱스) o<br>- 값 중복 o<br>- 단순하게 값을 묶는다(그룹화)|len()|\n",
        "|집합|{ }|set()<br>- { }<br>- 순서(인덱스) x <br>- 값 중복 x: 중복제거로 사용 |len()|\n",
        "|배열|ndarray|- numpy의 자료구조 |shape|\n",
        "|시리즈|series|- pandas의 자료구조, 1차원구조|shape|\n",
        "|데이터프레임|datafreme|- pandas의 자료구조, 2차원구조|shape|\n",
        "|텐서|tensor|- 딥러닝 주요 엔진들의 자료구조, tensorflow, pytorch|shape|"
      ]
    },
    {
      "cell_type": "markdown",
      "metadata": {
        "id": "RUyoPfUQzpcb"
      },
      "source": [
        "# 리스트"
      ]
    },
    {
      "cell_type": "code",
      "metadata": {
        "colab": {
          "base_uri": "https://localhost:8080/"
        },
        "id": "L7-pZ8u82ijv",
        "outputId": "792bfc72-3de7-4eac-91d5-b237f050c813"
      },
      "source": [
        "# 1.생성\n",
        "\n",
        "# (1) 동적생성 : 리스트의 멤버를 나중에 추가할 경우\n",
        "a = list() # or a = []\n",
        "print(a, type(a), len(a));print('*'*30)\n",
        "\n",
        "# (2) 정적구성: 리스트의 멤버를 바로 추가하면서 생성하는 경우 -> 나중에 멤버를 추가하는 형태에서 사용가능\n",
        "a1 =[1,2,3]\n",
        "print(a1, type(a1), len(a1))"
      ],
      "execution_count": null,
      "outputs": [
        {
          "output_type": "stream",
          "text": [
            "[] <class 'list'> 0\n",
            "******************************\n",
            "[1, 2, 3] <class 'list'> 3\n"
          ],
          "name": "stdout"
        }
      ]
    },
    {
      "cell_type": "code",
      "metadata": {
        "colab": {
          "base_uri": "https://localhost:8080/"
        },
        "id": "X_Fmz0I12jNv",
        "outputId": "511a67e6-fd84-4063-ff1f-f60dcc11ecff"
      },
      "source": [
        "b = ['노브랜드버거','롯데리아','서브웨이']\n",
        "print(b);print('*'*30)\n",
        "# 2. 리스트 합치기: 리스트의 타입이 달라도 하나의 리스트로 만드는데 문제없다.\n",
        "# -> 구성원의 멤버 타입은 중요하지 않다(! 중요)\n",
        "# -> 리턴값이 리스트로 나왔다 => '사본' 출력\n",
        "c = a1 + b\n",
        "c"
      ],
      "execution_count": null,
      "outputs": [
        {
          "output_type": "stream",
          "text": [
            "['노브랜드버거', '롯데리아', '서브웨이']\n",
            "******************************\n"
          ],
          "name": "stdout"
        },
        {
          "output_type": "execute_result",
          "data": {
            "text/plain": [
              "[1, 2, 3, '노브랜드버거', '롯데리아', '서브웨이']"
            ]
          },
          "metadata": {
            "tags": []
          },
          "execution_count": 43
        }
      ]
    },
    {
      "cell_type": "markdown",
      "metadata": {
        "id": "fDJLa1e94kr9"
      },
      "source": [
        "## 인덱싱(indexing)\n",
        "\n",
        "- **차원 축소**(! 중요)"
      ]
    },
    {
      "cell_type": "code",
      "metadata": {
        "colab": {
          "base_uri": "https://localhost:8080/",
          "height": 35
        },
        "id": "aEJYZ5aS2jWi",
        "outputId": "a0962654-d5ef-486a-ce7f-4c7f407d6cbd"
      },
      "source": [
        "# 변수[인덱스] -> 정/역방향 가능\n",
        "# **차원 축소**: 리스트에서 인덱싱을 하면 값이 나온다(벡터 -> 스칼라)\n",
        "c[3]"
      ],
      "execution_count": null,
      "outputs": [
        {
          "output_type": "execute_result",
          "data": {
            "application/vnd.google.colaboratory.intrinsic+json": {
              "type": "string"
            },
            "text/plain": [
              "'노브랜드버거'"
            ]
          },
          "metadata": {
            "tags": []
          },
          "execution_count": 45
        }
      ]
    },
    {
      "cell_type": "markdown",
      "metadata": {
        "id": "vBlJIaPI4-6T"
      },
      "source": [
        "## 슬라이싱(slicing)"
      ]
    },
    {
      "cell_type": "code",
      "metadata": {
        "colab": {
          "base_uri": "https://localhost:8080/"
        },
        "id": "T1RqbsWu2jbi",
        "outputId": "62075aa5-e207-4154-8812-b5b41201a4b5"
      },
      "source": [
        "# 변수[시작인덱스:끝인덱스:스텝]\n",
        "c[:] #원본카피\n",
        "c[:2] #처음부터 2번째까지\n",
        "c[:-2] #처음부터 뒤에서 2번째까지"
      ],
      "execution_count": null,
      "outputs": [
        {
          "output_type": "execute_result",
          "data": {
            "text/plain": [
              "[1, 2, 3, '노브랜드버거', '롯데리아', '서브웨이', 1, 2, 3, '노브랜드버거']"
            ]
          },
          "metadata": {
            "tags": []
          },
          "execution_count": 46
        }
      ]
    },
    {
      "cell_type": "markdown",
      "metadata": {
        "id": "Q_CPJylv5ah0"
      },
      "source": [
        "## 수정: 원본수정\n",
        "\n",
        "- 인덱싱 수정\n",
        "- 슬라이싱 수정: 수정의 값은 **연속형**만 가능함(주의)"
      ]
    },
    {
      "cell_type": "code",
      "metadata": {
        "colab": {
          "base_uri": "https://localhost:8080/"
        },
        "id": "3SFW4aPB2jgN",
        "outputId": "5fb98800-26be-4445-b4c9-6dc5f24e1941"
      },
      "source": [
        "# 인덱싱 수정\n",
        "c[2] = 100; print(c)"
      ],
      "execution_count": null,
      "outputs": [
        {
          "output_type": "stream",
          "text": [
            "[1, 2, 100, '노브랜드버거', '롯데리아', '서브웨이', 1, 2, 3, '노브랜드버거', '롯데리아', '서브웨이']\n"
          ],
          "name": "stdout"
        }
      ]
    },
    {
      "cell_type": "code",
      "metadata": {
        "colab": {
          "base_uri": "https://localhost:8080/"
        },
        "id": "wS7zizJF2jlM",
        "outputId": "58d5a9f5-9194-4071-f56d-9df89eafa731"
      },
      "source": [
        "# 슬라이싱 수정: 값은 연속형만 가능함\n",
        "# c[:2] = 1; print(c) #오류\n",
        "c[:2] = 'hi'; print(c)"
      ],
      "execution_count": null,
      "outputs": [
        {
          "output_type": "stream",
          "text": [
            "['h', 'i', 100, '노브랜드버거', '롯데리아', '서브웨이', 1, 2, 3, '노브랜드버거', '롯데리아', '서브웨이']\n"
          ],
          "name": "stdout"
        }
      ]
    },
    {
      "cell_type": "markdown",
      "metadata": {
        "id": "VipjmYQ96ETr"
      },
      "source": [
        "## 추가\n",
        "\n",
        "- append()"
      ]
    },
    {
      "cell_type": "code",
      "metadata": {
        "colab": {
          "base_uri": "https://localhost:8080/"
        },
        "id": "wgkeqbXe2jpZ",
        "outputId": "a199af29-d450-4822-eba1-6a08a5a954ba"
      },
      "source": [
        "c.append(10); print(c)"
      ],
      "execution_count": null,
      "outputs": [
        {
          "output_type": "stream",
          "text": [
            "['h', 'i', 100, '노브랜드버거', '롯데리아', '서브웨이', 1, 2, 3, '노브랜드버거', '롯데리아', '서브웨이', 10]\n"
          ],
          "name": "stdout"
        }
      ]
    },
    {
      "cell_type": "markdown",
      "metadata": {
        "id": "m-y32RR_6LMK"
      },
      "source": [
        "## 삭제"
      ]
    },
    {
      "cell_type": "code",
      "metadata": {
        "colab": {
          "base_uri": "https://localhost:8080/"
        },
        "id": "tOKx6E_L6MrJ",
        "outputId": "b8661946-f2e2-4c58-b2bc-dc12c54ff497"
      },
      "source": [
        "c[0]; print(c) #날릴거야\n",
        "# 파이썬 표현 내에서 특정 변수를 해제하는 방법: del\n",
        "del c[0]; print(c)"
      ],
      "execution_count": null,
      "outputs": [
        {
          "output_type": "stream",
          "text": [
            "['h', 'i', 100, '노브랜드버거', '롯데리아', '서브웨이', 1, 2, 3, '노브랜드버거', '롯데리아', '서브웨이', 10]\n",
            "['i', 100, '노브랜드버거', '롯데리아', '서브웨이', 1, 2, 3, '노브랜드버거', '롯데리아', '서브웨이', 10]\n"
          ],
          "name": "stdout"
        }
      ]
    },
    {
      "cell_type": "code",
      "metadata": {
        "colab": {
          "base_uri": "https://localhost:8080/"
        },
        "id": "TY1Lmoy56MuY",
        "outputId": "1aecf63f-0e09-4460-faae-33a3d9d0ab16"
      },
      "source": [
        "del c[:2]; print(c)"
      ],
      "execution_count": null,
      "outputs": [
        {
          "output_type": "stream",
          "text": [
            "['노브랜드버거', '롯데리아', '서브웨이', 1, 2, 3, '노브랜드버거', '롯데리아', '서브웨이', 10]\n"
          ],
          "name": "stdout"
        }
      ]
    },
    {
      "cell_type": "code",
      "metadata": {
        "colab": {
          "base_uri": "https://localhost:8080/"
        },
        "id": "xC51224I6fvC",
        "outputId": "21598914-53e6-4b0c-9eb9-949b5dd760ba"
      },
      "source": [
        "c.clear(); print(c) # 전부 날리기"
      ],
      "execution_count": null,
      "outputs": [
        {
          "output_type": "stream",
          "text": [
            "[]\n"
          ],
          "name": "stdout"
        }
      ]
    },
    {
      "cell_type": "code",
      "metadata": {
        "colab": {
          "base_uri": "https://localhost:8080/"
        },
        "id": "XcAFEIqz6oYo",
        "outputId": "53ca4361-031d-4861-8b39-4343985511d0"
      },
      "source": [
        "c.extend( c ); print(a1 ) # 원본이 수정돼서 c에 a1가 이어붙어진다. -> 여기서 a1은 그대로 존재함."
      ],
      "execution_count": null,
      "outputs": [
        {
          "output_type": "stream",
          "text": [
            "[1, 2, 3]\n"
          ],
          "name": "stdout"
        }
      ]
    },
    {
      "cell_type": "markdown",
      "metadata": {
        "id": "ibvmOoJyzrq9"
      },
      "source": [
        "# 딕셔너리\n",
        "\n",
        "- 주로 [ {},{},{} ] 구조 사용\n",
        "- 멤버구성\n",
        "  - 키: 멤버\n",
        "  - 키는 함수를 제외하고는 다 가능, 주로 문자열, 수치형"
      ]
    },
    {
      "cell_type": "code",
      "metadata": {
        "colab": {
          "base_uri": "https://localhost:8080/"
        },
        "id": "MBe5ITI_zs-z",
        "outputId": "8619207e-98e1-4d82-81cb-65bb963f7641"
      },
      "source": [
        "# (1) 동적구성\n",
        "dic=dict()\n",
        "print(dic, type(dic), len(dic)); print('*'*30)\n",
        "# (2) 정적구성\n",
        "dic1 = {'name':'부산대'}\n",
        "print(dic1, type(dic1), len(dimc1))"
      ],
      "execution_count": null,
      "outputs": [
        {
          "output_type": "stream",
          "text": [
            "{} <class 'dict'> 0\n",
            "******************************\n",
            "{'name': '부산대'} <class 'dict'> 1\n"
          ],
          "name": "stdout"
        }
      ]
    },
    {
      "cell_type": "code",
      "metadata": {
        "id": "5PwzqD7O7sAM"
      },
      "source": [
        "# 멤버구성 =>  키: 멤버\n",
        "# 키는 함수를 제외하고는 모두 다 가능하다\n",
        "# 주로 문자열, 수치 등을 사용함.\n",
        "# java : map, js:객체, ios: nsdictionary ,데이터: json 등 동일구조를 가짐\n",
        "# 주로 [ {},{},{} ] 구조 사용"
      ],
      "execution_count": null,
      "outputs": []
    },
    {
      "cell_type": "markdown",
      "metadata": {
        "id": "LusCUViC8O_8"
      },
      "source": [
        "## 인덱싱\n",
        "\n",
        "- 키값은 고유한 값\n",
        "- 순서가 없기 때문에 값을 대변하는 키 값으로 인덱싱 -> 직관적\n",
        "- 순서가 없기 때문에 **슬라이싱은 불가**"
      ]
    },
    {
      "cell_type": "code",
      "metadata": {
        "colab": {
          "base_uri": "https://localhost:8080/"
        },
        "id": "B7ZnhuHG7sII",
        "outputId": "0e5ad2e5-284c-417b-827e-67d4622ae45d"
      },
      "source": [
        "exchanges = {'국가':'미국', 'code':'USD', '살때':'1130.1', '팔때':'1109.8'}\n",
        "exchanges"
      ],
      "execution_count": null,
      "outputs": [
        {
          "output_type": "execute_result",
          "data": {
            "text/plain": [
              "{'code': 'USD', '국가': '미국', '살때': '1130.1', '팔때': '1109.8'}"
            ]
          },
          "metadata": {
            "tags": []
          },
          "execution_count": 63
        }
      ]
    },
    {
      "cell_type": "code",
      "metadata": {
        "colab": {
          "base_uri": "https://localhost:8080/",
          "height": 35
        },
        "id": "C8IqSvBA82FL",
        "outputId": "9da3f729-ac74-4425-fc36-590555b84173"
      },
      "source": [
        "exchanges['살때']"
      ],
      "execution_count": null,
      "outputs": [
        {
          "output_type": "execute_result",
          "data": {
            "application/vnd.google.colaboratory.intrinsic+json": {
              "type": "string"
            },
            "text/plain": [
              "'1130.1'"
            ]
          },
          "metadata": {
            "tags": []
          },
          "execution_count": 64
        }
      ]
    },
    {
      "cell_type": "code",
      "metadata": {
        "colab": {
          "base_uri": "https://localhost:8080/"
        },
        "id": "g6u7Ifwv82K8",
        "outputId": "235772a7-72cb-4a82-da9a-3df98095d568"
      },
      "source": [
        "exchanges['살때'] = 1119.10; print(exchanges)"
      ],
      "execution_count": null,
      "outputs": [
        {
          "output_type": "stream",
          "text": [
            "{'국가': '미국', 'code': 'USD', '살때': 1119.1, '팔때': '1109.8'}\n"
          ],
          "name": "stdout"
        }
      ]
    },
    {
      "cell_type": "code",
      "metadata": {
        "colab": {
          "base_uri": "https://localhost:8080/"
        },
        "id": "YVKtufo_7q0w",
        "outputId": "cdd13fbf-db16-4151-f7f5-fd8a34211a01"
      },
      "source": [
        "# 함수로 값을 추출하기\n",
        "exchanges.get('살때')"
      ],
      "execution_count": null,
      "outputs": [
        {
          "output_type": "execute_result",
          "data": {
            "text/plain": [
              "1119.1"
            ]
          },
          "metadata": {
            "tags": []
          },
          "execution_count": 67
        }
      ]
    },
    {
      "cell_type": "code",
      "metadata": {
        "colab": {
          "base_uri": "https://localhost:8080/"
        },
        "id": "8MY08pa19uPJ",
        "outputId": "dbc4cbc7-20ce-4939-ffdc-c694e9f4edd7"
      },
      "source": [
        "print(exchanges.get('살때1'))  # 설령 해당키가 없어도 시스템이 종료되지 않는다 -> 안정적임\n",
        "# 값이 없다. None 비유적으로 null\n",
        "# 데이터 분석으로 가면 NaN을 사용 => 분석에선 '결측치'"
      ],
      "execution_count": null,
      "outputs": [
        {
          "output_type": "stream",
          "text": [
            "None\n"
          ],
          "name": "stdout"
        }
      ]
    },
    {
      "cell_type": "code",
      "metadata": {
        "colab": {
          "base_uri": "https://localhost:8080/",
          "height": 173
        },
        "id": "pGD5R5np9uV-",
        "outputId": "f7417756-b269-46fa-ca8a-96a3dd5766e3"
      },
      "source": [
        "exchanges['살때1'] # 해당 키가 없으면 시스템이 종료 (shut down) -> 불안정적인 사용"
      ],
      "execution_count": null,
      "outputs": [
        {
          "output_type": "error",
          "ename": "KeyError",
          "evalue": "ignored",
          "traceback": [
            "\u001b[0;31m---------------------------------------------------------------------------\u001b[0m",
            "\u001b[0;31mKeyError\u001b[0m                                  Traceback (most recent call last)",
            "\u001b[0;32m<ipython-input-69-03797bd2da5e>\u001b[0m in \u001b[0;36m<module>\u001b[0;34m()\u001b[0m\n\u001b[0;32m----> 1\u001b[0;31m \u001b[0mexchanges\u001b[0m\u001b[0;34m[\u001b[0m\u001b[0;34m'살때1'\u001b[0m\u001b[0;34m]\u001b[0m\u001b[0;34m\u001b[0m\u001b[0;34m\u001b[0m\u001b[0m\n\u001b[0m",
            "\u001b[0;31mKeyError\u001b[0m: '살때1'"
          ]
        }
      ]
    },
    {
      "cell_type": "markdown",
      "metadata": {
        "id": "-Mzw0ckC-hnU"
      },
      "source": [
        "## 추가\n",
        "- 딕셔너리에 데이터를 추가한다면 키와 값의 세트로 필요."
      ]
    },
    {
      "cell_type": "code",
      "metadata": {
        "colab": {
          "base_uri": "https://localhost:8080/"
        },
        "id": "BOVgi_NY-YLu",
        "outputId": "b98327ac-d7cf-4e14-d1e9-9742c21420d4"
      },
      "source": [
        "exchanges[ 1 ] = 100; print(exchanges)"
      ],
      "execution_count": null,
      "outputs": [
        {
          "output_type": "stream",
          "text": [
            "{'국가': '미국', 'code': 'USD', '살때': 1119.1, '팔때': '1109.8', 1: 100}\n"
          ],
          "name": "stdout"
        }
      ]
    },
    {
      "cell_type": "markdown",
      "metadata": {
        "id": "CFRxJqYxztY-"
      },
      "source": [
        "# 튜플"
      ]
    },
    {
      "cell_type": "code",
      "metadata": {
        "colab": {
          "base_uri": "https://localhost:8080/"
        },
        "id": "YH121Yip-YTP",
        "outputId": "65c9738e-ef00-44f4-f7d8-a4617494fbd9"
      },
      "source": [
        "# (1) 동적 구성\n",
        "tu = tuple()\n",
        "print(tu, type(tu), len(tu))\n",
        "\n",
        "# (2) 정적 구성\n",
        "tu1= (1,) # 멤버수가 1개인 경우, 그룹화 하는 연산자와 구분이 안 된다. 멤버가 한 개면 , 를 넣어서 표식을 줘야함.\n",
        "print(tu1, type(tu1), len(tu1))"
      ],
      "execution_count": null,
      "outputs": [
        {
          "output_type": "stream",
          "text": [
            "() <class 'tuple'> 0\n",
            "(1,) <class 'tuple'> 1\n"
          ],
          "name": "stdout"
        }
      ]
    },
    {
      "cell_type": "code",
      "metadata": {
        "colab": {
          "base_uri": "https://localhost:8080/"
        },
        "id": "Q7oeCQcF-YYe",
        "outputId": "f4ede0a5-5bc8-482e-9360-30a1d6fedc39"
      },
      "source": [
        "tu = (2,3,4,5)\n",
        "tu"
      ],
      "execution_count": null,
      "outputs": [
        {
          "output_type": "execute_result",
          "data": {
            "text/plain": [
              "(2, 3, 4, 5)"
            ]
          },
          "metadata": {
            "tags": []
          },
          "execution_count": 91
        }
      ]
    },
    {
      "cell_type": "code",
      "metadata": {
        "colab": {
          "base_uri": "https://localhost:8080/"
        },
        "id": "pE_0C83hzwBq",
        "outputId": "328c4a0d-e67b-4cc7-e9a0-dab1cc7c3969"
      },
      "source": [
        "# 인덱싱\n",
        "tu[0]"
      ],
      "execution_count": null,
      "outputs": [
        {
          "output_type": "execute_result",
          "data": {
            "text/plain": [
              "2"
            ]
          },
          "metadata": {
            "tags": []
          },
          "execution_count": 79
        }
      ]
    },
    {
      "cell_type": "code",
      "metadata": {
        "colab": {
          "base_uri": "https://localhost:8080/"
        },
        "id": "yr0eIPEEzyDB",
        "outputId": "d343a15b-dbd2-4dca-864d-23c855569c52"
      },
      "source": [
        "# 슬라이싱\n",
        "tu[0:2]"
      ],
      "execution_count": null,
      "outputs": [
        {
          "output_type": "execute_result",
          "data": {
            "text/plain": [
              "(2, 3)"
            ]
          },
          "metadata": {
            "tags": []
          },
          "execution_count": 81
        }
      ]
    },
    {
      "cell_type": "code",
      "metadata": {
        "id": "orVZDpJ_Bi_l"
      },
      "source": [
        "# 추가 x -> reasonly, immutable 수정/삭제 불가 -> 읽기전용\n",
        "# 용도? 단순하게 값을 묶는다는 것.\n",
        "# 함수의 리턴값이 여러개일 경우 => 자동으로 튜플로 리턴(리턴값을 나열하면) => 함수편에서 확인..."
      ],
      "execution_count": null,
      "outputs": []
    },
    {
      "cell_type": "code",
      "metadata": {
        "colab": {
          "base_uri": "https://localhost:8080/"
        },
        "id": "cYEMvBkzCHG5",
        "outputId": "f65a7e98-3d40-4332-f97c-cf3e2d988654"
      },
      "source": [
        "# 튜플의 멤버수대로 변수를 나열해서 받아주면 -> 분해!(주의)\n",
        "a,b,c,d = tu\n",
        "type(a) ,a,b,c,d # 멤버들을 각각 변수에 대입해서 분해된다"
      ],
      "execution_count": null,
      "outputs": [
        {
          "output_type": "execute_result",
          "data": {
            "text/plain": [
              "(int, 2, 3, 4, 5)"
            ]
          },
          "metadata": {
            "tags": []
          },
          "execution_count": 89
        }
      ]
    },
    {
      "cell_type": "code",
      "metadata": {
        "colab": {
          "base_uri": "https://localhost:8080/"
        },
        "id": "QbfdJGbkBuMx",
        "outputId": "b97ad42c-bb3a-47e7-f44d-a638573c09cc"
      },
      "source": [
        "# 복습\n",
        "\n",
        "tupe = (3,5,12,'hi')\n",
        "tupe, type(tupe), len(tupe)"
      ],
      "execution_count": null,
      "outputs": [
        {
          "output_type": "execute_result",
          "data": {
            "text/plain": [
              "((3, 5, 12, 'hi'), tuple, 4)"
            ]
          },
          "metadata": {
            "tags": []
          },
          "execution_count": 9
        }
      ]
    },
    {
      "cell_type": "code",
      "metadata": {
        "colab": {
          "base_uri": "https://localhost:8080/"
        },
        "id": "yfG7pNl6BuQV",
        "outputId": "78c01549-7a03-4ded-f884-6482159c48c2"
      },
      "source": [
        "a,b,c,d = tupe\n",
        "a,b,c,d"
      ],
      "execution_count": null,
      "outputs": [
        {
          "output_type": "execute_result",
          "data": {
            "text/plain": [
              "(3, 5, 12, 'hi')"
            ]
          },
          "metadata": {
            "tags": []
          },
          "execution_count": 10
        }
      ]
    },
    {
      "cell_type": "code",
      "metadata": {
        "colab": {
          "base_uri": "https://localhost:8080/"
        },
        "id": "6w8VzUscBuUf",
        "outputId": "928af7b8-873d-4350-be67-ed55b36dfd49"
      },
      "source": [
        "lst = [2,3,1,56,'hello']\n",
        "lst, type(lst), len(lst)"
      ],
      "execution_count": null,
      "outputs": [
        {
          "output_type": "execute_result",
          "data": {
            "text/plain": [
              "([2, 3, 1, 56, 'hello'], list, 5)"
            ]
          },
          "metadata": {
            "tags": []
          },
          "execution_count": 11
        }
      ]
    },
    {
      "cell_type": "code",
      "metadata": {
        "colab": {
          "base_uri": "https://localhost:8080/"
        },
        "id": "3EatMIRkCJ8h",
        "outputId": "a18b3db1-5c87-494d-a9de-0ec6a934620c"
      },
      "source": [
        "a,b,c,d,e = lst\n",
        "a"
      ],
      "execution_count": null,
      "outputs": [
        {
          "output_type": "execute_result",
          "data": {
            "text/plain": [
              "2"
            ]
          },
          "metadata": {
            "tags": []
          },
          "execution_count": 13
        }
      ]
    },
    {
      "cell_type": "code",
      "metadata": {
        "colab": {
          "base_uri": "https://localhost:8080/"
        },
        "id": "FbgE3blgCKAW",
        "outputId": "6ae9ba22-d53c-4c47-b0d9-64e2f53c7749"
      },
      "source": [
        "a,b,_,d,e = lst\n",
        "a,b,d,e"
      ],
      "execution_count": null,
      "outputs": [
        {
          "output_type": "execute_result",
          "data": {
            "text/plain": [
              "(2, 3, 56, 'hello')"
            ]
          },
          "metadata": {
            "tags": []
          },
          "execution_count": 14
        }
      ]
    },
    {
      "cell_type": "code",
      "metadata": {
        "id": "Vi826qWxCKEj"
      },
      "source": [
        ""
      ],
      "execution_count": null,
      "outputs": []
    },
    {
      "cell_type": "code",
      "metadata": {
        "colab": {
          "base_uri": "https://localhost:8080/"
        },
        "id": "qbgm93jFCjcE",
        "outputId": "06dad4a4-ead2-4684-d655-4376aad12e2a"
      },
      "source": [
        "# 만약에 나는 3번째 값(c)은 사용할 일이 없다면?\n",
        "a,_,c,d = tu # 더미변수, 받아만 주고 사용은 안한다 -> 사용\n",
        "tu"
      ],
      "execution_count": null,
      "outputs": [
        {
          "output_type": "execute_result",
          "data": {
            "text/plain": [
              "(2, 3, 4, 5)"
            ]
          },
          "metadata": {
            "tags": []
          },
          "execution_count": 96
        }
      ]
    },
    {
      "cell_type": "code",
      "metadata": {
        "colab": {
          "base_uri": "https://localhost:8080/"
        },
        "id": "iDscdn3VCjiI",
        "outputId": "d2eabd25-28f4-4abb-b56c-56f7f1269127"
      },
      "source": [
        "# 리스트도 분해가 가능하다: 배열 or 객체 분해\n",
        "a,b,c = [1,2,3]\n",
        "a"
      ],
      "execution_count": null,
      "outputs": [
        {
          "output_type": "execute_result",
          "data": {
            "text/plain": [
              "1"
            ]
          },
          "metadata": {
            "tags": []
          },
          "execution_count": 99
        }
      ]
    },
    {
      "cell_type": "code",
      "metadata": {
        "colab": {
          "base_uri": "https://localhost:8080/"
        },
        "id": "YV94SC0zDNAF",
        "outputId": "619d1e4e-c01b-4deb-99df-c9ef72538132"
      },
      "source": [
        "def test():\n",
        "  return 1,2,3\n",
        "\n",
        "a = test()\n",
        "type(a) # 함수에서 여러개의 값을 리턴할 때 -> 튜플로 리턴된다."
      ],
      "execution_count": null,
      "outputs": [
        {
          "output_type": "execute_result",
          "data": {
            "text/plain": [
              "tuple"
            ]
          },
          "metadata": {
            "tags": []
          },
          "execution_count": 103
        }
      ]
    },
    {
      "cell_type": "markdown",
      "metadata": {
        "id": "V3OYyFjtzwgN"
      },
      "source": [
        "# 집합\n",
        "- 목적: 중복제거\n",
        "- 중복을 제거할 대상으로부터 중복제거를 함으로써 생성"
      ]
    },
    {
      "cell_type": "code",
      "metadata": {
        "colab": {
          "base_uri": "https://localhost:8080/"
        },
        "id": "o5FVltfiDNER",
        "outputId": "d92a6a09-d876-4ea2-e9c9-a21c9dfa318b"
      },
      "source": [
        "a = list('hello world')\n",
        "a # 'l'중복\n",
        "set(a) # 순서 없다. 순서 없이 고유한 값만 추출"
      ],
      "execution_count": null,
      "outputs": [
        {
          "output_type": "execute_result",
          "data": {
            "text/plain": [
              "{' ', 'd', 'e', 'h', 'l', 'o', 'r', 'w'}"
            ]
          },
          "metadata": {
            "tags": []
          },
          "execution_count": 107
        }
      ]
    },
    {
      "cell_type": "code",
      "metadata": {
        "colab": {
          "base_uri": "https://localhost:8080/"
        },
        "id": "T_k4wKwSDNHi",
        "outputId": "62e37634-87eb-481e-b739-7a17dad6be3c"
      },
      "source": [
        "list(set(a))  #다시 리스트로"
      ],
      "execution_count": null,
      "outputs": [
        {
          "output_type": "execute_result",
          "data": {
            "text/plain": [
              "['e', 'r', 'w', ' ', 'l', 'h', 'o', 'd']"
            ]
          },
          "metadata": {
            "tags": []
          },
          "execution_count": 112
        }
      ]
    },
    {
      "cell_type": "code",
      "metadata": {
        "id": "1xV-Er9LBibG"
      },
      "source": [
        "# 합집합\n",
        "# 교집합\n",
        "# 차집합  => set은 느려서 잘 사용하지 않는다.\n",
        "\n",
        "# C/C++로 모듈을 만들면 Cython으로 연결하여 python으로 api를 생성한다."
      ],
      "execution_count": null,
      "outputs": []
    },
    {
      "cell_type": "code",
      "metadata": {
        "colab": {
          "base_uri": "https://localhost:8080/"
        },
        "id": "V9Hsjw3Lzxnr",
        "outputId": "3bacd54c-ea4f-4cc1-ac8a-10ff63deb6a4"
      },
      "source": [
        "a = set([3,4,2,6,6,32,3])\n",
        "b = set([3,6,8,9,6,6,3,56,142,45,9])\n",
        "a, b"
      ],
      "execution_count": null,
      "outputs": [
        {
          "output_type": "execute_result",
          "data": {
            "text/plain": [
              "({2, 3, 4, 6, 32}, {3, 6, 8, 9, 45, 56, 142})"
            ]
          },
          "metadata": {
            "tags": []
          },
          "execution_count": 114
        }
      ]
    },
    {
      "cell_type": "code",
      "metadata": {
        "colab": {
          "base_uri": "https://localhost:8080/"
        },
        "id": "uZ-bCfmJFCuc",
        "outputId": "229393cd-e2ea-4210-fd08-d70afe3d50f9"
      },
      "source": [
        "# 합집합\n",
        "a.union(b)"
      ],
      "execution_count": null,
      "outputs": [
        {
          "output_type": "execute_result",
          "data": {
            "text/plain": [
              "{2, 3, 4, 6, 8, 9, 32, 45, 56, 142}"
            ]
          },
          "metadata": {
            "tags": []
          },
          "execution_count": 115
        }
      ]
    },
    {
      "cell_type": "code",
      "metadata": {
        "colab": {
          "base_uri": "https://localhost:8080/"
        },
        "id": "JCVzh_8gFH6V",
        "outputId": "4625d2c0-f017-47c0-ac9e-c887ca3cedd2"
      },
      "source": [
        "# 교집합\n",
        "a.intersection(b)"
      ],
      "execution_count": null,
      "outputs": [
        {
          "output_type": "execute_result",
          "data": {
            "text/plain": [
              "{3, 6}"
            ]
          },
          "metadata": {
            "tags": []
          },
          "execution_count": 116
        }
      ]
    },
    {
      "cell_type": "code",
      "metadata": {
        "colab": {
          "base_uri": "https://localhost:8080/"
        },
        "id": "ieIBCXjIFMcX",
        "outputId": "91f09ad4-b87b-45c0-af90-549a55860b51"
      },
      "source": [
        "# 차집합: 방향에 따라 달랄진다.\n",
        "a.difference(b), b.difference(a)"
      ],
      "execution_count": null,
      "outputs": [
        {
          "output_type": "execute_result",
          "data": {
            "text/plain": [
              "({2, 4, 32}, {8, 9, 45, 56, 142})"
            ]
          },
          "metadata": {
            "tags": []
          },
          "execution_count": 118
        }
      ]
    },
    {
      "cell_type": "code",
      "metadata": {
        "colab": {
          "base_uri": "https://localhost:8080/"
        },
        "id": "nF3d5LnvFQaR",
        "outputId": "cd7ab954-048c-44bd-c8ed-bc9f9165c0ca"
      },
      "source": [
        "a-b"
      ],
      "execution_count": null,
      "outputs": [
        {
          "output_type": "execute_result",
          "data": {
            "text/plain": [
              "{2, 4, 32}"
            ]
          },
          "metadata": {
            "tags": []
          },
          "execution_count": 119
        }
      ]
    },
    {
      "cell_type": "code",
      "metadata": {
        "colab": {
          "base_uri": "https://localhost:8080/"
        },
        "id": "tNV6WkO0FXy6",
        "outputId": "ea3a0f5d-b8b1-45c3-bb7d-a8166b2d87d1"
      },
      "source": [
        "b-a"
      ],
      "execution_count": null,
      "outputs": [
        {
          "output_type": "execute_result",
          "data": {
            "text/plain": [
              "{8, 9, 45, 56, 142}"
            ]
          },
          "metadata": {
            "tags": []
          },
          "execution_count": 120
        }
      ]
    }
  ]
}