{
  "nbformat": 4,
  "nbformat_minor": 0,
  "metadata": {
    "colab": {
      "name": "7. 함수.ipynb",
      "provenance": [],
      "collapsed_sections": [],
      "toc_visible": true,
      "authorship_tag": "ABX9TyPwz+9iZBE9Ziio6fWAWef7",
      "include_colab_link": true
    },
    "kernelspec": {
      "name": "python3",
      "display_name": "Python 3"
    }
  },
  "cells": [
    {
      "cell_type": "markdown",
      "metadata": {
        "id": "view-in-github",
        "colab_type": "text"
      },
      "source": [
        "<a href=\"https://colab.research.google.com/github/spaceofsilver/python_basic/blob/main/7_%ED%95%A8%EC%88%98.ipynb\" target=\"_parent\"><img src=\"https://colab.research.google.com/assets/colab-badge.svg\" alt=\"Open In Colab\"/></a>"
      ]
    },
    {
      "cell_type": "markdown",
      "metadata": {
        "id": "n2eXDrZWTCMR"
      },
      "source": [
        "# 함수"
      ]
    },
    {
      "cell_type": "markdown",
      "metadata": {
        "id": "Ky7UtuZtTN-Z"
      },
      "source": [
        "# 개요/정의\n",
        "\n",
        "- 특정한 기능을 수행하는 수행문의 덩어리를 하나로 뭉쳐서 단일의 목적을 수행하는 단위\n",
        "- *입력(데이터) 대비 출력(산출물)*이라는 형태가 존재\n",
        "- 입력 => ***파라미터***, 출력 => **리턴값**\n",
        "\n",
        "\n",
        "\n",
        "\n",
        "- 재활용성을 높은 코드를 하나로 묶어서 함수로 표현( 한 번 이상 사용될 경우 )\n",
        "- 단지, 코드가 복잡해서 하나로 묶어서 처리 가능\n",
        "- 코드를 기능별로 나눠서 효율적으로 유지 보수 및 관리하기 위해 구성 -> 재활용성 및 다른 프로젝트에서도 활용\n",
        "- 생산성 향상을 가져오게 함 => 수익 증대 => 효율적인 작업\n",
        "- 함수, 메소드 다 같은 의미이다."
      ]
    },
    {
      "cell_type": "markdown",
      "metadata": {
        "id": "4g4VteB2TGN9"
      },
      "source": [
        "## 종류\n",
        "\n",
        "- 커스텀 함수\n",
        "  - 개발자가 필요에 의해 만든 함수 : def()\n",
        "  - 문법 필요\n",
        "  - 함수 정의하고 쓰기\n",
        "- 내장함수\n",
        "  - 별도의 액션 없이 바로 사용가능한 함수\n",
        "  - int(), str(), sum(). print(), type(), ...\n",
        "  - 주로 사용하는 것들은 내용을 기억, 나머지는 필요시 찾아서 사용"
      ]
    },
    {
      "cell_type": "markdown",
      "metadata": {
        "id": "ZbXxtqmzVCk3"
      },
      "source": [
        "- 외장함수\n",
        "  - 서드파트 모듈을 가져와서 그 안에 있는 함수를 사용한다면 이는 외장함수\n",
        "  - package(module).함수()\n",
        "  - 내가 만든 함수를 다른 사람이 사용한다면 그것은 외장함수가 된다.\n",
        "- 람다함수\n",
        "  - 휘발성 함수\n",
        "  - 가장 빠른 처리 속도를 가진다\n",
        "  - 수행문이 1개여야 한다는 제한\n",
        "  - 함수 인자의 함수가 연결(콜백처리)되는 스타일에서 주로 사용\n",
        "  - **python: filter(), map()**\n",
        "  - **pandas: apply()**\n",
        "  - (형태) lamdba x : x + 1\n",
        "- 클로저\n",
        "  - 함수 안에 함수가 정의돼 있음. 함수내부에서만 사용하게 제한하거나, 외부에서 사용시 xxxx()() 형태\n",
        "  - keras에서 주로 보임\n",
        "- 고급표현 (다음 주)"
      ]
    },
    {
      "cell_type": "markdown",
      "metadata": {
        "id": "-g9oOD89TLJh"
      },
      "source": [
        "## 특징\n"
      ]
    },
    {
      "cell_type": "markdown",
      "metadata": {
        "id": "pSw1sU4DWOaO"
      },
      "source": [
        "# 1. 커스텀 함수"
      ]
    },
    {
      "cell_type": "markdown",
      "metadata": {
        "id": "U9X2ghYlW4gt"
      },
      "source": [
        "\n",
        "- [..] 생략 가능하다."
      ]
    },
    {
      "cell_type": "code",
      "metadata": {
        "id": "4oLKhkMqW3-1"
      },
      "source": [
        "'''\n",
        "[@ ~ <- 데코레이터(다음 주)]\n",
        "\n",
        "def 함수명([인자1, 인자2,...]);   # 함수의 선언부분\n",
        "  # 코드블럭 파트\n",
        "  statements ...                  # 수행문은 여러개 나올 수 있다\n",
        "  [return[출력값, ...] ]          # return값은 생략가능하고 출력값은 여러개가 나올 수 있다.\n",
        "\n",
        "'''"
      ],
      "execution_count": null,
      "outputs": []
    },
    {
      "cell_type": "code",
      "metadata": {
        "colab": {
          "base_uri": "https://localhost:8080/"
        },
        "id": "tRpCw83TW0Dj",
        "outputId": "d82f7023-db50-4a66-d943-4724d913ce65"
      },
      "source": [
        "# (1) 정수 더하기 함수\n",
        "\n",
        "# - 함수명:   sum\n",
        "# - 입력  :   x, y\n",
        "# - 출력  :   입력된 2개의 값을 더한 값\n",
        "'''\n",
        "    파이썬의 변수는 \"타입 추론형\" -> 변수명 앞에는 어떤한 기호도 없거나 범용적 기호(var,let,...)밖에 안 쓴다. \n",
        "                              따라서 정수만 받으라고 지정할 수 없다( ! 중요 )\n",
        "                                    함수를 짤 때 \"출력\"부터 짜기 -> 과정 구성                            '''\n",
        "def sum_xy(x,y): \n",
        "  sum = int(x) + int(y)\n",
        "  return sum\n",
        "\n",
        "# 함수는 **호출**해야 의미를 가진다 : call by value\n",
        "# 호출 :  함수명(parameter)\n",
        "\n",
        "sum_xy(6.9,7)"
      ],
      "execution_count": null,
      "outputs": [
        {
          "output_type": "execute_result",
          "data": {
            "text/plain": [
              "13"
            ]
          },
          "metadata": {
            "tags": []
          },
          "execution_count": 11
        }
      ]
    },
    {
      "cell_type": "code",
      "metadata": {
        "colab": {
          "base_uri": "https://localhost:8080/"
        },
        "id": "UiaBQr6rW0Gv",
        "outputId": "692901a3-fbbf-4965-8184-e6d36b322e36"
      },
      "source": [
        "# (2) 출력이 없는 함수\n",
        "# : **return**이 없는 함수\n",
        "def sum2(x,y): \n",
        "  print( x + y )\n",
        "sum2(1,2), print(sum2(1,2)) # 함수를 프린트를 해보면\n",
        "                            # 함수가 return값을 가지지 않으면 함수의 반환값은 None! ( 주의 )"
      ],
      "execution_count": null,
      "outputs": [
        {
          "output_type": "stream",
          "text": [
            "3\n",
            "3\n",
            "None\n"
          ],
          "name": "stdout"
        },
        {
          "output_type": "execute_result",
          "data": {
            "text/plain": [
              "(None, None)"
            ]
          },
          "metadata": {
            "tags": []
          },
          "execution_count": 16
        }
      ]
    },
    {
      "cell_type": "code",
      "metadata": {
        "colab": {
          "base_uri": "https://localhost:8080/"
        },
        "id": "3Fp3HoDJW0KY",
        "outputId": "c3ac1cdd-3f60-4195-f5fe-fd7bd278456a"
      },
      "source": [
        "# (3) 가변인자\n",
        "# : 매개변수의 수가 정해져있지 않다(가변적)\n",
        "\n",
        "def sum3(*x): \n",
        "  print( x , type(x) )\n",
        "\n",
        "# 인자들을 **튜플**로 묶어서 함수 내부로 가져온다.\n",
        "sum3(1,2)\n",
        "sum3(1,2,3)\n",
        "sum3(1,2,3,4)"
      ],
      "execution_count": null,
      "outputs": [
        {
          "output_type": "stream",
          "text": [
            "(1, 2) <class 'tuple'>\n",
            "(1, 2, 3) <class 'tuple'>\n",
            "(1, 2, 3, 4) <class 'tuple'>\n"
          ],
          "name": "stdout"
        }
      ]
    },
    {
      "cell_type": "code",
      "metadata": {
        "colab": {
          "base_uri": "https://localhost:8080/"
        },
        "id": "ELcY5DQdW0NS",
        "outputId": "61a77559-8462-425a-ec00-918da14a4ea6"
      },
      "source": [
        "# (4) 일반인자 + 가변인자\n",
        "\n",
        "def sum4(a, *x): \n",
        "  print( a , type(a), x , type(x) )\n",
        "\n",
        "sum4(1,2)\n",
        "sum4(1,2,3)\n",
        "sum4(1,2,3,4)"
      ],
      "execution_count": null,
      "outputs": [
        {
          "output_type": "stream",
          "text": [
            "1 <class 'int'> (2,) <class 'tuple'>\n",
            "1 <class 'int'> (2, 3) <class 'tuple'>\n",
            "1 <class 'int'> (2, 3, 4) <class 'tuple'>\n"
          ],
          "name": "stdout"
        }
      ]
    },
    {
      "cell_type": "code",
      "metadata": {
        "colab": {
          "base_uri": "https://localhost:8080/",
          "height": 245
        },
        "id": "qNj5Du1WbHnO",
        "outputId": "3d4f4a49-8954-4e8e-bf0e-7105ce8b4315"
      },
      "source": [
        "# Q1. *x와 a의 위치 바꿔도 되나?\n",
        "def sum5(*x , a ): \n",
        "  print( a , type(a), x , type(x) )\n",
        "\n",
        "sum5(1,2)\n",
        "sum5(1,2,3)\n",
        "sum5(1,2,3,4)"
      ],
      "execution_count": null,
      "outputs": [
        {
          "output_type": "error",
          "ename": "TypeError",
          "evalue": "ignored",
          "traceback": [
            "\u001b[0;31m---------------------------------------------------------------------------\u001b[0m",
            "\u001b[0;31mTypeError\u001b[0m                                 Traceback (most recent call last)",
            "\u001b[0;32m<ipython-input-22-18408ffde537>\u001b[0m in \u001b[0;36m<module>\u001b[0;34m()\u001b[0m\n\u001b[1;32m      2\u001b[0m   \u001b[0mprint\u001b[0m\u001b[0;34m(\u001b[0m \u001b[0ma\u001b[0m \u001b[0;34m,\u001b[0m \u001b[0mtype\u001b[0m\u001b[0;34m(\u001b[0m\u001b[0ma\u001b[0m\u001b[0;34m)\u001b[0m\u001b[0;34m,\u001b[0m \u001b[0mx\u001b[0m \u001b[0;34m,\u001b[0m \u001b[0mtype\u001b[0m\u001b[0;34m(\u001b[0m\u001b[0mx\u001b[0m\u001b[0;34m)\u001b[0m \u001b[0;34m)\u001b[0m\u001b[0;34m\u001b[0m\u001b[0;34m\u001b[0m\u001b[0m\n\u001b[1;32m      3\u001b[0m \u001b[0;34m\u001b[0m\u001b[0m\n\u001b[0;32m----> 4\u001b[0;31m \u001b[0msum5\u001b[0m\u001b[0;34m(\u001b[0m\u001b[0;36m1\u001b[0m\u001b[0;34m,\u001b[0m\u001b[0;36m2\u001b[0m\u001b[0;34m)\u001b[0m\u001b[0;34m\u001b[0m\u001b[0;34m\u001b[0m\u001b[0m\n\u001b[0m\u001b[1;32m      5\u001b[0m \u001b[0msum5\u001b[0m\u001b[0;34m(\u001b[0m\u001b[0;36m1\u001b[0m\u001b[0;34m,\u001b[0m\u001b[0;36m2\u001b[0m\u001b[0;34m,\u001b[0m\u001b[0;36m3\u001b[0m\u001b[0;34m)\u001b[0m\u001b[0;34m\u001b[0m\u001b[0;34m\u001b[0m\u001b[0m\n\u001b[1;32m      6\u001b[0m \u001b[0msum5\u001b[0m\u001b[0;34m(\u001b[0m\u001b[0;36m1\u001b[0m\u001b[0;34m,\u001b[0m\u001b[0;36m2\u001b[0m\u001b[0;34m,\u001b[0m\u001b[0;36m3\u001b[0m\u001b[0;34m,\u001b[0m\u001b[0;36m4\u001b[0m\u001b[0;34m)\u001b[0m\u001b[0;34m\u001b[0m\u001b[0;34m\u001b[0m\u001b[0m\n",
            "\u001b[0;31mTypeError\u001b[0m: sum5() missing 1 required keyword-only argument: 'a'"
          ]
        }
      ]
    },
    {
      "cell_type": "code",
      "metadata": {
        "colab": {
          "base_uri": "https://localhost:8080/"
        },
        "id": "5oX8f1bjbW7c",
        "outputId": "980d90c8-9ae9-496a-9d98-828110faa3de"
      },
      "source": [
        "# Q2. a의 값을 지정해주면?\n",
        "\n",
        "def sum6( *x, a ): \n",
        "  print( a , type(a), x , type(x) )\n",
        "\n",
        "# 매개변수의 기본값 부여\n",
        "# a=3, a라는 파라마터에 값을 직접 지정하는 것.\n",
        "sum6(1,a=2)\n",
        "sum6(1,2,a=3)\n",
        "sum6(1,2,3,a=4)"
      ],
      "execution_count": null,
      "outputs": [
        {
          "output_type": "stream",
          "text": [
            "2 <class 'int'> (1,) <class 'tuple'>\n",
            "3 <class 'int'> (1, 2) <class 'tuple'>\n",
            "4 <class 'int'> (1, 2, 3) <class 'tuple'>\n"
          ],
          "name": "stdout"
        }
      ]
    },
    {
      "cell_type": "code",
      "metadata": {
        "colab": {
          "base_uri": "https://localhost:8080/"
        },
        "id": "JnsKg022bW-v",
        "outputId": "388c783b-4fe1-480f-e055-ec53232b1a34"
      },
      "source": [
        "# (5) 누적합을 출력하는 함수\n",
        "\n",
        "def sum7( *x ):\n",
        "  sum = 0\n",
        "  for i in x:\n",
        "    sum += i\n",
        "  pass\n",
        "  return sum # (! 주의 ) return값을 for문 안에 넣으면 안 돼\n",
        "\n",
        "sum7(2,4,6,8), sum7(2,4,6,8,10,12)"
      ],
      "execution_count": null,
      "outputs": [
        {
          "output_type": "execute_result",
          "data": {
            "text/plain": [
              "(20, 42)"
            ]
          },
          "metadata": {
            "tags": []
          },
          "execution_count": 41
        }
      ]
    },
    {
      "cell_type": "code",
      "metadata": {
        "colab": {
          "base_uri": "https://localhost:8080/"
        },
        "id": "9j63rDdKrSnf",
        "outputId": "5d175e78-0178-49eb-9f0a-85d6b7f7494d"
      },
      "source": [
        "# (5) 누적곱을 출력하는 함수\n",
        "\n",
        "def mul( *x ):  # 순서대로 들어감\n",
        "  mul = 1\n",
        "  for i in x:\n",
        "    mul = mul * i\n",
        "  pass\n",
        "  return mul\n",
        "\n",
        "mul(2,4,6,8), mul(2,4,6,8,10,12)"
      ],
      "execution_count": null,
      "outputs": [
        {
          "output_type": "execute_result",
          "data": {
            "text/plain": [
              "(384, 46080)"
            ]
          },
          "metadata": {
            "tags": []
          },
          "execution_count": 42
        }
      ]
    },
    {
      "cell_type": "code",
      "metadata": {
        "colab": {
          "base_uri": "https://localhost:8080/"
        },
        "id": "KifNj-G0tlkD",
        "outputId": "1f4f56d0-7216-451b-b576-bb1a0af93ff1"
      },
      "source": [
        "# (6) **kargs : keyword arguments\n",
        "# 머신러닝 , 딥러닝에서 많은 함수의 마지막 인자로 많이 사용한다.\n",
        "# 장점: 함수 외적으로 어떤 인자를 받을 것인지 은닉할 수 있다.\n",
        "# 인자를 명확하게 지정하여(키) 여러개를 자유롭게 확장할 수 있다.\n",
        "\n",
        "# Q. 함수내부에서 '정식'이라는 값을 출력하시오\n",
        "# A.\n",
        "def test(**kargs):\n",
        "  print(kargs, type(kargs))     # type -> \"dictionary\"( ! 중요 )\n",
        "  for k,v in kargs.items():     # key값을 모를 때\n",
        "    print(k,v)                  # 딕셔너리 for문( ! 중요 )\n",
        "\n",
        "# kargs : 파라미터의 키값을 지정해서 데이터를 넘길 때 사용\n",
        "test(food = '정식' , drink = '물')"
      ],
      "execution_count": null,
      "outputs": [
        {
          "output_type": "stream",
          "text": [
            "{'food': '정식', 'drink': '물'} <class 'dict'>\n",
            "food 정식\n",
            "drink 물\n"
          ],
          "name": "stdout"
        }
      ]
    },
    {
      "cell_type": "code",
      "metadata": {
        "colab": {
          "base_uri": "https://localhost:8080/"
        },
        "id": "RmMrPMLGtlnN",
        "outputId": "8efc0a71-6ffb-489d-d3b7-d9788c17b028"
      },
      "source": [
        "# (참고) Dict을 for문 돌리면 ?\n",
        "\n",
        "a = {'food': '정식', 'drink': '물'}\n",
        "for k,v in a.items():\n",
        "  print(v)\n",
        "print('-'*20)\n",
        "for i in a.values():\n",
        "  print(i)\n",
        "print('-'*20)\n",
        "for i in a.keys():\n",
        "  print(i)\n",
        "\n"
      ],
      "execution_count": null,
      "outputs": [
        {
          "output_type": "stream",
          "text": [
            "정식\n",
            "물\n",
            "--------------------\n",
            "정식\n",
            "물\n",
            "--------------------\n",
            "food\n",
            "drink\n"
          ],
          "name": "stdout"
        }
      ]
    },
    {
      "cell_type": "code",
      "metadata": {
        "colab": {
          "base_uri": "https://localhost:8080/"
        },
        "id": "fIiikOo8tlqH",
        "outputId": "3f9f3a79-b190-4af2-9a3f-931d04218153"
      },
      "source": [
        "# (7) return 값이 여러개\n",
        "# 리턴된 값의 타입은 무조건 TUPLE(! 주의 )\n",
        "\n",
        "def cal(x,y):\n",
        "  return x+y, x-y, x*y, x/y  # 리턴값을 여러개로 나열하면 튜플로 묶는다.\n",
        "\n",
        "cal(4,5)"
      ],
      "execution_count": null,
      "outputs": [
        {
          "output_type": "execute_result",
          "data": {
            "text/plain": [
              "(9, -1, 20, 0.8)"
            ]
          },
          "metadata": {
            "tags": []
          },
          "execution_count": 66
        }
      ]
    },
    {
      "cell_type": "code",
      "metadata": {
        "colab": {
          "base_uri": "https://localhost:8080/"
        },
        "id": "0teHFPaZtlte",
        "outputId": "d45a83d9-8795-4482-c2b9-4d22d6ecd289"
      },
      "source": [
        "# (7) - 1. 구조 분해\n",
        "# 멤버수대로 직접 변수에 바로 대입하여 결과를 얻는다.\n",
        "# 장점: 각 변수의 의미를 명확하게 부여할 수 있다.\n",
        "\n",
        "a,b,c,_ = cal(4,5)\n",
        "a, b, c, d\n",
        "\n",
        "# Q. 리턴은 4개인데 받는건 3개의 변수 가능?\n",
        "# A. 불가능"
      ],
      "execution_count": null,
      "outputs": [
        {
          "output_type": "execute_result",
          "data": {
            "text/plain": [
              "(9, -1, 20, 0.8)"
            ]
          },
          "metadata": {
            "tags": []
          },
          "execution_count": 72
        }
      ]
    },
    {
      "cell_type": "code",
      "metadata": {
        "colab": {
          "base_uri": "https://localhost:8080/"
        },
        "id": "V5PamMRHtlwa",
        "outputId": "e1ccbc18-fd2d-41a5-fcb2-97d2e785ca63"
      },
      "source": [
        "# (8) 함수의 파라미터 초기값 부여\n",
        "\n",
        "def cal( age=19, height=182 ):\n",
        "  print('당신의 나이는 %s, 키는 %s'%(age, height))\n",
        "\n",
        "# 순서가 없다.\n",
        "cal() , cal(10), cal(height=110), cal(42,150)"
      ],
      "execution_count": null,
      "outputs": [
        {
          "output_type": "stream",
          "text": [
            "당신의 나이는 19, 키는 182\n",
            "당신의 나이는 10, 키는 182\n",
            "당신의 나이는 19, 키는 110\n",
            "당신의 나이는 42, 키는 150\n"
          ],
          "name": "stdout"
        },
        {
          "output_type": "execute_result",
          "data": {
            "text/plain": [
              "(None, None, None, None)"
            ]
          },
          "metadata": {
            "tags": []
          },
          "execution_count": 81
        }
      ]
    },
    {
      "cell_type": "code",
      "metadata": {
        "colab": {
          "base_uri": "https://localhost:8080/"
        },
        "id": "HUFoeIyIyavo",
        "outputId": "2c1944da-478e-4ec8-9ee7-a9ffec542a4d"
      },
      "source": [
        "# (8) 함수의 파라미터 초기값 부여\n",
        "def cal2( name , age=19, height=182 ):\n",
        "  print('%s의 나이는 %s, 키는 %s'%(name, age, height))\n",
        "\n",
        "\n",
        "cal2('joe')\n",
        "# 순서대로 인자가 배치\n",
        "cal2(40)\n",
        "# 기본값이 없는 파라미터부터 채우고, 기본값이 없는 파라미터 채우기.\n",
        "cal2(age=30, height=15, name='철수')\n",
        "# 기본값이 없어도 파라미터명을 지정하면 순서에 상관없이 채울 수 있다.\n",
        "cal2('hi', height=110)"
      ],
      "execution_count": null,
      "outputs": [
        {
          "output_type": "stream",
          "text": [
            "joe의 나이는 19, 키는 182\n",
            "40의 나이는 19, 키는 182\n",
            "철수의 나이는 30, 키는 15\n",
            "hi의 나이는 19, 키는 110\n"
          ],
          "name": "stdout"
        }
      ]
    },
    {
      "cell_type": "code",
      "metadata": {
        "id": "JHMNonEMzeX3"
      },
      "source": [
        "def fitt( X_train, y_train): pass"
      ],
      "execution_count": null,
      "outputs": []
    },
    {
      "cell_type": "code",
      "metadata": {
        "colab": {
          "base_uri": "https://localhost:8080/",
          "height": 136
        },
        "id": "S1vuVx8NzebK",
        "outputId": "e153d031-efa5-436f-e7fb-1cf11eaafbd5"
      },
      "source": [
        "# 기본값 없는 파라미터는 기본값 있는 파라미터보다 무조건 앞에 있어야함.\n",
        "def cal2( age=19, name , height=182 ):\n",
        "  print('%s의 나이는 %s, 키는 %s'%(name, age, height))"
      ],
      "execution_count": null,
      "outputs": [
        {
          "output_type": "error",
          "ename": "SyntaxError",
          "evalue": "ignored",
          "traceback": [
            "\u001b[0;36m  File \u001b[0;32m\"<ipython-input-90-85a3bebeec32>\"\u001b[0;36m, line \u001b[0;32m2\u001b[0m\n\u001b[0;31m    def cal2( age=19, name , height=182 ):\u001b[0m\n\u001b[0m             ^\u001b[0m\n\u001b[0;31mSyntaxError\u001b[0m\u001b[0;31m:\u001b[0m non-default argument follows default argument\n"
          ]
        }
      ]
    },
    {
      "cell_type": "markdown",
      "metadata": {
        "id": "nR26VSGrWRU3"
      },
      "source": [
        "# 2. 내장함수\n",
        "\n",
        "- 특정 기능을 가진 함수를 별도의 액션 없이 바로 호출가능한 함수들\n",
        "- 사용 빈도가 높은 함수가 많음( 시간이 충분하면 한 번 정도 사용해봐도 ok)"
      ]
    },
    {
      "cell_type": "code",
      "metadata": {
        "id": "-V189ZSKya2f"
      },
      "source": [
        "en_txt = '''\n",
        "Tesla, Inc. (formerly Tesla Motors, Inc.) is an American electric vehicle and clean energy company based in Palo Alto, California. Tesla's current products include electric cars (the Model S, Model 3, Model X, and Model Y), battery energy storage from home to grid scale (the Powerwall, Powerpack, and Megapack), solar panels and solar roof tiles, and related products and services.\n",
        "\n",
        "Founded in July 2003 by engineers Martin Eberhard and Marc Tarpenning as Tesla Motors, the company’s name is a tribute to inventor and electrical engineer Nikola Tesla. Eberhard said he wanted to build \"a car manufacturer that is also a technology company\", with its core technologies as \"the battery, the computer software and the proprietary motor\".\n",
        "\n",
        "The next three employees at Tesla were Ian Wright, Elon Musk, and J. B. Straubel.[9] Musk, who has served as CEO since 2008, said in 2006 that \"the overarching purpose of Tesla Motors...is to help expedite the move from a mine-and-burn hydrocarbon economy toward a solar electric economy\" and it would build a wide range of electric vehicles, including \"affordably priced family cars\", and co-market SolarCity solar panels to do so.[10][11][12] Tesla acquired SolarCity in 2016.\n",
        "\n",
        "After 11 years in the market, Tesla ranked as the world's best-selling plug-in and battery electric passenger car manufacturer in 2019, with a market share of 17% of the plug-in segment and 23% of the battery electric segment.[13] Tesla global vehicle sales increased 50% from 245,240 units in 2018[14] to 367,849 units in 2019.[13] In 2020, the company surpassed the 1 million mark of electric cars produced.[15] The Model 3 ranks as the world's all-time best-selling plug-in electric car, with more than 500,000 delivered.[16] Tesla cars accounted for 81% of the battery electric vehicles sold in the United States in the first half of 2020.[\n",
        "'''"
      ],
      "execution_count": null,
      "outputs": []
    },
    {
      "cell_type": "code",
      "metadata": {
        "id": "kmGBzdxT3856"
      },
      "source": [
        "# Q. 주어진 본문의 알파벳별 빈도를 계산하시오\n",
        "\n",
        "# 알파벳의 빈도는 국가별로 다르다는 논문 검증을 통해 -> 머신러닝 학습모델 구현\n",
        "# 언어감지 서비스의 기초(ex.파파고)\n",
        "# 주어진 데이터로부터 정제과정을 거쳐서 알파벳만 존재하는 문자열을 획득"
      ],
      "execution_count": null,
      "outputs": []
    },
    {
      "cell_type": "code",
      "metadata": {
        "id": "M2pcx-et39Gz"
      },
      "source": [
        "import re\n",
        "\n",
        "# 정규식을 생성\n",
        "# []: 문자 한 개, 문자 클래스\n",
        "# * : 0부터 무한대로 반복해서 나올 수 있다. \n",
        "# [^]: 해당 문자 빼고\n",
        "# a-zA-Z : 모든 알파벳\n",
        "\n",
        "# 알파벳을 제외한 모든 문자.\n",
        "\n",
        "p = re.compile(  '[^a-zA-Z]*' )"
      ],
      "execution_count": null,
      "outputs": []
    },
    {
      "cell_type": "code",
      "metadata": {
        "id": "WmdsTZCv39KV"
      },
      "source": [
        "# 정규식을 이용하여 알파벳만 남긴다.\n",
        "# 원문에서 알파벳을 제외한 모든 문자를 찾아서 ' '으로 대체한다.\n",
        "\n",
        "new_text = re.sub('[^a-zA-Z]*','',en_txt).strip().lower()"
      ],
      "execution_count": null,
      "outputs": []
    },
    {
      "cell_type": "code",
      "metadata": {
        "id": "xvUtIa497Uk7"
      },
      "source": [
        "# 알파벳 순서\n",
        "# a,b,c,d,... -> 아스키코드\n",
        "# a -> 아스키 97, z -> 아스키 122\n",
        "# 알파벳 간에는 거리값이 존재.\n",
        "# a -> 97이 나오게 하는 함수는?"
      ],
      "execution_count": null,
      "outputs": []
    },
    {
      "cell_type": "code",
      "metadata": {
        "colab": {
          "base_uri": "https://localhost:8080/"
        },
        "id": "qbl08a6N8OdA",
        "outputId": "ff538ca8-a98b-4a18-9dae-6cdad3e0b42e"
      },
      "source": [
        "ord('z')"
      ],
      "execution_count": null,
      "outputs": [
        {
          "output_type": "execute_result",
          "data": {
            "text/plain": [
              "122"
            ]
          },
          "metadata": {
            "tags": []
          },
          "execution_count": 191
        }
      ]
    },
    {
      "cell_type": "code",
      "metadata": {
        "id": "QiX3RsBS8Of8"
      },
      "source": [
        "# 카운트 빈도를 담을 리스트 준비 -> 26개(a-z)\n",
        "# 모든 구성원의 초기값은 0\n",
        "counts = [ 0 for i in range(26)] # 리스트 내포\n",
        "# 문자열에서 한개씩 추출 -> for\n",
        "\n",
        "# ss = []\n",
        "for i in new_text:\n",
        "  # print(ord(i)) #공백값 다 포함.\n",
        "  # ss.append(i)\n",
        "  # 카운트\n",
        "  counts[ ord(i) - ord('a')] += 1"
      ],
      "execution_count": null,
      "outputs": []
    },
    {
      "cell_type": "code",
      "metadata": {
        "id": "9v5fVTMrB6R_"
      },
      "source": [
        "# counts"
      ],
      "execution_count": null,
      "outputs": []
    },
    {
      "cell_type": "code",
      "metadata": {
        "id": "6oChIuRgDb67"
      },
      "source": [
        "tmp = set(new_text)\n",
        "tmp = list(tmp)\n",
        "tmp.sort()\n",
        "# tmp"
      ],
      "execution_count": null,
      "outputs": []
    },
    {
      "cell_type": "code",
      "metadata": {
        "id": "mkoilBoMDb_M"
      },
      "source": [
        "new = {}\n",
        "for alpa, cnt in zip(t, counts):\n",
        "  new[alpa] = cnt"
      ],
      "execution_count": null,
      "outputs": []
    },
    {
      "cell_type": "code",
      "metadata": {
        "colab": {
          "base_uri": "https://localhost:8080/"
        },
        "id": "pxknSKNzDcC3",
        "outputId": "07adda96-ec1a-452b-fcc9-a302781fcbef"
      },
      "source": [
        "new"
      ],
      "execution_count": null,
      "outputs": [
        {
          "output_type": "execute_result",
          "data": {
            "text/plain": [
              "{'a': 129,\n",
              " 'b': 20,\n",
              " 'c': 71,\n",
              " 'd': 58,\n",
              " 'e': 176,\n",
              " 'f': 25,\n",
              " 'g': 23,\n",
              " 'h': 45,\n",
              " 'i': 84,\n",
              " 'j': 2,\n",
              " 'k': 11,\n",
              " 'l': 84,\n",
              " 'm': 43,\n",
              " 'n': 90,\n",
              " 'o': 92,\n",
              " 'p': 29,\n",
              " 'q': 1,\n",
              " 'r': 108,\n",
              " 's': 89,\n",
              " 't': 116,\n",
              " 'u': 31,\n",
              " 'v': 10,\n",
              " 'w': 16,\n",
              " 'x': 3,\n",
              " 'y': 26}"
            ]
          },
          "metadata": {
            "tags": []
          },
          "execution_count": 247
        }
      ]
    },
    {
      "cell_type": "code",
      "metadata": {
        "colab": {
          "base_uri": "https://localhost:8080/"
        },
        "id": "VBI_90kJ8Oil",
        "outputId": "7a2246d6-cd12-4c49-9a1a-ec19e026fe9a"
      },
      "source": [
        "[0]*26 # (! 중요 ) 이것도 가능!!"
      ],
      "execution_count": null,
      "outputs": [
        {
          "output_type": "execute_result",
          "data": {
            "text/plain": [
              "[0, 0, 0, 0, 0, 0, 0, 0, 0, 0, 0, 0, 0, 0, 0, 0, 0, 0, 0, 0, 0, 0, 0, 0, 0, 0]"
            ]
          },
          "metadata": {
            "tags": []
          },
          "execution_count": 150
        }
      ]
    },
    {
      "cell_type": "code",
      "metadata": {
        "id": "RGNN2Gfp8Olu"
      },
      "source": [
        "# 파일 시스템 - 쓰기\n",
        "# 없으면 만들고 열기\n",
        "# 'w': 쓰기모드 + 텍스트 모드(메모장에 열린다)\n",
        "# 'wb': 쓰기모드 + 바이너리(이미지, 한글)\n",
        "\n",
        "# 1. 파일 생성 및 오픈 -> I/O 에 관한 것\n",
        "f = open( 'test.txt', 'w' ) # 'w': 쓰기모드 + 텍스트 모드\n",
        "f\n",
        "# 2. 파일 닫기 :  바로 작성하기(I/O는 오픈과 동시에 종료에 대해 기술해야함.)\n",
        "f.close()"
      ],
      "execution_count": null,
      "outputs": []
    },
    {
      "cell_type": "code",
      "metadata": {
        "id": "CRdzUUBl8OoD"
      },
      "source": [
        "# 우리가 주로 사용하는 문자들을 잘 기록된다.\n",
        "f = open( 'test.txt', 'w' ) \n",
        "f.write('가나다 한글 abc English ABC 123 456')\n",
        "f.close()"
      ],
      "execution_count": null,
      "outputs": []
    },
    {
      "cell_type": "code",
      "metadata": {
        "colab": {
          "base_uri": "https://localhost:8080/"
        },
        "id": "y_erkY5u8OqH",
        "outputId": "cba2aabb-da98-4eec-8df8-c7a0bebe026d"
      },
      "source": [
        "# 파일 시스템 - 쓰기\n",
        "# - 'r' : 읽기 모드\n",
        "# 우리가 주로 사용하는 문자들을 잘 기록된다.\n",
        "f = open( 'test.txt', 'r' ) \n",
        "print(f.read())\n",
        "f.close()"
      ],
      "execution_count": null,
      "outputs": [
        {
          "output_type": "stream",
          "text": [
            "가나다 한글 abc English ABC 123 456\n"
          ],
          "name": "stdout"
        }
      ]
    },
    {
      "cell_type": "code",
      "metadata": {
        "id": "agcsKhnGAGJX"
      },
      "source": [
        "# 파이썬에서 I/O를 닫는게 중요한데 종종 실수로 누락하는 경우 많다. \n",
        "# with문 이라는 문법을 지원하여 이를 해결한다. \n",
        "# 데이터 베이스, 네트워크 등에서 사용"
      ],
      "execution_count": null,
      "outputs": []
    },
    {
      "cell_type": "code",
      "metadata": {
        "id": "s5i_ms-_AGMP"
      },
      "source": [
        "with open( 'test.txt', 'r' ) as f: # I/O를 열고 'f'라는 별칭을 준다. \n",
        "  print(f.read())\n",
        "# with문을 빠져나가면 자동으로 close() 처리한다.\n",
        "  # f.close() 없어도 된다."
      ],
      "execution_count": null,
      "outputs": []
    },
    {
      "cell_type": "code",
      "metadata": {
        "colab": {
          "base_uri": "https://localhost:8080/"
        },
        "id": "LED7my7v79Ps",
        "outputId": "9141a2b8-64b3-4af2-8430-bcbb515cd96d"
      },
      "source": [
        "# map( )\n",
        "\n",
        "# 데이터 \n",
        "a = [1,2,3,4,5]\n",
        "\n",
        "# a의 각 구성원은 값을 2배로 키우기 => [2,4,6,8,10]\n",
        "# 멤버들을 각 하나씩 꺼내서 *2. 다시 원위치화\n",
        "# 판다스는 apply\n",
        "# 파이썬은 map\n",
        "def mul2( x ):\n",
        "  return x * 2\n",
        "\n",
        "\n",
        "list( map(mul2 , a) )"
      ],
      "execution_count": null,
      "outputs": [
        {
          "output_type": "execute_result",
          "data": {
            "text/plain": [
              "[2, 4, 6, 8, 10]"
            ]
          },
          "metadata": {
            "tags": []
          },
          "execution_count": 216
        }
      ]
    },
    {
      "cell_type": "code",
      "metadata": {
        "colab": {
          "base_uri": "https://localhost:8080/"
        },
        "id": "MdkTK5gUF_Te",
        "outputId": "1ce11ea2-7ade-4757-d882-188eecaecba1"
      },
      "source": [
        "def mul2( x ):\n",
        "  return x * 2\n",
        "# 호출할때만 생성되고 이후에는 람다함수는 사라진다(휘발성)\n",
        "list( map(lambda x: x*2 , a) )"
      ],
      "execution_count": null,
      "outputs": [
        {
          "output_type": "execute_result",
          "data": {
            "text/plain": [
              "[2, 4, 6, 8, 10]"
            ]
          },
          "metadata": {
            "tags": []
          },
          "execution_count": 218
        }
      ]
    },
    {
      "cell_type": "code",
      "metadata": {
        "colab": {
          "base_uri": "https://localhost:8080/"
        },
        "id": "ECfnhAzhF_V-",
        "outputId": "5efccc10-0bbc-409a-f413-cb519489ffae"
      },
      "source": [
        "# filter()\n",
        "\n",
        "list( filter(lambda x: x > 2 , a) ) \n",
        "# 수행문이 하나일 때 적용"
      ],
      "execution_count": null,
      "outputs": [
        {
          "output_type": "execute_result",
          "data": {
            "text/plain": [
              "[3, 4, 5]"
            ]
          },
          "metadata": {
            "tags": []
          },
          "execution_count": 220
        }
      ]
    },
    {
      "cell_type": "markdown",
      "metadata": {
        "id": "IJSIdxjUWRaf"
      },
      "source": [
        "# 3. 외장함수"
      ]
    },
    {
      "cell_type": "code",
      "metadata": {
        "id": "Jlc_M27GHPXj"
      },
      "source": [
        "import pandas as pd  # as는 별칭구역 ->  이름이 너무 길때\n",
        "import pickle as pk"
      ],
      "execution_count": null,
      "outputs": []
    },
    {
      "cell_type": "markdown",
      "metadata": {
        "id": "vhFB8oRKWRgf"
      },
      "source": [
        "# 4. 람다함수\n",
        "\n",
        "- 휘발성 함수면서 일회용으로 사용\n",
        "- 빠른 처리속도를 요구할때 사용\n",
        "- 함수의 인자로 함수를 넣을 때 사용 -> map(func, ), filter(func, ), ...\n",
        "- 수행문이 하나일 때 사용"
      ]
    },
    {
      "cell_type": "markdown",
      "metadata": {
        "id": "rvHa18rQWRkl"
      },
      "source": [
        "# 5. 클로저\n",
        "\n",
        "- 함수 안에 함수\n",
        "- 함수 **내부**에서 **특정 모듈**을 담당하여 업무를 수행"
      ]
    },
    {
      "cell_type": "code",
      "metadata": {
        "id": "85ajECD9TJZw"
      },
      "source": [
        "def a():\n",
        "  print( 1 )\n",
        "  # 함수 내부에서 특정 모듈을 담당하여 업무를 수행할때 사용\n",
        "  def b():\n",
        "    print( 2 )\n",
        "  b() # 단순히 호출로 끝낼 수 있음.\n",
        "  print( 3 )"
      ],
      "execution_count": null,
      "outputs": []
    },
    {
      "cell_type": "code",
      "metadata": {
        "colab": {
          "base_uri": "https://localhost:8080/"
        },
        "id": "DcqgZWGBbTCO",
        "outputId": "a2230342-529b-41fa-977c-661467702ea2"
      },
      "source": [
        "a()"
      ],
      "execution_count": null,
      "outputs": [
        {
          "output_type": "stream",
          "text": [
            "1\n",
            "2\n",
            "3\n"
          ],
          "name": "stdout"
        }
      ]
    },
    {
      "cell_type": "code",
      "metadata": {
        "id": "lzaGNwABTKFP"
      },
      "source": [
        "def a(x,y):\n",
        "  x = 10\n",
        "  y = 5\n",
        "  def b( z ):\n",
        "    return x + y + z\n",
        "  return b"
      ],
      "execution_count": null,
      "outputs": []
    },
    {
      "cell_type": "code",
      "metadata": {
        "id": "D9X7GSBdTKT_"
      },
      "source": [
        "a(10,1)(1) # 괄호 두개면 클로져 "
      ],
      "execution_count": null,
      "outputs": []
    },
    {
      "cell_type": "code",
      "metadata": {
        "id": "KlHkdCxLTKXh",
        "colab": {
          "base_uri": "https://localhost:8080/",
          "height": 209
        },
        "outputId": "9d508ffa-041d-4f3b-b8c4-c37ead726613"
      },
      "source": [
        "def test():\n",
        "  t = 100   # 함수 안에 지정된 'a'는 지역변수 -> 함수 내부에서만 의미를 가짐(! 주의)\n",
        "  return t  # 해당 변수의 scope 범위는 \"함수 내부\"에만 영향을 미친다.( \"class도 마찬가지\" )\n",
        "\n",
        "test(), t   # 그래서 a를 출력하면 \"name 't' is not defined\""
      ],
      "execution_count": null,
      "outputs": [
        {
          "output_type": "error",
          "ename": "NameError",
          "evalue": "ignored",
          "traceback": [
            "\u001b[0;31m---------------------------------------------------------------------------\u001b[0m",
            "\u001b[0;31mNameError\u001b[0m                                 Traceback (most recent call last)",
            "\u001b[0;32m<ipython-input-4-0cf8c8454108>\u001b[0m in \u001b[0;36m<module>\u001b[0;34m()\u001b[0m\n\u001b[1;32m      3\u001b[0m   \u001b[0;32mreturn\u001b[0m \u001b[0mt\u001b[0m  \u001b[0;31m# 해당 변수의 scope 범위는 \"함수 내부\"에만 영향을 미친다.( \"class도 마찬가지\" )\u001b[0m\u001b[0;34m\u001b[0m\u001b[0;34m\u001b[0m\u001b[0m\n\u001b[1;32m      4\u001b[0m \u001b[0;34m\u001b[0m\u001b[0m\n\u001b[0;32m----> 5\u001b[0;31m \u001b[0mtest\u001b[0m\u001b[0;34m(\u001b[0m\u001b[0;34m)\u001b[0m\u001b[0;34m,\u001b[0m \u001b[0mt\u001b[0m   \u001b[0;31m# 그래서 a를 출력하면 \"name 'a' is not defined\"\u001b[0m\u001b[0;34m\u001b[0m\u001b[0;34m\u001b[0m\u001b[0m\n\u001b[0m",
            "\u001b[0;31mNameError\u001b[0m: name 't' is not defined"
          ]
        }
      ]
    },
    {
      "cell_type": "code",
      "metadata": {
        "id": "68Je9MEoTKiv",
        "colab": {
          "base_uri": "https://localhost:8080/"
        },
        "outputId": "79c86cf7-9b42-4e60-ae74-be3b699d2562"
      },
      "source": [
        "m = 10      # 전역변수\n",
        "\n",
        "def test():\n",
        "  m = 100   # 지역변수\n",
        "  return m \n",
        "\n",
        "test(), m   \n",
        "# 따라서 전역변수인 m을 출력하고 싶어도 출력 못함."
      ],
      "execution_count": null,
      "outputs": [
        {
          "output_type": "execute_result",
          "data": {
            "text/plain": [
              "(100, 10)"
            ]
          },
          "metadata": {
            "tags": []
          },
          "execution_count": 6
        }
      ]
    },
    {
      "cell_type": "code",
      "metadata": {
        "id": "_9PYn8l8S9pA",
        "colab": {
          "base_uri": "https://localhost:8080/"
        },
        "outputId": "98a88d68-7e38-4720-960c-7cc4ef82d0b9"
      },
      "source": [
        "a = 10     \n",
        "# 스타일의 차이, 타 언어와 유사성을 고려하면 이 스타일을 사용할 수\n",
        "def test():\n",
        "  # 함수 내부에서 전역변수를 컨트롤 하고 싶다면?\n",
        "  # global : 전역변수를 처리하는 선언( but, 추천하는 방식은 아님 ) \n",
        "  global a   \n",
        "  a = 100  \n",
        "  return a \n",
        "\n",
        "test(), a   \n",
        "# a = test() \n",
        "# a           <- 이 방식이 더 낫다."
      ],
      "execution_count": null,
      "outputs": [
        {
          "output_type": "execute_result",
          "data": {
            "text/plain": [
              "(100, 100)"
            ]
          },
          "metadata": {
            "tags": []
          },
          "execution_count": 9
        }
      ]
    },
    {
      "cell_type": "code",
      "metadata": {
        "id": "NOvjJ4FAb-fU"
      },
      "source": [
        ""
      ],
      "execution_count": null,
      "outputs": []
    }
  ]
}