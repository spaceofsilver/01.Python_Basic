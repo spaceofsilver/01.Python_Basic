{
  "nbformat": 4,
  "nbformat_minor": 0,
  "metadata": {
    "colab": {
      "name": "1. 파이썬 개요.ipynb",
      "provenance": [],
      "collapsed_sections": [],
      "toc_visible": true,
      "authorship_tag": "ABX9TyMl1mlX1WNrjlllOwro3cgE",
      "include_colab_link": true
    },
    "kernelspec": {
      "name": "python3",
      "display_name": "Python 3"
    }
  },
  "cells": [
    {
      "cell_type": "markdown",
      "metadata": {
        "id": "view-in-github",
        "colab_type": "text"
      },
      "source": [
        "<a href=\"https://colab.research.google.com/github/spaceofsilver/python_basic/blob/main/1_%ED%8C%8C%EC%9D%B4%EC%8D%AC_%EA%B0%9C%EC%9A%94.ipynb\" target=\"_parent\"><img src=\"https://colab.research.google.com/assets/colab-badge.svg\" alt=\"Open In Colab\"/></a>"
      ]
    },
    {
      "cell_type": "code",
      "metadata": {
        "id": "a57bzJ823ZZD"
      },
      "source": [
        "# 코드를 자유롭게 이동가능하다. -> 대화형이기 때문."
      ],
      "execution_count": null,
      "outputs": []
    },
    {
      "cell_type": "markdown",
      "metadata": {
        "id": "gfU6vYGft410"
      },
      "source": [
        "# 파이썬 개요"
      ]
    },
    {
      "cell_type": "markdown",
      "metadata": {
        "id": "6eE6ZHlet7Gz"
      },
      "source": [
        "# 파이썬 구성"
      ]
    },
    {
      "cell_type": "markdown",
      "metadata": {
        "id": "7o_xL8iY8YO2"
      },
      "source": [
        "## 개발환경 구출\n",
        "\n",
        "# 1. 개발환경구축\n",
        "\t- 목표:  파이썬, 파이썬웹, 데이터수집 및 크롤링, 미니프로젝트\n",
        "\n",
        "\t- 향후 : \"머신러닝, 딥러닝\" , 하둡 등(빅데이터 처리)\n",
        "\n",
        "\t- 파이썬: \n",
        "\n",
        "\t# 1. 개발환경 설치\n",
        "\t\t- (1) 기본 ide: python.org 접속 후 특정버전 다운로드 -> 설치(local pc) (고민중)-> 리눅스 상에서 설치( 도커(가상환경:로컬) or AWS) <- 패키지 관리자를 통해 설치\n",
        "      - 기본적으로 2.7 xx 버전과 3.6 or 3.7버전이 기본적으로 깔려있다.\n",
        "\t\t- (2) 풀패키지설치: Anaconda or Miniconda -> 필요한 모든 환경, 패키지를 다 설치 -> 설치(local pc)\n",
        "      - 윈도우 설치시 PATH 체크 수행하기\n",
        "\t\t\t- 아나콘다 네비게이터에서 개발환경을 진입한다(직접 접근도 가능)\n",
        "\t\t\t- 프로젝트에 맞춰서 환경탭에서 가상환경을 하나씩 구성한다: 샌드박스 모델(각각의 가상환경은 서로 영향을 미치지 않는다)\n",
        "\t\t\t- 프로젝트를 한 개의 PC에서 수행하다 보면 패키지의 버전들이 충돌할 수 있음. -> 독립된 개발 환경을 제공함 - virtualenv라는 패키지를 제공, 아나콘다는 메뉴로 제공(빌트인해서). 리눅스 상에서는 직접 구축해야함.\n",
        "\t\t- (3) 클라우드 기반 : 구글의 colab 등( 브라우저에 접속하여 개발) 제공받은 환경에서 개발(jupyter notebook 제공)-> GPU, TPU 등 지원(12시간만)\n",
        "\t--> 개발 ide는 jupyter notebook이용 -> 원래는 데이터 분석용 패키지(ipython) -> jupyter notebook이라는 웹 기반의 분석용 모듈 지원.\n",
        "\t\t\t\t\t  -> 대화형으로 개발, 1줄 1줄에 집중하는 방식. \n",
        "\t\t\t\t\t  -> 작업파일 => ipynb\n",
        "\t\t\t\t\t  -> 기반 OS: 리눅스 우분투 18.04v\n",
        "\t\t\t\t\t  \n",
        "\n",
        "2. 자료실\n",
        "- https://drive.google.com/drive/folders/1CrS_2PEqKMqDdzTc03f0L6941-dNsY5n?usp=sharing\n",
        "\n",
        "- 구글 colab들어가기 -> 새노트"
      ]
    },
    {
      "cell_type": "markdown",
      "metadata": {
        "id": "-MfMnIch-8vx"
      },
      "source": [
        "### editor or IDE\n",
        "\n",
        "- 개발통합환경\n",
        "- 전용 IDE : pycharm, 파이데브, ... 파이xx\n",
        "- 범용 IDE : **vs code**, visual studio, eclipse,...\n"
      ]
    },
    {
      "cell_type": "markdown",
      "metadata": {
        "id": "APeySmL9t7eU"
      },
      "source": [
        "# 파이썬 목차\n"
      ]
    },
    {
      "cell_type": "markdown",
      "metadata": {
        "id": "1I7oYokyuWAF"
      },
      "source": [
        "## 단일 타입 자료형: 데이터의 본질"
      ]
    },
    {
      "cell_type": "markdown",
      "metadata": {
        "id": "C5Ee_M6y_vAZ"
      },
      "source": [
        "수치로 표현하는 데에 중점을 둔다"
      ]
    },
    {
      "cell_type": "markdown",
      "metadata": {
        "id": "vf_zOIVB-I17"
      },
      "source": [
        "- 수치형\n",
        "  - 정수형\n",
        "    - -1,1,0, ...\n",
        "    - 이진수, 8진수, 16진수, ...\n",
        "  - 부동 소수형\n",
        "    - 3.14\n",
        "    - 소수부가 존재하는 타입.\n",
        "- 불린형\n",
        "  - True or False\n",
        "- 문자열: **수정불가**\n",
        "  - '가나다', \"abc\", '15'\n",
        "  -'''가나다''', \"\"\"가나다\"\"\"\""
      ]
    },
    {
      "cell_type": "markdown",
      "metadata": {
        "id": "y02zqE7RumlB"
      },
      "source": [
        "## 연속 타입 자료형\n"
      ]
    },
    {
      "cell_type": "markdown",
      "metadata": {
        "id": "wapJD16UNJto"
      },
      "source": [
        "- 단일 데이터 n개를 모아서 일괄적으로 다양하게 관리하는 자료형, 연속형, 시퀀스타입\n",
        "  - 파이썬\n",
        "    - 문자열: 단일, 연속형 데이터 가능\n",
        "    - 리스트(list)   : [] , 순서 有, 값 중복 허용\n",
        "    - 딕셔너리(dict) : {} , 순서 無, 키-값 세트 존재(키는 중복 불가, 값은 중복 허용)\n",
        "    - 튜플(tuple)    : () , 순서 有, 중복 有, 목적은 단순하게 데이터를 묶는 것. **수정불가**\n",
        "    - 집합(set)      : {} , 순서 無, **중복 제거의 목적**\n",
        "\n",
        "  - 넘파이(numpy): 수학/과학용 라이브러리\n",
        "    - 배열(ndarray): 행렬, **동일타입**으로 데이터가 존재, 스칼라, 벡터, n차 배열\n",
        "\n",
        "  - 판다스(pandas):데이터 사이언스, 분석, 통계용 라이브러리 <-> R에 대응\n",
        "    - 시리즈(series): **동일타입**, 1차배열 + 인덱스\n",
        "    - 데이터 프레임(data frame): 컬럼별 타입은 동일, 2차배열 + 인덱스 + 컬럼\n",
        "\n",
        "  - 딥러닝(Deep learning): 엔진 or 프레임웍(텐서플로우, 파이토치, 케라스)\n",
        "    - 텐서(tensor): 행렬연산이 본질, 멤버들의 데이터는 모두 **수치**( 정수, 부동소수만 존재), 1차,2차,3차 ... n차 텐서"
      ]
    },
    {
      "cell_type": "markdown",
      "metadata": {
        "id": "0M3jlKt7uoZT"
      },
      "source": [
        "## 조건문, 반복문, 제어문: 흐름제어\n"
      ]
    },
    {
      "cell_type": "markdown",
      "metadata": {
        "id": "Mc2SC1aoR3aV"
      },
      "source": [
        "- 제어문: if, elif, else\n",
        "- 반복문: for, while\n",
        "- 조건문: 조건연산자, **False상황을 기억**한다.\n",
        "  - **조건문의 결론은 항상 True or False가 된다**\n",
        "\n",
        "\n",
        "    --> 위의 기능을 조합하여 흐름제어를 완성"
      ]
    },
    {
      "cell_type": "markdown",
      "metadata": {
        "id": "7_qI4xcVutUK"
      },
      "source": [
        "### 절차적 프로그래밍\n",
        "\n",
        "- 타입, 조건문, 반복문, 제어문을 이용하여 특정 주제의 sw개발\n",
        "- 티입, 조건문, 반복문, 제어문 숙련\n",
        "- sw 개발 방식 숙련\n",
        "- IDE: vs code로 사용(sw 개발방식의 코드 작성 위해)"
      ]
    },
    {
      "cell_type": "markdown",
      "metadata": {
        "id": "nD4vuUAuuyHr"
      },
      "source": [
        "## 함수\n"
      ]
    },
    {
      "cell_type": "markdown",
      "metadata": {
        "id": "Et3MCjKjS6Tu"
      },
      "source": [
        "- 역할/의미 \n",
        "- 사용자 정의 함수\n",
        "- 내장함수\n",
        "- 외장함수\n",
        "- 람다 함수: **속도가 제일 빠름**\n",
        "- 클로저\n",
        "- 기타 고급표현(나중에)"
      ]
    },
    {
      "cell_type": "markdown",
      "metadata": {
        "id": "8zVXELTovDFi"
      },
      "source": [
        "### 함수지향적 프로그래밍\n"
      ]
    },
    {
      "cell_type": "markdown",
      "metadata": {
        "id": "-C_z1I6eTb0v"
      },
      "source": [
        "- 함수 지향적으로 프로그램을 작성함으로써 얻는 이득, 장점을 이해\n",
        "- 절차적 => 함수 지향적으로 전환하면서 기술 이해"
      ]
    },
    {
      "cell_type": "markdown",
      "metadata": {
        "id": "Tf1qVnVPvGCy"
      },
      "source": [
        "## 클래스\n"
      ]
    },
    {
      "cell_type": "markdown",
      "metadata": {
        "id": "JoHu6urpTn7I"
      },
      "source": [
        "- 클래스 정의, 의미\n",
        "- 상속, 멤버구성\n",
        "- GUI, 딥러닝에서 keras에서 많이 사용\n",
        "    \n",
        "    --> 만들기 나름"
      ]
    },
    {
      "cell_type": "markdown",
      "metadata": {
        "id": "jZ3XteFOvH8q"
      },
      "source": [
        "### 객체 지향적 프로그래밍\n"
      ]
    },
    {
      "cell_type": "markdown",
      "metadata": {
        "id": "JvRVQGVxvMr6"
      },
      "source": [
        "## 모듈 및 패키지\n"
      ]
    },
    {
      "cell_type": "markdown",
      "metadata": {
        "id": "2-kAPoP2UGJT"
      },
      "source": [
        "- 모듈: 파이썬 파일: *.py\n",
        "- 패키지: 디렉토리, 같은 계열의 모듈들을 계층적으로 관리\n",
        "- 내가 만든 모듈 or 패키지를 다른사람이 사용한다면 어떻게 구성하고 가져다 사용하는가?"
      ]
    },
    {
      "cell_type": "markdown",
      "metadata": {
        "id": "_qf2UrAKvPNj"
      },
      "source": [
        "## 예외 처리\n"
      ]
    },
    {
      "cell_type": "markdown",
      "metadata": {
        "id": "Bi6FeAr5Unih"
      },
      "source": [
        "- sw전제: \"죽으면 안된다.\" 특히 서버쪽은 더더욱\n",
        "- 오류가 발생할만한 곳에 예외처리를 수행\n",
        "- 발생할만한 대부분의 위치는 I/O 처리시 발생\n",
        "\n",
        "- try ~ : 5가지 처리 형태가 존재"
      ]
    },
    {
      "cell_type": "markdown",
      "metadata": {
        "id": "xCn4_Wj4vUyj"
      },
      "source": [
        "## 기타 고급 표현\n"
      ]
    },
    {
      "cell_type": "markdown",
      "metadata": {
        "id": "83AP8R3_Vl4R"
      },
      "source": [
        "# 파이썬 웹"
      ]
    },
    {
      "cell_type": "markdown",
      "metadata": {
        "id": "AUDYr_xbVs3J"
      },
      "source": [
        "- 목적: 파이썬으로 웹 프로그램 구현\n",
        "- 사용 이유: 파이널 프로젝트에서 산출물(웹+iot연결 .., GUI+ iot연결.., 레포트)\n",
        "\n",
        "\n",
        "- 과목\n",
        "  - 클라이언트 사이드: 데이터 쉽시 클라이언트를 분석해서 데이터를 수집하는데 베이스 지식이 됨\n",
        "    - html, css, java script\n",
        "  - 서버 사이드\n",
        "    - 파이썬 기반(flask, django)\n",
        "  - 데이터 베이스\n",
        "   - mysql 계열(maria db)\n"
      ]
    },
    {
      "cell_type": "markdown",
      "metadata": {
        "id": "j2SNt83XW_LD"
      },
      "source": [
        "# 데이터 수집\n"
      ]
    },
    {
      "cell_type": "markdown",
      "metadata": {
        "id": "1M5GydL2XBp3"
      },
      "source": [
        "- 데이터 분석(or 사이언스) 시퀀스\n",
        "  - 연구 목표\n",
        "    - 기획, 요구사항 분석, 주제 등 시스템 통합이라는 산출물 기준의 설계\n",
        "  - 데이터 수집\n",
        "    - 데이터 정의, 종류에 대해서 미리 알고 있어야한다.\n",
        "\n",
        "    - 레벨1  : 사내, 공공, 대학 등 법적인 문제가 없는 내에서 제공받음. 현정부에서 전방위로 데이터 구축 중\n",
        "    - 레벨2 : 제공 받을 수 없는 데이터. 직접 수집 --> 웹(open API)\n",
        "    - 레벨3 : 웹(Web Scrapping)\n",
        "    - 레벨4 : 웹(Web Crawling, mectro)- 사람이 직접 뭔가를 수행해야 하는 단계\n",
        "  - 데이터 준비\n",
        "    - 전처리, 정제, 적제\n",
        "  - 데이터 분석\n",
        "    - 6가지 분석모델(시각적 분석, 통계적 분석, ... )\n",
        "  - 모델 수립\n",
        "    - 예측 모델(통계를 이용한 모델, 머신러닝을 이용한 모델, 딥러닝을 이용한 모델)\n",
        "  - 시스템 통합\n",
        "    - 신규 서비스 구성\n",
        "    - 기존 시스템에 기능 추가"
      ]
    },
    {
      "cell_type": "code",
      "metadata": {
        "id": "D959vP28VpO5"
      },
      "source": [
        ""
      ],
      "execution_count": null,
      "outputs": []
    }
  ]
}