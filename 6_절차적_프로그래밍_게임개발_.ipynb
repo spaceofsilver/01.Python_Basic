{
  "nbformat": 4,
  "nbformat_minor": 0,
  "metadata": {
    "colab": {
      "name": "6.절차적 프로그래밍_게임개발 .ipynb",
      "provenance": [],
      "collapsed_sections": [],
      "toc_visible": true,
      "authorship_tag": "ABX9TyM0maFiGLIzfPLizjybq/oM",
      "include_colab_link": true
    },
    "kernelspec": {
      "name": "python3",
      "display_name": "Python 3"
    }
  },
  "cells": [
    {
      "cell_type": "markdown",
      "metadata": {
        "id": "view-in-github",
        "colab_type": "text"
      },
      "source": [
        "<a href=\"https://colab.research.google.com/github/spaceofsilver/python_basic/blob/main/6_%EC%A0%88%EC%B0%A8%EC%A0%81_%ED%94%84%EB%A1%9C%EA%B7%B8%EB%9E%98%EB%B0%8D_%EA%B2%8C%EC%9E%84%EA%B0%9C%EB%B0%9C_.ipynb\" target=\"_parent\"><img src=\"https://colab.research.google.com/assets/colab-badge.svg\" alt=\"Open In Colab\"/></a>"
      ]
    },
    {
      "cell_type": "markdown",
      "metadata": {
        "id": "99jLRHcwAvsC"
      },
      "source": [
        "# 목적\n",
        "\n",
        "- 함수와 클래스(객체) 사용을 배제한, 제한된 환경에서 특정 목적을 가진 sw 혹은 프로그램을 만들어서 기본 자료구조, 흐름제어 등의 사용능력을 극대화하기 위함."
      ]
    },
    {
      "cell_type": "markdown",
      "metadata": {
        "id": "9ssrgJqnBGxd"
      },
      "source": [
        "- 게임 주제:\n",
        "  - 장르: 머드 게임(프롬프트 상에서 대화형으로 게임을 진행)\n",
        "  - 요약: AI가 만드는 1 ~ 100 사이의 임의의 수를, 플레이어가 최소로 시도하여 숫자를 맞추는 게임.=> 숫자 맞추기 게임\n",
        "  - 화면 존재하지 않음."
      ]
    },
    {
      "cell_type": "markdown",
      "metadata": {
        "id": "2Tl14P-ZBps5"
      },
      "source": [
        "# 게임 step\n",
        "  - # step 1\n",
        "    - 게임이 시작하면 \"Enjoy Custom Game World\"라는 문구가 출력\n",
        "  - # step 2\n",
        "    - '게임 제목을 입력하시오 단 20자 이내로 입력가능합니다'라는 문구 출력\n",
        "    - 플레이어가 입력할때까지 무제한으로 대기\n",
        "    - 아무것도 입력하지 않고 엔터를 치면 '정확하게 입력하세요'라고 출력하고 다시 입력을 대기\n",
        "    - 20자 이상 입력하고 엔터를 치면, '20자가 초과되었습니다'를 출력하고 다시 입력 대기\n",
        "    - 20자 이내로 입력하고 엔터를 치면, 'gametitle'이라는 변수에 게임 제목을 담고, 다음 단계로 넘어간다.\n",
        "  - # step 3\n",
        "    - '플레이어의 닉네임을 입력하세요(15자 이내)'\n",
        "    - 입력에 대한 체크 포인트는 step2과 동일\n",
        "    - 플레이어에 대한 닉네임은 'player_name'이라는 변수에 보관\n",
        "  - # step 4\n",
        "    - 게임시작에 앞서 다음과 같은 프롬프트를 출력하고 게임을 시작한다.\n",
        "    \n",
        "\n",
        "          ```\n",
        "          -----------------------------\n",
        "          -       게임제목            -\n",
        "          -        v 1.0              -\n",
        "          -      welcome player room  - \n",
        "          ------------------------------\n",
        "          게임이 시작됩니다. AI가 숫자를 준비합니다. \n",
        "          ```\n",
        "\n",
        "|\n",
        "  - # step 5\n",
        "    - 본게임 시작\n",
        "    - AI가 1 ~ 100 사이 임의의 값을 정수로 하나 **랜덤**하게 생성한다.\n",
        "    - 1 <= x <= 100에서 값을 하나 선택하세요;라는 프롬프트가 뜬다.\n",
        "    - 사용자는 1부터 100사이의 값을 입력한다.\n",
        "\n",
        "    - case\n",
        "    - 입력을 안하고 엔터키를 누를 경우 -> '숫자를 입력해주세요'\n",
        "    - 1보다 작거나 100보다 큰 값을 입력할 경우 -> '범위를 확인해주세요'\n",
        "    - 숫자가 될 수 없는 값을 주고 엔터 -> '숫자가 아닙니다.'\n",
        "    - 정상적인 값을 입력하고 엔터 -> 실행\n",
        "\n",
        "      - 판정: 입력을 다 했다면 AI의 값과 플레이어의 값을 비교 후 같은지 아닌지 출력을 해줌\n",
        "      - and then 다시 입력 대기를 한다. \n",
        "      - 만약 정답을 맞추면? 총 시도 횟수를 10에서 빼서 10 곱한다. 이것을 이번판의 획득점수로 표현하기.\n",
        "      - \" 총 n회 시도해서 m점을 획득하였습니다.\"\n",
        "      - '다시하시겠습니까?'\n",
        "        - 'yes' -> 다시 시작\n",
        "        - 'no' -> 게임 종료 -> 'good bye'하고 게임 마무리하기.\n"
      ]
    },
    {
      "cell_type": "markdown",
      "metadata": {
        "id": "MwJ3xCGyDAc5"
      },
      "source": [
        "# 난수 생성 관련 기능 제공\n",
        "- 외장함수: 특정 모듈을 가져와서 사용한다.\n",
        "- import xxx from yyy\n",
        "- import random  => random.\n"
      ]
    },
    {
      "cell_type": "code",
      "metadata": {
        "id": "5aX0PEuwDjiA"
      },
      "source": [
        "import random"
      ],
      "execution_count": null,
      "outputs": []
    },
    {
      "cell_type": "code",
      "metadata": {
        "colab": {
          "base_uri": "https://localhost:8080/"
        },
        "id": "Nkvew1t_DjkB",
        "outputId": "21206486-017f-4ec0-a14b-42a8852fbcdf"
      },
      "source": [
        "# random.radint(a,b) -> \" a <= x <= b \"\n",
        "set( [ random.randint(1,3) for _ in range(10)] )"
      ],
      "execution_count": null,
      "outputs": [
        {
          "output_type": "execute_result",
          "data": {
            "text/plain": [
              "{1, 2, 3}"
            ]
          },
          "metadata": {
            "tags": []
          },
          "execution_count": 6
        }
      ]
    },
    {
      "cell_type": "code",
      "metadata": {
        "id": "5TRTOeHmEAYF"
      },
      "source": [
        "set( [ random.randint(1,100) for _ in range(100)] )"
      ],
      "execution_count": null,
      "outputs": []
    },
    {
      "cell_type": "markdown",
      "metadata": {
        "id": "iudD40AkF5Uf"
      },
      "source": [
        "# 수치변환이 가능한지 **체크**\n",
        "\n",
        "## 체크는 .isblabla~~~"
      ]
    },
    {
      "cell_type": "code",
      "metadata": {
        "colab": {
          "base_uri": "https://localhost:8080/"
        },
        "id": "uC5tj6KrEAbs",
        "outputId": "0fcc98cd-89f3-4790-b82e-cba4c1d52445"
      },
      "source": [
        "a = '1'\n",
        "a.isdigit(), a.isnumeric(), a.isalpha()"
      ],
      "execution_count": null,
      "outputs": [
        {
          "output_type": "execute_result",
          "data": {
            "text/plain": [
              "(True, True, False)"
            ]
          },
          "metadata": {
            "tags": []
          },
          "execution_count": 28
        }
      ]
    },
    {
      "cell_type": "code",
      "metadata": {
        "colab": {
          "base_uri": "https://localhost:8080/"
        },
        "id": "M-22EOIEDjlp",
        "outputId": "537f43c7-9284-4f63-e1eb-1cc33f3c0a0e"
      },
      "source": [
        "b = '2 ' # 정수 변환시 공백처리는 자동으로 해줌.\n",
        "b.isdigit(), b.isnumeric(), b.isalpha()"
      ],
      "execution_count": null,
      "outputs": [
        {
          "output_type": "execute_result",
          "data": {
            "text/plain": [
              "(False, False, False)"
            ]
          },
          "metadata": {
            "tags": []
          },
          "execution_count": 29
        }
      ]
    },
    {
      "cell_type": "code",
      "metadata": {
        "colab": {
          "base_uri": "https://localhost:8080/"
        },
        "id": "tJGBcAgBGGcR",
        "outputId": "d2da8c6e-fbce-483f-8065-2e42e1c3ff5f"
      },
      "source": [
        "c = '안녕' # 부동소수 , 문자는 정수로 못바꾼다. \n",
        "c.isdigit(), c.isnumeric(), c.isalpha()"
      ],
      "execution_count": null,
      "outputs": [
        {
          "output_type": "execute_result",
          "data": {
            "text/plain": [
              "(False, False, True)"
            ]
          },
          "metadata": {
            "tags": []
          },
          "execution_count": 31
        }
      ]
    },
    {
      "cell_type": "code",
      "metadata": {
        "colab": {
          "base_uri": "https://localhost:8080/"
        },
        "id": "YxUXz1izKgKK",
        "outputId": "ce6f8809-2111-4279-db9c-9aa3cbd42546"
      },
      "source": [
        "d = '1.2'\n",
        "d.isnumeric(), d.isdigit(), d.isalpha()"
      ],
      "execution_count": null,
      "outputs": [
        {
          "output_type": "execute_result",
          "data": {
            "text/plain": [
              "(False, False, False)"
            ]
          },
          "metadata": {
            "tags": []
          },
          "execution_count": 27
        }
      ]
    },
    {
      "cell_type": "code",
      "metadata": {
        "colab": {
          "base_uri": "https://localhost:8080/"
        },
        "id": "pG6AP9vBPHys",
        "outputId": "0a631460-f62b-417a-a2aa-8a8b5769e14e"
      },
      "source": [
        "sum = 0\n",
        "sum += 1 # sum = sum + 1\n",
        "sum"
      ],
      "execution_count": null,
      "outputs": [
        {
          "output_type": "execute_result",
          "data": {
            "text/plain": [
              "1"
            ]
          },
          "metadata": {
            "tags": []
          },
          "execution_count": 37
        }
      ]
    },
    {
      "cell_type": "code",
      "metadata": {
        "id": "AqsPk_W6PH2Q"
      },
      "source": [
        "try_count = 5\n",
        "score = (10 - try_count)*10\n",
        "if score < 0:\n",
        "    score = 0\n",
        "# 삼항 연산자\n",
        "# 참이면 0 아니면 (10-try_count)*10 \n",
        "score = try_count > 0 and 0 or (10-try_count)*10\n",
        "score = 0 if try_count > 0 else (10-try_count)*10"
      ],
      "execution_count": null,
      "outputs": []
    },
    {
      "cell_type": "code",
      "metadata": {
        "colab": {
          "base_uri": "https://localhost:8080/"
        },
        "id": "9N3S1oakquwD",
        "outputId": "c2f1186a-cc30-4a3e-c8f6-0195e3fcbba3"
      },
      "source": [
        "try_count = 7\n",
        "# score = ( 10 - try_count )*10\n",
        "\n",
        "# 조건(1): 시도횟수 10이상이면 0점\n",
        "# 조건(2): 시도횟수 10 미만이면 score식 사용하여 점수\n",
        "\n",
        "# [1] If 를 사용하는 방법\n",
        "if try_count < 10:\n",
        "  score = ( 10 - try_count )*10\n",
        "else:\n",
        "  score = 0\n",
        "\n",
        "# [2] 삼항 연산자 사용\n",
        "\n",
        "# (1) \n",
        "score =  try_count < 10 and (10-try_count)*10 or 0\n",
        "score"
      ],
      "execution_count": null,
      "outputs": [
        {
          "output_type": "execute_result",
          "data": {
            "text/plain": [
              "30"
            ]
          },
          "metadata": {
            "tags": []
          },
          "execution_count": 9
        }
      ]
    },
    {
      "cell_type": "code",
      "metadata": {
        "colab": {
          "base_uri": "https://localhost:8080/"
        },
        "id": "vYdHzhxWquzo",
        "outputId": "c84c71e4-f481-4011-f658-84338ac5c314"
      },
      "source": [
        "# (2) \n",
        "try_count = 7\n",
        "score =  (10-try_count)*10 if try_count < 10 else 0\n",
        "score"
      ],
      "execution_count": null,
      "outputs": [
        {
          "output_type": "execute_result",
          "data": {
            "text/plain": [
              "30"
            ]
          },
          "metadata": {
            "tags": []
          },
          "execution_count": 7
        }
      ]
    },
    {
      "cell_type": "code",
      "metadata": {
        "id": "oghl61Gaqu2m"
      },
      "source": [
        ""
      ],
      "execution_count": null,
      "outputs": []
    },
    {
      "cell_type": "code",
      "metadata": {
        "id": "vah0bTIbqu6z"
      },
      "source": [
        ""
      ],
      "execution_count": null,
      "outputs": []
    },
    {
      "cell_type": "code",
      "metadata": {
        "id": "nmQtER74PH5e",
        "colab": {
          "base_uri": "https://localhost:8080/"
        },
        "outputId": "b00bc3be-c551-4780-dfd6-574c9932019b"
      },
      "source": [
        "try_count = 5\n",
        "score = (10 - try_count)*10\n",
        "\n",
        "score = 0 if try_count > 10 else (10-try_count)*10\n",
        "print(score)"
      ],
      "execution_count": null,
      "outputs": [
        {
          "output_type": "stream",
          "text": [
            "50\n"
          ],
          "name": "stdout"
        }
      ]
    },
    {
      "cell_type": "code",
      "metadata": {
        "colab": {
          "base_uri": "https://localhost:8080/"
        },
        "id": "WSiZX3gvI5Sp",
        "outputId": "f7f5075a-b7a0-4f42-feec-4ee450b25db9"
      },
      "source": [
        "try_count = 5\n",
        "score = (10 - try_count)*10\n",
        "\n",
        "# score = try_count > 0 and 0 or (10-try_count)*10\n",
        "# False를 의미하는 값들이 and에 존재하면 의도하지 않은 결과를 보게 됨.\n",
        "score = try_count <= 10 and 0 or (10-try_count)*10\n",
        "print(score)"
      ],
      "execution_count": null,
      "outputs": [
        {
          "output_type": "stream",
          "text": [
            "50\n"
          ],
          "name": "stdout"
        }
      ]
    },
    {
      "cell_type": "code",
      "metadata": {
        "id": "Gg5M1yY6I5Wf"
      },
      "source": [
        ""
      ],
      "execution_count": null,
      "outputs": []
    },
    {
      "cell_type": "code",
      "metadata": {
        "id": "BmnKZOel5P_V"
      },
      "source": [
        "# github 가입하깅\n",
        "# aws가입\n",
        "\n"
      ],
      "execution_count": null,
      "outputs": []
    }
  ]
}