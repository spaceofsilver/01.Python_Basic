{
  "nbformat": 4,
  "nbformat_minor": 0,
  "metadata": {
    "colab": {
      "name": "5. 불린_조건문, 반복문, 제어문, 흐름제어.ipynb",
      "provenance": [],
      "collapsed_sections": [],
      "toc_visible": true,
      "authorship_tag": "ABX9TyPOvyBdsVXySHbLphvS6FcL",
      "include_colab_link": true
    },
    "kernelspec": {
      "name": "python3",
      "display_name": "Python 3"
    }
  },
  "cells": [
    {
      "cell_type": "markdown",
      "metadata": {
        "id": "view-in-github",
        "colab_type": "text"
      },
      "source": [
        "<a href=\"https://colab.research.google.com/github/spaceofsilver/python_basic/blob/main/5_%EB%B6%88%EB%A6%B0_%EC%A1%B0%EA%B1%B4%EB%AC%B8%2C_%EB%B0%98%EB%B3%B5%EB%AC%B8%2C_%EC%A0%9C%EC%96%B4%EB%AC%B8%2C_%ED%9D%90%EB%A6%84%EC%A0%9C%EC%96%B4.ipynb\" target=\"_parent\"><img src=\"https://colab.research.google.com/assets/colab-badge.svg\" alt=\"Open In Colab\"/></a>"
      ]
    },
    {
      "cell_type": "markdown",
      "metadata": {
        "id": "dWR9OLv_GdA2"
      },
      "source": [
        "# 흐름제어\n",
        "\n",
        "- 코드의 흐름을 컨트롤함\n",
        "- 분기, 반복 등의 작업을 수행하여 sw의 결론에 도달하는 방식\n",
        "- 조건문에서 판단을 통해 분기를 수행하는 것\n",
        "    \n",
        "    \n",
        "    -->판단의 결론은 **True or False**로 나옴"
      ]
    },
    {
      "cell_type": "markdown",
      "metadata": {
        "id": "GIaZ7Cm3GLJO"
      },
      "source": [
        "# 불린\n",
        "\n",
        "- 값은 참(True) or 거짓(False)\n",
        "- **False 상황을 기억한다**\n",
        "  - 조건문에 다음의 값이 존재하거나, 결론이 다음값이면? (값이 비어있는 값들)\n",
        "  - 0, 0.0, '', [], {}, (), None, Nan --> False\n",
        "  - 조건식의 표현이 간결해진다. \n",
        "\n",
        "  - 기타 조건식에 의해 False가 나오면? --> 그냥 False"
      ]
    },
    {
      "cell_type": "markdown",
      "metadata": {
        "id": "u5eF7Z1HGLp8"
      },
      "source": [
        "# if, elif, else\n",
        "- 만약 xx라면 yy해라\n",
        "- 만약 xx이면, xx하고 , yy이면 yy하고..\n",
        "\n",
        "    --> 이처럼 가정이 들어감. 케이스가 존재"
      ]
    },
    {
      "cell_type": "markdown",
      "metadata": {
        "id": "XOvO7Wyud5il"
      },
      "source": [
        "## 비교 연산자"
      ]
    },
    {
      "cell_type": "code",
      "metadata": {
        "colab": {
          "base_uri": "https://localhost:8080/"
        },
        "id": "fwON7pQGWif-",
        "outputId": "1020b839-3da0-4728-f202-58980c8a5d4f"
      },
      "source": [
        "'''\n",
        "현재 자스민 커피숍이다. 커피를 구매하고 결재를 하려는 상황\n",
        "직원이 1500원이라고 말한다. \n",
        "직원은 포스에서 계산을 한다. 현금결제 케이스는 모두 3개다.\n",
        "과하게, 적게, 딱 맞게 입력을 했을 경우다. \n",
        "'''\n",
        "coffe_price = int(input('구매하신 커피는 1500원 입니다.: 입력 금액  '))\n",
        "price = 1500\n",
        "# pass는 포지션을 차지하고는 있는데 아무일도 하지 않음\n",
        "# -> 조건문, 반복문, 함수 클래스 등 틀을 잡을 때 사용.\n",
        "\n",
        "# 비교연산자: >,<,==,!=\n",
        "# 비트연산자: not, and, or\n",
        "\n",
        "# input()을 통해서 입력받은 데이터는 무조건 문자열이다.\n",
        "# 문자열을 수치로 변경해야됨\n",
        "# 파이썬의 들여쓰기는 탭으로 밀어주면 된다.\n",
        "\n",
        "if coffe_price > price:       # : 는 코드블럭이 시작되는 것. \n",
        "  print('거스름돈 드리겠습니다.',  \"{}원 여기있습니다.\".format(coffe_price-price))       \n",
        "elif coffe_price == price:\n",
        "  print('감사합니다.')\n",
        "else:\n",
        "  print(f'고객님, {price}원 주셔야 합니다.', f'{price - coffe}원이 부족합니다.')\n",
        "  # 퍼포먼스를 고려하여 가장 빈도가 높은 케이스를 먼저 표시하는게 낫다.\n",
        "  "
      ],
      "execution_count": null,
      "outputs": [
        {
          "output_type": "stream",
          "text": [
            "구매하신 커피는 1500원 입니다.: 입력 금액  2000\n",
            "거스름돈 드리겠습니다. 500원 여기있습니다.\n"
          ],
          "name": "stdout"
        }
      ]
    },
    {
      "cell_type": "code",
      "metadata": {
        "id": "Hosv_vbkCr_p",
        "colab": {
          "base_uri": "https://localhost:8080/"
        },
        "outputId": "24e4df7d-ff36-4f25-e414-e63bde19d971"
      },
      "source": [
        "isRunning = False\n",
        "# 코드블럭의 수행문이 1개면 옆으로 나열할 수 있음.\n",
        "# 한줄에 수행문에 ; 구분자 쓰면 여러개를 나열가능\n",
        "if isRunning is True:print('가동중');print('가동가동')\n",
        "else:print('중단중')"
      ],
      "execution_count": null,
      "outputs": [
        {
          "output_type": "stream",
          "text": [
            "중단중\n"
          ],
          "name": "stdout"
        }
      ]
    },
    {
      "cell_type": "markdown",
      "metadata": {
        "id": "wIh1GT6LdsgM"
      },
      "source": [
        "## 비트 연산자 : not, and, or"
      ]
    },
    {
      "cell_type": "code",
      "metadata": {
        "colab": {
          "base_uri": "https://localhost:8080/"
        },
        "id": "_SkpOwqBWjCn",
        "outputId": "6afa6e4b-998d-411f-a5b3-54b51e6deac7"
      },
      "source": [
        "# 비트 연산 중 부정을 잡는 조건문 => not\n",
        "# 안되는 거 혹은 False 상황을 잡는 케이스\n",
        "\n",
        "isRunning = False\n",
        "if isRunning is True:\n",
        "  print(\"it's running\")\n",
        "else:\n",
        "  print(\"it's stopped\")"
      ],
      "execution_count": null,
      "outputs": [
        {
          "output_type": "stream",
          "text": [
            "it's stopped\n"
          ],
          "name": "stdout"
        }
      ]
    },
    {
      "cell_type": "code",
      "metadata": {
        "colab": {
          "base_uri": "https://localhost:8080/"
        },
        "id": "ce4686-OdCc9",
        "outputId": "b1e561a9-6a04-418b-b948-719df2f125fe"
      },
      "source": [
        "# 중단임을 먼저 확인하고 싶다면?\n",
        "if not isRunning:\n",
        "  print('중단됨')"
      ],
      "execution_count": null,
      "outputs": [
        {
          "output_type": "stream",
          "text": [
            "중단됨\n"
          ],
          "name": "stdout"
        }
      ]
    },
    {
      "cell_type": "code",
      "metadata": {
        "colab": {
          "base_uri": "https://localhost:8080/"
        },
        "id": "_ODyw7ojdCis",
        "outputId": "b014606c-fe65-42f7-8e83-76d2ef5ffbd1"
      },
      "source": [
        "# 비트 연산 and : 모두 참이어야만 참이다. \n",
        "True and True, True and False, False and True, False and False"
      ],
      "execution_count": null,
      "outputs": [
        {
          "output_type": "execute_result",
          "data": {
            "text/plain": [
              "(True, False, False, False)"
            ]
          },
          "metadata": {
            "tags": []
          },
          "execution_count": 43
        }
      ]
    },
    {
      "cell_type": "code",
      "metadata": {
        "colab": {
          "base_uri": "https://localhost:8080/"
        },
        "id": "ncdYBQL9dgiW",
        "outputId": "30bdee92-b6f4-411a-f3a2-49a1e1439a92"
      },
      "source": [
        "# 비트 연산 : or\n",
        "True or True, True or False, False or True, False or False"
      ],
      "execution_count": null,
      "outputs": [
        {
          "output_type": "execute_result",
          "data": {
            "text/plain": [
              "(True, True, True, False)"
            ]
          },
          "metadata": {
            "tags": []
          },
          "execution_count": 44
        }
      ]
    },
    {
      "cell_type": "markdown",
      "metadata": {
        "id": "7EHCF3JOeBWK"
      },
      "source": [
        "## **삼항 연산자**: 조건이 2개일 때\n",
        "\n",
        "- 파이썬은 공식적으로 삼항 연산자를 지원하지 않는다.\n",
        "- => ( 조건 ? 참일 때 값: 거짓일 때 값 ; )\n",
        "- 파이썬은 대체해서 사용 \n",
        "- 조건: ***상황이 2개***인 경우 해당"
      ]
    },
    {
      "cell_type": "code",
      "metadata": {
        "id": "6pQ8mK3LqqsY"
      },
      "source": [
        ""
      ],
      "execution_count": null,
      "outputs": []
    },
    {
      "cell_type": "code",
      "metadata": {
        "id": "SJ7GMjMAqqvp"
      },
      "source": [
        ""
      ],
      "execution_count": null,
      "outputs": []
    },
    {
      "cell_type": "code",
      "metadata": {
        "id": "5c3sGKTuqqy0"
      },
      "source": [
        ""
      ],
      "execution_count": null,
      "outputs": []
    },
    {
      "cell_type": "code",
      "metadata": {
        "id": "MaUa-CfUqq1Y"
      },
      "source": [
        ""
      ],
      "execution_count": null,
      "outputs": []
    },
    {
      "cell_type": "code",
      "metadata": {
        "colab": {
          "base_uri": "https://localhost:8080/",
          "height": 35
        },
        "id": "AlLPR66eeC4c",
        "outputId": "f4ae9858-2ec5-4ae4-9e1f-43626f95fd32"
      },
      "source": [
        "a = 1500\n",
        "b = 1600\n",
        "# (1)방식: 변수 = 조건 and 참일 때 or 거짓일 때\n",
        "msg = b >= a and f'거스름돈은 {b-a}입니다.' or f'{a-b}원이 부족'\n",
        "msg"
      ],
      "execution_count": null,
      "outputs": [
        {
          "output_type": "execute_result",
          "data": {
            "application/vnd.google.colaboratory.intrinsic+json": {
              "type": "string"
            },
            "text/plain": [
              "'거스름돈은 100입니다.'"
            ]
          },
          "metadata": {
            "tags": []
          },
          "execution_count": 47
        }
      ]
    },
    {
      "cell_type": "code",
      "metadata": {
        "colab": {
          "base_uri": "https://localhost:8080/",
          "height": 35
        },
        "id": "N6xdjDPWeDE7",
        "outputId": "7baf0ad2-dd64-4de8-9897-c37c1451ac97"
      },
      "source": [
        "# (2)방식: 변수= 참일 때 값 if 조건 \n",
        "msg =  f'거스름돈은 {b-a}입니다.' if  b >= a else f'{a-b}원이 부족'\n",
        "msg"
      ],
      "execution_count": null,
      "outputs": [
        {
          "output_type": "execute_result",
          "data": {
            "application/vnd.google.colaboratory.intrinsic+json": {
              "type": "string"
            },
            "text/plain": [
              "'거스름돈은 100입니다.'"
            ]
          },
          "metadata": {
            "tags": []
          },
          "execution_count": 48
        }
      ]
    },
    {
      "cell_type": "code",
      "metadata": {
        "colab": {
          "base_uri": "https://localhost:8080/"
        },
        "id": "AG7cYRKHj5Z6",
        "outputId": "338fe9f9-998e-4c54-d1bf-74ba5ad8ffe1"
      },
      "source": [
        "# 조건문\n",
        "a = [1,2,3]\n",
        "# in 연산자\n",
        "# in을 조건문에 사용하면 연속 데이터 타입의 멤버를 조사\n",
        "2 in a , 4 in a"
      ],
      "execution_count": null,
      "outputs": [
        {
          "output_type": "execute_result",
          "data": {
            "text/plain": [
              "(True, False)"
            ]
          },
          "metadata": {
            "tags": []
          },
          "execution_count": 51
        }
      ]
    },
    {
      "cell_type": "markdown",
      "metadata": {
        "id": "ekbX-XK4GMCH"
      },
      "source": [
        "# for\n",
        "\n",
        "- 특정한(지정된) 횟수만큼 반복한다\n",
        " - for\n",
        "- 언제 끝날지 모르겠는데 반복은 해야한다? ( 0 ~ inf)\n",
        "  - while"
      ]
    },
    {
      "cell_type": "markdown",
      "metadata": {
        "id": "oeIdSV1IkZ55"
      },
      "source": [
        "- for ~ index 방식(미지원), for ~ each(지원,in) 방식\n",
        "\n",
        "- python은 for ~ each만 지원"
      ]
    },
    {
      "cell_type": "code",
      "metadata": {
        "colab": {
          "base_uri": "https://localhost:8080/"
        },
        "id": "GNca8q2TjgwW",
        "outputId": "039a2963-73cb-43b3-f2f2-980201d66b49"
      },
      "source": [
        "a_list = [1,2,3,4,5]\n",
        "# 한 개씩 꺼내서 출력\n",
        "# 연속 데이터 타입의 변수명은 복수로 묘사하기 -> 보고 직관적으로 이해할 수 있도록\n",
        "\n",
        "for item in a_list:\n",
        "  print( item ) "
      ],
      "execution_count": null,
      "outputs": [
        {
          "output_type": "stream",
          "text": [
            "1\n",
            "2\n",
            "3\n",
            "4\n",
            "5\n"
          ],
          "name": "stdout"
        }
      ]
    },
    {
      "cell_type": "code",
      "metadata": {
        "colab": {
          "base_uri": "https://localhost:8080/"
        },
        "id": "DJo-croijg1s",
        "outputId": "c2d4583b-4985-4783-b8f1-0ed0a9455d20"
      },
      "source": [
        "items = [ (1,2),(3,4),(5,6),(7,8)]\n",
        "\n",
        "for i in items:\n",
        "  for j in i:\n",
        "    print(j) # 값들을 \"직접 변수\"(-> 구조분해 )로 받아서 데이터를 획득하고 싶다."
      ],
      "execution_count": null,
      "outputs": [
        {
          "output_type": "stream",
          "text": [
            "1\n",
            "2\n",
            "3\n",
            "4\n",
            "5\n",
            "6\n",
            "7\n",
            "8\n"
          ],
          "name": "stdout"
        }
      ]
    },
    {
      "cell_type": "code",
      "metadata": {
        "colab": {
          "base_uri": "https://localhost:8080/"
        },
        "id": "UFzKhVVGjg5t",
        "outputId": "a8e05b32-5904-4324-eb2e-9bb8a74c3f87"
      },
      "source": [
        "items = [ (1,2),(3,4),(5,6),(7,8)]\n",
        "\n",
        "for _,b in items: # 앞에 값은 필요없고 뒤에 값만 필요할 때\n",
        "  print(b)"
      ],
      "execution_count": null,
      "outputs": [
        {
          "output_type": "stream",
          "text": [
            "2\n",
            "4\n",
            "6\n",
            "8\n"
          ],
          "name": "stdout"
        }
      ]
    },
    {
      "cell_type": "code",
      "metadata": {
        "colab": {
          "base_uri": "https://localhost:8080/"
        },
        "id": "lPF1v7P6nZUY",
        "outputId": "5a21d161-14ce-4dda-9a09-b4c246b99ef4"
      },
      "source": [
        "items = [ (1,2),(3,4),(5,6),(7,8)]\n",
        "\n",
        "for a,b in items:\n",
        "  print(a, b)"
      ],
      "execution_count": null,
      "outputs": [
        {
          "output_type": "stream",
          "text": [
            "1 2\n",
            "3 4\n",
            "5 6\n",
            "7 8\n"
          ],
          "name": "stdout"
        }
      ]
    },
    {
      "cell_type": "code",
      "metadata": {
        "id": "mUFJJLObniwn"
      },
      "source": [
        "# 환율 데이터\n",
        "exchanges = [{'code': 'USD','buy':1118.11},\n",
        "             {'code': 'EUR','buy':1318}]"
      ],
      "execution_count": null,
      "outputs": []
    },
    {
      "cell_type": "code",
      "metadata": {
        "colab": {
          "base_uri": "https://localhost:8080/"
        },
        "id": "Va-VgoWtni4I",
        "outputId": "5fba5c14-16c6-4499-9520-a24bd079e498"
      },
      "source": [
        "# 데이터를 돌면서 USD를 \"구매할 때 한화로 1216원이 필요합니다.\"\" 이렇게 출력\n",
        "\n",
        "for i in exchanges:\n",
        "  # print(i) -> 딕셔너리에서 \"키\"를 넣어서 값을 추출 => 인덱싱\n",
        "  # 문자열이나 코드가 길어져서 내려칠 땐 \\ 표현하여 이어짐 표시\n",
        "    print('{}를 구매할 때 한화로 {}원이 필요합니다.'.format(i['code'], i['buy'])) "
      ],
      "execution_count": null,
      "outputs": [
        {
          "output_type": "stream",
          "text": [
            "USD를 구매할 때 한화로 1118.11원이 필요합니다.\n",
            "EUR를 구매할 때 한화로 1318원이 필요합니다.\n"
          ],
          "name": "stdout"
        }
      ]
    },
    {
      "cell_type": "code",
      "metadata": {
        "colab": {
          "base_uri": "https://localhost:8080/"
        },
        "id": "y4uxUxi9rltc",
        "outputId": "6bae1178-b273-4d31-ce93-857a9962a65c"
      },
      "source": [
        "# 딕셔너리 데이터를 for문으로 사용해본다면\n",
        "\n",
        "for dic in exchanges[0]: #리스트의 0번 인덱싱\n",
        "  print(dic) # 키값 나옴."
      ],
      "execution_count": null,
      "outputs": [
        {
          "output_type": "stream",
          "text": [
            "code\n",
            "buy\n"
          ],
          "name": "stdout"
        }
      ]
    },
    {
      "cell_type": "code",
      "metadata": {
        "colab": {
          "base_uri": "https://localhost:8080/"
        },
        "id": "g_Y2V1FtsLI-",
        "outputId": "ebd5bb29-2ea4-4f03-b891-67ee178ef1e2"
      },
      "source": [
        "# 값을 출력하고싶다면\n",
        "for key in exchanges[0]: #리스트의 0번 인덱싱\n",
        "  print(exchanges[0][key]) # 키값 나옴."
      ],
      "execution_count": null,
      "outputs": [
        {
          "output_type": "stream",
          "text": [
            "USD\n",
            "1118.11\n"
          ],
          "name": "stdout"
        }
      ]
    },
    {
      "cell_type": "code",
      "metadata": {
        "colab": {
          "base_uri": "https://localhost:8080/"
        },
        "id": "KgEWjV69sVUs",
        "outputId": "da1200ba-3a15-4ea7-c7c3-e6afb4b6ad8c"
      },
      "source": [
        "exchanges[0]"
      ],
      "execution_count": null,
      "outputs": [
        {
          "output_type": "execute_result",
          "data": {
            "text/plain": [
              "{'buy': 1118.11, 'code': 'USD'}"
            ]
          },
          "metadata": {
            "tags": []
          },
          "execution_count": 93
        }
      ]
    },
    {
      "cell_type": "code",
      "metadata": {
        "colab": {
          "base_uri": "https://localhost:8080/"
        },
        "id": "RMyPujJis3jq",
        "outputId": "2a906df4-a5ec-491d-c016-8239193180f5"
      },
      "source": [
        "# 딕셔너리 값을 좀 더 심플하게 키와 값을 추출하기\n",
        "\n",
        "tmp = exchanges[0]\n",
        "tmp.items() # 딕셔너리를 [ (키, 값),(키, 값),... ]"
      ],
      "execution_count": null,
      "outputs": [
        {
          "output_type": "execute_result",
          "data": {
            "text/plain": [
              "dict_items([('code', 'USD'), ('buy', 1118.11)])"
            ]
          },
          "metadata": {
            "tags": []
          },
          "execution_count": 5
        }
      ]
    },
    {
      "cell_type": "code",
      "metadata": {
        "colab": {
          "base_uri": "https://localhost:8080/"
        },
        "id": "WWOVkm0Vs3pC",
        "outputId": "8aacfd87-a6b0-4b4f-dbac-959f25ad0bee"
      },
      "source": [
        "for a,b in tmp.items():\n",
        "  print(a,b)\n",
        "  print(f'{a}를 환전하면 한화로 {b}를 지불해야합니다.')"
      ],
      "execution_count": null,
      "outputs": [
        {
          "output_type": "stream",
          "text": [
            "code USD\n",
            "code를 환전하면 한화로 USD를 지불해야합니다.\n",
            "buy 1118.11\n",
            "buy를 환전하면 한화로 1118.11를 지불해야합니다.\n"
          ],
          "name": "stdout"
        }
      ]
    },
    {
      "cell_type": "code",
      "metadata": {
        "colab": {
          "base_uri": "https://localhost:8080/"
        },
        "id": "r72xnUQ_w3bJ",
        "outputId": "f255f6ee-a21b-41f7-eadb-fbe3de397356"
      },
      "source": [
        "for x in tmp.items():\n",
        "  print(x)"
      ],
      "execution_count": null,
      "outputs": [
        {
          "output_type": "stream",
          "text": [
            "('code', 'USD')\n",
            "('buy', 1118.11)\n"
          ],
          "name": "stdout"
        }
      ]
    },
    {
      "cell_type": "code",
      "metadata": {
        "colab": {
          "base_uri": "https://localhost:8080/"
        },
        "id": "hrguRjBLuGpw",
        "outputId": "685978ee-ec94-44c8-ca38-aec363f1539c"
      },
      "source": [
        "# 만약 딕셔너리 데이터에서 인덱스를 사용하고 싶다면?\n",
        "# n개의 데이터를 같이 반복문에서 사용할 경우\n",
        "\n",
        "# enumerate(): 내장함수, 임의의 인덱스를 부여하여 멤버를 추출\n",
        "for i in enumerate(tmp):\n",
        "  print(i)"
      ],
      "execution_count": null,
      "outputs": [
        {
          "output_type": "stream",
          "text": [
            "(0, 'code')\n",
            "(1, 'buy')\n"
          ],
          "name": "stdout"
        }
      ]
    },
    {
      "cell_type": "code",
      "metadata": {
        "colab": {
          "base_uri": "https://localhost:8080/"
        },
        "id": "0k-vbt_ouGtz",
        "outputId": "18c8642f-36db-45ac-ac2b-ed03d5b82ce1"
      },
      "source": [
        "for key in tmp:\n",
        "  print(key, tmp[key])"
      ],
      "execution_count": null,
      "outputs": [
        {
          "output_type": "stream",
          "text": [
            "code USD\n",
            "buy 1118.11\n"
          ],
          "name": "stdout"
        }
      ]
    },
    {
      "cell_type": "code",
      "metadata": {
        "colab": {
          "base_uri": "https://localhost:8080/"
        },
        "id": "H0YdK1s6xqWL",
        "outputId": "3f470206-4339-4cc6-c558-f086d330831d"
      },
      "source": [
        "# 딕셔너리는 순서가 없기 때문에, 키가 나오는 순서대로 임의로 인덱스를 붙임\n",
        "for index, key in enumerate(tmp): # 결과값이 튜플이기 때문에 분해 가능\n",
        "  print(index,key, tmp[key])"
      ],
      "execution_count": null,
      "outputs": [
        {
          "output_type": "stream",
          "text": [
            "0 code USD\n",
            "1 buy 1118.11\n"
          ],
          "name": "stdout"
        }
      ]
    },
    {
      "cell_type": "code",
      "metadata": {
        "colab": {
          "base_uri": "https://localhost:8080/"
        },
        "id": "XblumGIsyX3Z",
        "outputId": "309b65c2-7bbb-4df9-85fd-6e5a822c7c9f"
      },
      "source": [
        "# 연속된 수를 나열하는 range(start, stop[, step] ) -> []는 생략가능!\n",
        "# 기본 step(값이 증가하는 간격)은 1이 default값이다.\n",
        "for n in range(1,10): # start <= n <= stop \n",
        "  print(n) #-> 1~9"
      ],
      "execution_count": null,
      "outputs": [
        {
          "output_type": "stream",
          "text": [
            "1\n",
            "2\n",
            "3\n",
            "4\n",
            "5\n",
            "6\n",
            "7\n",
            "8\n",
            "9\n"
          ],
          "name": "stdout"
        }
      ]
    },
    {
      "cell_type": "code",
      "metadata": {
        "colab": {
          "base_uri": "https://localhost:8080/"
        },
        "id": "BXAxjWMpyX8K",
        "outputId": "ce56d40d-deb5-4360-bc11-c61896807027"
      },
      "source": [
        "for n in range(0,10,2):\n",
        "  print(n)"
      ],
      "execution_count": null,
      "outputs": [
        {
          "output_type": "stream",
          "text": [
            "0\n",
            "2\n",
            "4\n",
            "6\n",
            "8\n"
          ],
          "name": "stdout"
        }
      ]
    },
    {
      "cell_type": "code",
      "metadata": {
        "colab": {
          "base_uri": "https://localhost:8080/"
        },
        "id": "iWaMaReYyYAe",
        "outputId": "55b3fa64-0549-4456-cbd2-f2316c362a52"
      },
      "source": [
        "# range()를 활용하여 비트연산( 0,1 )\n",
        "# 출력값: 0,0, 비트 연산(and, or, xor)\n",
        "# 출력값: 1,0, 비트 연산(and, or, xor)\n",
        "# 출력값: 0,1, 비트 연산(and, or, xor)\n",
        "# 출력값: 1,1, 비트 연산(and, or, xor) # xor은 둘이 다를 때 참이 된다. \n",
        "\n",
        "# 2중 for문 케이스\n",
        "\n",
        "for i in range(2): # 0,1만 옴\n",
        "  for m in range(2): # 0,1\n",
        "    print(f'n={i}, m={m} bit연산 => {i and m},{i or m},{i ^ m}')"
      ],
      "execution_count": null,
      "outputs": [
        {
          "output_type": "stream",
          "text": [
            "n=0, m=0 bit연산 => 0,0,0\n",
            "n=0, m=1 bit연산 => 0,1,1\n",
            "n=1, m=0 bit연산 => 0,1,1\n",
            "n=1, m=1 bit연산 => 1,1,0\n"
          ],
          "name": "stdout"
        }
      ]
    },
    {
      "cell_type": "markdown",
      "metadata": {
        "id": "ohUJWAf57Tlg"
      },
      "source": [
        "## 구구단"
      ]
    },
    {
      "cell_type": "code",
      "metadata": {
        "colab": {
          "base_uri": "https://localhost:8080/"
        },
        "id": "u9EnzAJ62Ftp",
        "outputId": "938bfce5-258a-494a-c035-a279be3282db"
      },
      "source": [
        "# Level1 : 구구단을 3단부터 5단까지 구현하시오\n",
        "for i in range(3,6): # 단\n",
        "  for j in range(1,10):\n",
        "    print(f'{i} x {j} = {i*j}')"
      ],
      "execution_count": null,
      "outputs": [
        {
          "output_type": "stream",
          "text": [
            "3 x 1 = 3\n",
            "3 x 2 = 6\n",
            "3 x 3 = 9\n",
            "3 x 4 = 12\n",
            "3 x 5 = 15\n",
            "3 x 6 = 18\n",
            "3 x 7 = 21\n",
            "3 x 8 = 24\n",
            "3 x 9 = 27\n",
            "4 x 1 = 4\n",
            "4 x 2 = 8\n",
            "4 x 3 = 12\n",
            "4 x 4 = 16\n",
            "4 x 5 = 20\n",
            "4 x 6 = 24\n",
            "4 x 7 = 28\n",
            "4 x 8 = 32\n",
            "4 x 9 = 36\n",
            "5 x 1 = 5\n",
            "5 x 2 = 10\n",
            "5 x 3 = 15\n",
            "5 x 4 = 20\n",
            "5 x 5 = 25\n",
            "5 x 6 = 30\n",
            "5 x 7 = 35\n",
            "5 x 8 = 40\n",
            "5 x 9 = 45\n"
          ],
          "name": "stdout"
        }
      ]
    },
    {
      "cell_type": "code",
      "metadata": {
        "colab": {
          "base_uri": "https://localhost:8080/"
        },
        "id": "kpMX5FUK4o7x",
        "outputId": "cf4b108d-5014-433e-d1e7-09f9c03f0cc4"
      },
      "source": [
        "for i in range(3,6): # 단\n",
        "  for j in range(1,10):\n",
        "    print(f'{i} x {j} = {i*j:>2}')"
      ],
      "execution_count": null,
      "outputs": [
        {
          "output_type": "stream",
          "text": [
            "3 x 1 =  3\n",
            "3 x 2 =  6\n",
            "3 x 3 =  9\n",
            "3 x 4 = 12\n",
            "3 x 5 = 15\n",
            "3 x 6 = 18\n",
            "3 x 7 = 21\n",
            "3 x 8 = 24\n",
            "3 x 9 = 27\n",
            "4 x 1 =  4\n",
            "4 x 2 =  8\n",
            "4 x 3 = 12\n",
            "4 x 4 = 16\n",
            "4 x 5 = 20\n",
            "4 x 6 = 24\n",
            "4 x 7 = 28\n",
            "4 x 8 = 32\n",
            "4 x 9 = 36\n",
            "5 x 1 =  5\n",
            "5 x 2 = 10\n",
            "5 x 3 = 15\n",
            "5 x 4 = 20\n",
            "5 x 5 = 25\n",
            "5 x 6 = 30\n",
            "5 x 7 = 35\n",
            "5 x 8 = 40\n",
            "5 x 9 = 45\n"
          ],
          "name": "stdout"
        }
      ]
    },
    {
      "cell_type": "code",
      "metadata": {
        "colab": {
          "base_uri": "https://localhost:8080/"
        },
        "id": "Ai9tBJ6p2F1P",
        "outputId": "8f7c3c1d-e1c0-4f25-c13d-f2ccb03c610b"
      },
      "source": [
        "# Level2 : 구구단을 3단 5단만 출력\n",
        "for i in range(3,6,2):\n",
        "  for j in range(1,10):\n",
        "    print(f'{i} x {j} = {i*j}')"
      ],
      "execution_count": null,
      "outputs": [
        {
          "output_type": "stream",
          "text": [
            "3 x 1 = 3\n",
            "3 x 2 = 6\n",
            "3 x 3 = 9\n",
            "3 x 4 = 12\n",
            "3 x 5 = 15\n",
            "3 x 6 = 18\n",
            "3 x 7 = 21\n",
            "3 x 8 = 24\n",
            "3 x 9 = 27\n",
            "5 x 1 = 5\n",
            "5 x 2 = 10\n",
            "5 x 3 = 15\n",
            "5 x 4 = 20\n",
            "5 x 5 = 25\n",
            "5 x 6 = 30\n",
            "5 x 7 = 35\n",
            "5 x 8 = 40\n",
            "5 x 9 = 45\n"
          ],
          "name": "stdout"
        }
      ]
    },
    {
      "cell_type": "code",
      "metadata": {
        "colab": {
          "base_uri": "https://localhost:8080/"
        },
        "id": "zoS27K6t5CdH",
        "outputId": "077281dc-71df-4294-d216-422dab5ae7cb"
      },
      "source": [
        "# Level3: level2코드를 한줄로 표현하시오. 결과는 리스트에 모두 담는다.\n",
        "# 결과 중심으로 코드를 구성함\n",
        "\n",
        "# (1) 리스트에 담는다.\n",
        "gugudan = [] # 담을 그릇을 준비.\n",
        "for i in range(3,6,2):\n",
        "  for j in range(1,10):\n",
        "    gugudan.append(f'{i} x {j} = {i*j}') # 담는다\n",
        "\n",
        "print(gugudan) #확인"
      ],
      "execution_count": null,
      "outputs": [
        {
          "output_type": "stream",
          "text": [
            "['3 x 1 = 3', '3 x 2 = 6', '3 x 3 = 9', '3 x 4 = 12', '3 x 5 = 15', '3 x 6 = 18', '3 x 7 = 21', '3 x 8 = 24', '3 x 9 = 27', '5 x 1 = 5', '5 x 2 = 10', '5 x 3 = 15', '5 x 4 = 20', '5 x 5 = 25', '5 x 6 = 30', '5 x 7 = 35', '5 x 8 = 40', '5 x 9 = 45']\n"
          ],
          "name": "stdout"
        }
      ]
    },
    {
      "cell_type": "markdown",
      "metadata": {
        "id": "3B_a2gAq7Kxj"
      },
      "source": [
        "## 리스트 내포\n",
        "\n",
        "- 딕셔너리 내포도 있다.\n",
        "- 형태에 따라 이름을 붙인다.\n",
        "- 결과중심으로 코드를 간결하게 짠다"
      ]
    },
    {
      "cell_type": "code",
      "metadata": {
        "colab": {
          "base_uri": "https://localhost:8080/"
        },
        "id": "CSonHIqC5gqY",
        "outputId": "b2866403-17ee-4bd1-fc3e-3db82a02fc8e"
      },
      "source": [
        "# (2) 코드를 한줄로 표현\n",
        "# 결과를 중심으로 코드 구성\n",
        "[f'{i} x {j} = {i*j}'  \n",
        " \n",
        " \n",
        " for i in range(3,6,2)  \n",
        " for j in range(1,10) \n",
        " if j > 5\n",
        " ]\n",
        "# --> 리스트 내포"
      ],
      "execution_count": null,
      "outputs": [
        {
          "output_type": "execute_result",
          "data": {
            "text/plain": [
              "['3 x 6 = 18',\n",
              " '3 x 7 = 21',\n",
              " '3 x 8 = 24',\n",
              " '3 x 9 = 27',\n",
              " '5 x 6 = 30',\n",
              " '5 x 7 = 35',\n",
              " '5 x 8 = 40',\n",
              " '5 x 9 = 45']"
            ]
          },
          "metadata": {
            "tags": []
          },
          "execution_count": 159
        }
      ]
    },
    {
      "cell_type": "code",
      "metadata": {
        "colab": {
          "base_uri": "https://localhost:8080/"
        },
        "id": "cQCuPpJX2F6B",
        "outputId": "ca166044-4f53-4891-bb9e-9b6c3046f1fa"
      },
      "source": [
        "dan = int(input('단을 입력하세요 '))\n",
        "print(f'{dan}단을 시작합니다' )\n",
        "for i in range(1,10):\n",
        "  print(f'{dan} x {i} = {dan*i}')"
      ],
      "execution_count": null,
      "outputs": [
        {
          "output_type": "stream",
          "text": [
            "단을 입력하세요 15\n",
            "15단을 시작합니다\n",
            "15 x 1 = 15\n",
            "15 x 2 = 30\n",
            "15 x 3 = 45\n",
            "15 x 4 = 60\n",
            "15 x 5 = 75\n",
            "15 x 6 = 90\n",
            "15 x 7 = 105\n",
            "15 x 8 = 120\n",
            "15 x 9 = 135\n"
          ],
          "name": "stdout"
        }
      ]
    },
    {
      "cell_type": "markdown",
      "metadata": {
        "id": "TLkvZr5wGRBJ"
      },
      "source": [
        "# while\n",
        "- 0 ~ inf의 수행횟수를 가진 반복문\n",
        "- 타언어는 1~ 무한대도 있음( do~while )\n",
        "- **언제 끝날지 모를 때**"
      ]
    },
    {
      "cell_type": "code",
      "metadata": {
        "id": "THqWP_7eyXaZ",
        "colab": {
          "base_uri": "https://localhost:8080/"
        },
        "outputId": "33f9acc0-b02b-44f9-90ef-150be23e9547"
      },
      "source": [
        "a = [1,2,3,4,5]\n",
        "a, type(a), len(a)"
      ],
      "execution_count": null,
      "outputs": [
        {
          "output_type": "execute_result",
          "data": {
            "text/plain": [
              "([1, 2, 3, 4, 5], list, 5)"
            ]
          },
          "metadata": {
            "tags": []
          },
          "execution_count": 13
        }
      ]
    },
    {
      "cell_type": "code",
      "metadata": {
        "id": "8CIdd_AxGQeO",
        "colab": {
          "base_uri": "https://localhost:8080/"
        },
        "outputId": "584a675b-7b43-4eec-da19-45f776769759"
      },
      "source": [
        "'''\n",
        "while 조건:\n",
        "  여러줄의 수행문(statements)\n",
        "'''\n",
        "# a의 멤버가 없어질 때까지 반복하여, 반복할 때 각 멤버를 추출 -> a의 멤버가 존재하면\n",
        "# 멤버를 뒤에서 혹은 앞에서 추출하여 출력하라는 전제가 없기 대문에 pop()사용해도 무방하다.\n",
        "\n",
        "while len(a) > 0:\n",
        "  print(a.pop() ) # pop은 뒤에서부터 뽑는다"
      ],
      "execution_count": null,
      "outputs": [
        {
          "output_type": "stream",
          "text": [
            "5\n",
            "4\n",
            "3\n",
            "2\n",
            "1\n"
          ],
          "name": "stdout"
        }
      ]
    },
    {
      "cell_type": "code",
      "metadata": {
        "id": "qX0-AkrIGSrD",
        "colab": {
          "base_uri": "https://localhost:8080/"
        },
        "outputId": "6bd4b85a-9ea2-4d8e-ab05-4fa8bc42ccdc"
      },
      "source": [
        "# 파이썬이라면 좀더 줄일 수 있지 않나? => 조건문의 결론: True or False\n",
        "# False로 판단되는 상황 => 0, 0.0, Nan, None, '', [],(),{}, ... 기타조건 상황\n",
        "# a => list\n",
        "# 멤버가 존재할 때까지라는 조건이 존재함. \n",
        "\n",
        "while a:\n",
        "  print(a.pop() )"
      ],
      "execution_count": null,
      "outputs": [
        {
          "output_type": "stream",
          "text": [
            "5\n",
            "4\n",
            "3\n",
            "2\n",
            "1\n"
          ],
          "name": "stdout"
        }
      ]
    },
    {
      "cell_type": "code",
      "metadata": {
        "id": "6K8k2F3SGEa9",
        "colab": {
          "base_uri": "https://localhost:8080/"
        },
        "outputId": "0cffbdcd-7c0f-46c2-cfcb-c6bcb7894b24"
      },
      "source": [
        "a = [1,2,3,4,5]\n",
        "while a:\n",
        "  print('위에서 조건 체크하고 조건을 만족하면 코드블럭 수행')\n",
        "  print(f'총 멤버수는 {len(a)}')\n",
        "  print(a.pop() )\n",
        "  print(f'남은 총 멤버수는 {len(a)}');print('-'*30)"
      ],
      "execution_count": null,
      "outputs": [
        {
          "output_type": "stream",
          "text": [
            "위에서 조건 체크하고 조건을 만족하면 코드블럭 수행\n",
            "총 멤버수는 5\n",
            "5\n",
            "남은 총 멤버수는 4\n",
            "------------------------------\n",
            "위에서 조건 체크하고 조건을 만족하면 코드블럭 수행\n",
            "총 멤버수는 4\n",
            "4\n",
            "남은 총 멤버수는 3\n",
            "------------------------------\n",
            "위에서 조건 체크하고 조건을 만족하면 코드블럭 수행\n",
            "총 멤버수는 3\n",
            "3\n",
            "남은 총 멤버수는 2\n",
            "------------------------------\n",
            "위에서 조건 체크하고 조건을 만족하면 코드블럭 수행\n",
            "총 멤버수는 2\n",
            "2\n",
            "남은 총 멤버수는 1\n",
            "------------------------------\n",
            "위에서 조건 체크하고 조건을 만족하면 코드블럭 수행\n",
            "총 멤버수는 1\n",
            "1\n",
            "남은 총 멤버수는 0\n",
            "------------------------------\n"
          ],
          "name": "stdout"
        }
      ]
    },
    {
      "cell_type": "code",
      "metadata": {
        "colab": {
          "base_uri": "https://localhost:8080/"
        },
        "id": "-bx2yYlE0ivP",
        "outputId": "1e0565c7-92c1-491c-e860-fbc930819828"
      },
      "source": [
        "# 반복문이 중간에 \"중단없이\" 모두 계획대로 반복했는가를 체크 -> else\n",
        "# else는 for문 while문 , try 등에서 정상적으로 수행되었는지를 check하는 표현\n",
        "\n",
        "a = [1,2,3,4,5]\n",
        "while a:\n",
        "  print(a.pop() )\n",
        "else:\n",
        "  print('정상적으로 중간에 중단없이 반복문이 수행되었다는 것을 보증합니다. \\\n",
        "          잘 돌았네요')"
      ],
      "execution_count": null,
      "outputs": [
        {
          "output_type": "stream",
          "text": [
            "5\n",
            "4\n",
            "3\n",
            "2\n",
            "1\n",
            "정상적으로 중간에 중단없이 반복문이 수행되었다는 것을 보증합니다.           잘 돌았네요\n"
          ],
          "name": "stdout"
        }
      ]
    },
    {
      "cell_type": "markdown",
      "metadata": {
        "id": "OszXWQzP1gbQ"
      },
      "source": [
        "## break\n",
        "\n",
        "- 통상 조건문과 함께, 혹은 단독으로 break를 사용하는 지점에서 반복문을 중단시킴\n",
        "- break는 ***자신을 둘러싸고 있는 가장 가까운 반복문***을 빠져나가게 해준다.\n"
      ]
    },
    {
      "cell_type": "code",
      "metadata": {
        "colab": {
          "base_uri": "https://localhost:8080/"
        },
        "id": "7TjG4Nkc2ED3",
        "outputId": "a0addd87-ae97-414f-8aa0-1674a62fc061"
      },
      "source": [
        "a = [1,2,3,4,5]\n",
        "while a:\n",
        "  print('뽑아내는 중', a.pop() )\n",
        "  if len(a) == 2: # 남은 멤버수가 2개면\n",
        "    break         # 중단해라. 뭘? while문(반복문)을 빠져나가라\n",
        "else:\n",
        "  print('정상적으로 중간에 중단없이 반복문이 수행되었다는 것을 보증합니다') # (! 중요) 반복문이 중단되었기 때문에 여기로 진입하지 않음\n",
        "  # else구문은 필요시 사용하면 됨."
      ],
      "execution_count": null,
      "outputs": [
        {
          "output_type": "stream",
          "text": [
            "뽑아내는 중 5\n",
            "뽑아내는 중 4\n",
            "뽑아내는 중 3\n"
          ],
          "name": "stdout"
        }
      ]
    },
    {
      "cell_type": "markdown",
      "metadata": {
        "id": "H7wsA75a1t48"
      },
      "source": [
        "## continue\n",
        "\n",
        "- 조건문과 함께 쓰거나 단독으로 사용하는 지점에서 반복문의 조건식으로 바로 점프한다.\n",
        "- continue를 둘러싸고 있는 가장 가까운 반복문으로 점프!\n",
        "- 점프하면 바로 조건문 수행\n",
        "- while, for만 사용가능 -> 주로 while에서 많이 써"
      ]
    },
    {
      "cell_type": "code",
      "metadata": {
        "colab": {
          "base_uri": "https://localhost:8080/"
        },
        "id": "LZ1xViO92EH5",
        "outputId": "ebeed475-15ab-4a06-c2f2-f472c065208d"
      },
      "source": [
        "a = [1,2,3,4,5]\n",
        "while a:\n",
        "  tmp =  a.pop() \n",
        "  if tmp % 2 == 0: # 짝수라면\n",
        "    continue\n",
        "  print(tmp)\n",
        "  if len(a) == 1:\n",
        "    break      \n",
        "else:\n",
        "  # 중간에 중단된 적이 없으므려 출력된다.(continue는 관계없다.)\n",
        "  print('정상적으로 중간에 중단없이 반복문이 수행되었다는 것을 보증합니다')"
      ],
      "execution_count": null,
      "outputs": [
        {
          "output_type": "stream",
          "text": [
            "5\n",
            "3\n",
            "1\n",
            "정상적으로 중간에 중단없이 반복문이 수행되었다는 것을 보증합니다\n"
          ],
          "name": "stdout"
        }
      ]
    },
    {
      "cell_type": "code",
      "metadata": {
        "id": "7Dl7yTiO2EQR"
      },
      "source": [
        ""
      ],
      "execution_count": null,
      "outputs": []
    },
    {
      "cell_type": "code",
      "metadata": {
        "id": "kT7RNeUb0yEi"
      },
      "source": [
        ""
      ],
      "execution_count": null,
      "outputs": []
    },
    {
      "cell_type": "code",
      "metadata": {
        "id": "x1L7_uUx0yId"
      },
      "source": [
        ""
      ],
      "execution_count": null,
      "outputs": []
    },
    {
      "cell_type": "code",
      "metadata": {
        "id": "1Q8nLCMN0yLr"
      },
      "source": [
        ""
      ],
      "execution_count": null,
      "outputs": []
    },
    {
      "cell_type": "code",
      "metadata": {
        "id": "keAttum00yPY"
      },
      "source": [
        ""
      ],
      "execution_count": null,
      "outputs": []
    },
    {
      "cell_type": "code",
      "metadata": {
        "id": "C7RrgW8d0yS2"
      },
      "source": [
        ""
      ],
      "execution_count": null,
      "outputs": []
    },
    {
      "cell_type": "code",
      "metadata": {
        "id": "0-QqbFQ70yVq"
      },
      "source": [
        ""
      ],
      "execution_count": null,
      "outputs": []
    }
  ]
}