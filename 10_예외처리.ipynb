{
  "nbformat": 4,
  "nbformat_minor": 0,
  "metadata": {
    "colab": {
      "name": "10.예외처리.ipynb",
      "provenance": [],
      "collapsed_sections": [],
      "authorship_tag": "ABX9TyPxGXGq65Rx0Usyy6GWcR2h",
      "include_colab_link": true
    },
    "kernelspec": {
      "name": "python3",
      "display_name": "Python 3"
    }
  },
  "cells": [
    {
      "cell_type": "markdown",
      "metadata": {
        "id": "view-in-github",
        "colab_type": "text"
      },
      "source": [
        "<a href=\"https://colab.research.google.com/github/spaceofsilver/python_basic/blob/main/10_%EC%98%88%EC%99%B8%EC%B2%98%EB%A6%AC.ipynb\" target=\"_parent\"><img src=\"https://colab.research.google.com/assets/colab-badge.svg\" alt=\"Open In Colab\"/></a>"
      ]
    },
    {
      "cell_type": "markdown",
      "metadata": {
        "id": "Vo7IssUhGk02"
      },
      "source": [
        "- 's/w는 중단되면 안된다'라는 전제를 지키기 위해 "
      ]
    },
    {
      "cell_type": "code",
      "metadata": {
        "colab": {
          "base_uri": "https://localhost:8080/"
        },
        "id": "BOYRwcdGGJM-",
        "outputId": "0a30693b-80ba-48fc-f9bc-38fe0b0c34db"
      },
      "source": [
        "try:\n",
        "  # 예외가 발생할만한 코드를 감싼다 -> I/o(입출력은 잠재적으로 오류 가능성 존재)\n",
        "  print(1)\n",
        "  1/0\n",
        "  print(2)\n",
        "except Exception as e:  # 예외를 잡아서 처리\n",
        "    print(3,e)\n",
        "else:                   # 예외사항이 없이 잘 수행되었다면 호출\n",
        "    print(4)\n",
        "finally:                # 무조건 수행(오류가 있든 없든)\n",
        "    print(5)"
      ],
      "execution_count": null,
      "outputs": [
        {
          "output_type": "stream",
          "text": [
            "1\n",
            "3 division by zero\n",
            "5\n"
          ],
          "name": "stdout"
        }
      ]
    },
    {
      "cell_type": "code",
      "metadata": {
        "colab": {
          "base_uri": "https://localhost:8080/"
        },
        "id": "FiHJVrS2Hj_X",
        "outputId": "baa1bc44-1424-42a0-dba3-abac17d306cb"
      },
      "source": [
        "try:\n",
        "  print(1)\n",
        "  print(2)\n",
        "except Exception as e:  # 예외를 잡아서 처리\n",
        "    print(3,e)          # 예외가 존재하면 출력 =  예외가 없으면 출력 안해\n",
        "else:                  \n",
        "    print(4)\n",
        "finally:                \n",
        "    print(5)\n",
        "\n",
        "# 따라서 결과물은 예외가 없는 정상적인 수행문\n",
        "# else, finally는 생략가능"
      ],
      "execution_count": null,
      "outputs": [
        {
          "output_type": "stream",
          "text": [
            "1\n",
            "2\n",
            "4\n",
            "5\n"
          ],
          "name": "stdout"
        }
      ]
    },
    {
      "cell_type": "code",
      "metadata": {
        "id": "I8MDOm31HkEX"
      },
      "source": [
        ""
      ],
      "execution_count": null,
      "outputs": []
    },
    {
      "cell_type": "code",
      "metadata": {
        "id": "_Is3jfJiHkIX"
      },
      "source": [
        ""
      ],
      "execution_count": null,
      "outputs": []
    },
    {
      "cell_type": "markdown",
      "metadata": {
        "id": "84g97TR-GUkk"
      },
      "source": [
        ""
      ]
    }
  ]
}